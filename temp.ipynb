{
 "cells": [
  {
   "cell_type": "markdown",
   "metadata": {},
   "source": [
    "# Testing"
   ]
  },
  {
   "cell_type": "markdown",
   "metadata": {},
   "source": [
    "# Notebook"
   ]
  },
  {
   "cell_type": "code",
   "execution_count": 3,
   "metadata": {},
   "outputs": [],
   "source": [
    "import pandas as pd\n",
    "import altair as alt\n",
    "from matplotlib import pyplot as plt\n",
    "from pathlib import Path\n",
    "%matplotlib inline\n",
    "%load_ext autoreload\n",
    "%autoreload 2\n",
    "import numpy as np"
   ]
  },
  {
   "cell_type": "code",
   "execution_count": 4,
   "metadata": {},
   "outputs": [],
   "source": [
    "DATA = Path('data')"
   ]
  },
  {
   "cell_type": "code",
   "execution_count": 5,
   "metadata": {},
   "outputs": [
    {
     "data": {
      "text/html": [
       "<div>\n",
       "<style scoped>\n",
       "    .dataframe tbody tr th:only-of-type {\n",
       "        vertical-align: middle;\n",
       "    }\n",
       "\n",
       "    .dataframe tbody tr th {\n",
       "        vertical-align: top;\n",
       "    }\n",
       "\n",
       "    .dataframe thead th {\n",
       "        text-align: right;\n",
       "    }\n",
       "</style>\n",
       "<table border=\"1\" class=\"dataframe\">\n",
       "  <thead>\n",
       "    <tr style=\"text-align: right;\">\n",
       "      <th></th>\n",
       "      <th>id</th>\n",
       "      <th>seq</th>\n",
       "      <th>topWait</th>\n",
       "      <th>hospTime</th>\n",
       "      <th>hospCoord</th>\n",
       "      <th>hospUrlB5</th>\n",
       "      <th>hospUrlEn</th>\n",
       "      <th>hospUrlGb</th>\n",
       "      <th>pastHours</th>\n",
       "      <th>hospNameB5</th>\n",
       "      <th>hospNameEn</th>\n",
       "      <th>hospNameGb</th>\n",
       "      <th>hospTimeEn</th>\n",
       "    </tr>\n",
       "  </thead>\n",
       "  <tbody>\n",
       "    <tr>\n",
       "      <th>0</th>\n",
       "      <td>QMH 21/2/2019 9:00am</td>\n",
       "      <td>HK-02</td>\n",
       "      <td>&gt; 2</td>\n",
       "      <td>2019-02-21T09:00:09.29</td>\n",
       "      <td>POINT(114.131259 22.270695)</td>\n",
       "      <td>http://www.ha.org.hk/visitor/ha_visitor_index....</td>\n",
       "      <td>http://www.ha.org.hk/visitor/ha_visitor_index....</td>\n",
       "      <td>http://www.ha.org.hk/visitor/ha_visitor_index....</td>\n",
       "      <td>3</td>\n",
       "      <td>瑪麗醫院</td>\n",
       "      <td>Queen Mary Hospital</td>\n",
       "      <td>玛丽医院</td>\n",
       "      <td>21/2/2019 9:00am</td>\n",
       "    </tr>\n",
       "    <tr>\n",
       "      <th>1</th>\n",
       "      <td>AHN 21/2/2019 10:00am</td>\n",
       "      <td>NT-01</td>\n",
       "      <td>&gt; 1</td>\n",
       "      <td>2019-02-21T10:00:01.783</td>\n",
       "      <td>POINT(114.17472 22.458575)</td>\n",
       "      <td>http://www.ha.org.hk/visitor/ha_visitor_index....</td>\n",
       "      <td>http://www.ha.org.hk/visitor/ha_visitor_index....</td>\n",
       "      <td>http://www.ha.org.hk/visitor/ha_visitor_index....</td>\n",
       "      <td>3</td>\n",
       "      <td>雅麗氏何妙齡那打素醫院</td>\n",
       "      <td>Alice Ho Miu Ling Nethersole Hospital</td>\n",
       "      <td>雅丽氏何妙龄那打素医院</td>\n",
       "      <td>21/2/2019 10:00am</td>\n",
       "    </tr>\n",
       "    <tr>\n",
       "      <th>2</th>\n",
       "      <td>QMH 21/2/2019 11:00am</td>\n",
       "      <td>HK-02</td>\n",
       "      <td>&gt; 1</td>\n",
       "      <td>2019-02-21T11:00:11.893</td>\n",
       "      <td>POINT(114.131259 22.270695)</td>\n",
       "      <td>http://www.ha.org.hk/visitor/ha_visitor_index....</td>\n",
       "      <td>http://www.ha.org.hk/visitor/ha_visitor_index....</td>\n",
       "      <td>http://www.ha.org.hk/visitor/ha_visitor_index....</td>\n",
       "      <td>3</td>\n",
       "      <td>瑪麗醫院</td>\n",
       "      <td>Queen Mary Hospital</td>\n",
       "      <td>玛丽医院</td>\n",
       "      <td>21/2/2019 11:00am</td>\n",
       "    </tr>\n",
       "    <tr>\n",
       "      <th>3</th>\n",
       "      <td>AHN 21/2/2019 12:00pm</td>\n",
       "      <td>NT-01</td>\n",
       "      <td>&gt; 1</td>\n",
       "      <td>2019-02-21T12:00:02.256</td>\n",
       "      <td>POINT(114.17472 22.458575)</td>\n",
       "      <td>http://www.ha.org.hk/visitor/ha_visitor_index....</td>\n",
       "      <td>http://www.ha.org.hk/visitor/ha_visitor_index....</td>\n",
       "      <td>http://www.ha.org.hk/visitor/ha_visitor_index....</td>\n",
       "      <td>3</td>\n",
       "      <td>雅麗氏何妙齡那打素醫院</td>\n",
       "      <td>Alice Ho Miu Ling Nethersole Hospital</td>\n",
       "      <td>雅丽氏何妙龄那打素医院</td>\n",
       "      <td>21/2/2019 12:00pm</td>\n",
       "    </tr>\n",
       "    <tr>\n",
       "      <th>4</th>\n",
       "      <td>PYN 21/2/2019 12:00pm</td>\n",
       "      <td>HK-01</td>\n",
       "      <td>&gt; 3</td>\n",
       "      <td>2019-02-21T12:00:01.646</td>\n",
       "      <td>POINT(114.235707 22.269419)</td>\n",
       "      <td>http://www.ha.org.hk/visitor/ha_visitor_index....</td>\n",
       "      <td>http://www.ha.org.hk/visitor/ha_visitor_index....</td>\n",
       "      <td>http://www.ha.org.hk/visitor/ha_visitor_index....</td>\n",
       "      <td>3</td>\n",
       "      <td>東區尤德夫人那打素醫院</td>\n",
       "      <td>Pamela Youde Nethersole Eastern Hospital</td>\n",
       "      <td>东区尤德夫人那打素医院</td>\n",
       "      <td>21/2/2019 12:00pm</td>\n",
       "    </tr>\n",
       "  </tbody>\n",
       "</table>\n",
       "</div>"
      ],
      "text/plain": [
       "                      id    seq topWait                 hospTime  \\\n",
       "0   QMH 21/2/2019 9:00am  HK-02     > 2   2019-02-21T09:00:09.29   \n",
       "1  AHN 21/2/2019 10:00am  NT-01     > 1  2019-02-21T10:00:01.783   \n",
       "2  QMH 21/2/2019 11:00am  HK-02     > 1  2019-02-21T11:00:11.893   \n",
       "3  AHN 21/2/2019 12:00pm  NT-01     > 1  2019-02-21T12:00:02.256   \n",
       "4  PYN 21/2/2019 12:00pm  HK-01     > 3  2019-02-21T12:00:01.646   \n",
       "\n",
       "                     hospCoord  \\\n",
       "0  POINT(114.131259 22.270695)   \n",
       "1   POINT(114.17472 22.458575)   \n",
       "2  POINT(114.131259 22.270695)   \n",
       "3   POINT(114.17472 22.458575)   \n",
       "4  POINT(114.235707 22.269419)   \n",
       "\n",
       "                                           hospUrlB5  \\\n",
       "0  http://www.ha.org.hk/visitor/ha_visitor_index....   \n",
       "1  http://www.ha.org.hk/visitor/ha_visitor_index....   \n",
       "2  http://www.ha.org.hk/visitor/ha_visitor_index....   \n",
       "3  http://www.ha.org.hk/visitor/ha_visitor_index....   \n",
       "4  http://www.ha.org.hk/visitor/ha_visitor_index....   \n",
       "\n",
       "                                           hospUrlEn  \\\n",
       "0  http://www.ha.org.hk/visitor/ha_visitor_index....   \n",
       "1  http://www.ha.org.hk/visitor/ha_visitor_index....   \n",
       "2  http://www.ha.org.hk/visitor/ha_visitor_index....   \n",
       "3  http://www.ha.org.hk/visitor/ha_visitor_index....   \n",
       "4  http://www.ha.org.hk/visitor/ha_visitor_index....   \n",
       "\n",
       "                                           hospUrlGb  pastHours   hospNameB5  \\\n",
       "0  http://www.ha.org.hk/visitor/ha_visitor_index....          3         瑪麗醫院   \n",
       "1  http://www.ha.org.hk/visitor/ha_visitor_index....          3  雅麗氏何妙齡那打素醫院   \n",
       "2  http://www.ha.org.hk/visitor/ha_visitor_index....          3         瑪麗醫院   \n",
       "3  http://www.ha.org.hk/visitor/ha_visitor_index....          3  雅麗氏何妙齡那打素醫院   \n",
       "4  http://www.ha.org.hk/visitor/ha_visitor_index....          3  東區尤德夫人那打素醫院   \n",
       "\n",
       "                                 hospNameEn   hospNameGb         hospTimeEn  \n",
       "0                       Queen Mary Hospital         玛丽医院   21/2/2019 9:00am  \n",
       "1     Alice Ho Miu Ling Nethersole Hospital  雅丽氏何妙龄那打素医院  21/2/2019 10:00am  \n",
       "2                       Queen Mary Hospital         玛丽医院  21/2/2019 11:00am  \n",
       "3     Alice Ho Miu Ling Nethersole Hospital  雅丽氏何妙龄那打素医院  21/2/2019 12:00pm  \n",
       "4  Pamela Youde Nethersole Eastern Hospital  东区尤德夫人那打素医院  21/2/2019 12:00pm  "
      ]
     },
     "execution_count": 5,
     "metadata": {},
     "output_type": "execute_result"
    }
   ],
   "source": [
    "df = pd.read_csv(DATA/'ae_data.csv')\n",
    "df.head()"
   ]
  },
  {
   "cell_type": "code",
   "execution_count": 6,
   "metadata": {},
   "outputs": [
    {
     "data": {
      "text/html": [
       "<div>\n",
       "<style scoped>\n",
       "    .dataframe tbody tr th:only-of-type {\n",
       "        vertical-align: middle;\n",
       "    }\n",
       "\n",
       "    .dataframe tbody tr th {\n",
       "        vertical-align: top;\n",
       "    }\n",
       "\n",
       "    .dataframe thead th {\n",
       "        text-align: right;\n",
       "    }\n",
       "</style>\n",
       "<table border=\"1\" class=\"dataframe\">\n",
       "  <thead>\n",
       "    <tr style=\"text-align: right;\">\n",
       "      <th></th>\n",
       "      <th>Long</th>\n",
       "      <th>Lat</th>\n",
       "    </tr>\n",
       "  </thead>\n",
       "  <tbody>\n",
       "    <tr>\n",
       "      <th>0</th>\n",
       "      <td>114.131259</td>\n",
       "      <td>22.270695</td>\n",
       "    </tr>\n",
       "    <tr>\n",
       "      <th>1</th>\n",
       "      <td>114.17472</td>\n",
       "      <td>22.458575</td>\n",
       "    </tr>\n",
       "    <tr>\n",
       "      <th>2</th>\n",
       "      <td>114.131259</td>\n",
       "      <td>22.270695</td>\n",
       "    </tr>\n",
       "    <tr>\n",
       "      <th>3</th>\n",
       "      <td>114.17472</td>\n",
       "      <td>22.458575</td>\n",
       "    </tr>\n",
       "    <tr>\n",
       "      <th>4</th>\n",
       "      <td>114.235707</td>\n",
       "      <td>22.269419</td>\n",
       "    </tr>\n",
       "  </tbody>\n",
       "</table>\n",
       "</div>"
      ],
      "text/plain": [
       "         Long        Lat\n",
       "0  114.131259  22.270695\n",
       "1   114.17472  22.458575\n",
       "2  114.131259  22.270695\n",
       "3   114.17472  22.458575\n",
       "4  114.235707  22.269419"
      ]
     },
     "execution_count": 6,
     "metadata": {},
     "output_type": "execute_result"
    }
   ],
   "source": [
    "x=df['hospCoord'].str.extract(r'\\((.+)\\)')[0].str.split().tolist()\n",
    "x=pd.DataFrame(x, columns=['Long', 'Lat'])\n",
    "x.head()"
   ]
  },
  {
   "cell_type": "code",
   "execution_count": 7,
   "metadata": {},
   "outputs": [],
   "source": [
    "df = pd.concat([df, x],axis=1)"
   ]
  },
  {
   "cell_type": "code",
   "execution_count": 8,
   "metadata": {},
   "outputs": [
    {
     "name": "stderr",
     "output_type": "stream",
     "text": [
      "/home/nok/anaconda3/envs/fastai/lib/python3.6/site-packages/ipykernel_launcher.py:3: SettingWithCopyWarning: \n",
      "A value is trying to be set on a copy of a slice from a DataFrame\n",
      "\n",
      "See the caveats in the documentation: http://pandas.pydata.org/pandas-docs/stable/indexing.html#indexing-view-versus-copy\n",
      "  This is separate from the ipykernel package so we can avoid doing imports until\n"
     ]
    }
   ],
   "source": [
    "df['topWaitTime'] = df['topWait'].copy()\n",
    "df['topWaitTime']  = df['topWaitTime'].str.replace('> ', '')\n",
    "df['topWaitTime'][df['topWaitTime']== '< 1'] = 0.5\n",
    "df['topWaitTime'] = df['topWaitTime'].fillna(0)\n",
    "df['topWaitTime'] = df['topWaitTime'].astype(float)"
   ]
  },
  {
   "cell_type": "code",
   "execution_count": 9,
   "metadata": {},
   "outputs": [],
   "source": [
    "df['hospTime'] = pd.to_datetime(df['hospTime'])\n",
    "df['hospTimeHour'] = df['hospTime'].dt.hour\n",
    "df['hospTimeWeek'] = df['hospTime'].dt.week\n",
    "df['hospTimeDay'] = df['hospTime'].dt.day\n",
    "df['hospTimeYear'] = df['hospTime'].dt.year\n",
    "df['hospTimeMonth'] = df['hospTime'].dt.month \n",
    "df['hospTimeWeekDay'] = df['hospTime'].dt.weekday + 1\n",
    "df['hospTimeWeekDayName'] = df['hospTime'].dt.weekday_name\n",
    "# df['hospTimeDate'] = df['hospTime'].dt.date"
   ]
  },
  {
   "cell_type": "code",
   "execution_count": 10,
   "metadata": {},
   "outputs": [],
   "source": [
    "df= df[['hospTime','Long', 'Lat','hospTimeWeek','hospTimeWeekDay', 'hospNameEn','hospNameB5','topWaitTime','hospTimeMonth']]"
   ]
  },
  {
   "cell_type": "code",
   "execution_count": 11,
   "metadata": {},
   "outputs": [
    {
     "data": {
      "text/html": [
       "<div>\n",
       "<style scoped>\n",
       "    .dataframe tbody tr th:only-of-type {\n",
       "        vertical-align: middle;\n",
       "    }\n",
       "\n",
       "    .dataframe tbody tr th {\n",
       "        vertical-align: top;\n",
       "    }\n",
       "\n",
       "    .dataframe thead th {\n",
       "        text-align: right;\n",
       "    }\n",
       "</style>\n",
       "<table border=\"1\" class=\"dataframe\">\n",
       "  <thead>\n",
       "    <tr style=\"text-align: right;\">\n",
       "      <th></th>\n",
       "      <th>0</th>\n",
       "      <th>1</th>\n",
       "      <th>2</th>\n",
       "      <th>3</th>\n",
       "      <th>4</th>\n",
       "    </tr>\n",
       "  </thead>\n",
       "  <tbody>\n",
       "    <tr>\n",
       "      <th>hospTime</th>\n",
       "      <td>2019-02-21 09:00:09.290000</td>\n",
       "      <td>2019-02-21 10:00:01.783000</td>\n",
       "      <td>2019-02-21 11:00:11.893000</td>\n",
       "      <td>2019-02-21 12:00:02.256000</td>\n",
       "      <td>2019-02-21 12:00:01.646000</td>\n",
       "    </tr>\n",
       "    <tr>\n",
       "      <th>Long</th>\n",
       "      <td>114.131259</td>\n",
       "      <td>114.17472</td>\n",
       "      <td>114.131259</td>\n",
       "      <td>114.17472</td>\n",
       "      <td>114.235707</td>\n",
       "    </tr>\n",
       "    <tr>\n",
       "      <th>Lat</th>\n",
       "      <td>22.270695</td>\n",
       "      <td>22.458575</td>\n",
       "      <td>22.270695</td>\n",
       "      <td>22.458575</td>\n",
       "      <td>22.269419</td>\n",
       "    </tr>\n",
       "    <tr>\n",
       "      <th>hospTimeWeek</th>\n",
       "      <td>8</td>\n",
       "      <td>8</td>\n",
       "      <td>8</td>\n",
       "      <td>8</td>\n",
       "      <td>8</td>\n",
       "    </tr>\n",
       "    <tr>\n",
       "      <th>hospTimeWeekDay</th>\n",
       "      <td>4</td>\n",
       "      <td>4</td>\n",
       "      <td>4</td>\n",
       "      <td>4</td>\n",
       "      <td>4</td>\n",
       "    </tr>\n",
       "    <tr>\n",
       "      <th>hospNameEn</th>\n",
       "      <td>Queen Mary Hospital</td>\n",
       "      <td>Alice Ho Miu Ling Nethersole Hospital</td>\n",
       "      <td>Queen Mary Hospital</td>\n",
       "      <td>Alice Ho Miu Ling Nethersole Hospital</td>\n",
       "      <td>Pamela Youde Nethersole Eastern Hospital</td>\n",
       "    </tr>\n",
       "    <tr>\n",
       "      <th>hospNameB5</th>\n",
       "      <td>瑪麗醫院</td>\n",
       "      <td>雅麗氏何妙齡那打素醫院</td>\n",
       "      <td>瑪麗醫院</td>\n",
       "      <td>雅麗氏何妙齡那打素醫院</td>\n",
       "      <td>東區尤德夫人那打素醫院</td>\n",
       "    </tr>\n",
       "    <tr>\n",
       "      <th>topWaitTime</th>\n",
       "      <td>2</td>\n",
       "      <td>1</td>\n",
       "      <td>1</td>\n",
       "      <td>1</td>\n",
       "      <td>3</td>\n",
       "    </tr>\n",
       "    <tr>\n",
       "      <th>hospTimeMonth</th>\n",
       "      <td>2</td>\n",
       "      <td>2</td>\n",
       "      <td>2</td>\n",
       "      <td>2</td>\n",
       "      <td>2</td>\n",
       "    </tr>\n",
       "  </tbody>\n",
       "</table>\n",
       "</div>"
      ],
      "text/plain": [
       "                                          0  \\\n",
       "hospTime         2019-02-21 09:00:09.290000   \n",
       "Long                             114.131259   \n",
       "Lat                               22.270695   \n",
       "hospTimeWeek                              8   \n",
       "hospTimeWeekDay                           4   \n",
       "hospNameEn              Queen Mary Hospital   \n",
       "hospNameB5                             瑪麗醫院   \n",
       "topWaitTime                               2   \n",
       "hospTimeMonth                             2   \n",
       "\n",
       "                                                     1  \\\n",
       "hospTime                    2019-02-21 10:00:01.783000   \n",
       "Long                                         114.17472   \n",
       "Lat                                          22.458575   \n",
       "hospTimeWeek                                         8   \n",
       "hospTimeWeekDay                                      4   \n",
       "hospNameEn       Alice Ho Miu Ling Nethersole Hospital   \n",
       "hospNameB5                                 雅麗氏何妙齡那打素醫院   \n",
       "topWaitTime                                          1   \n",
       "hospTimeMonth                                        2   \n",
       "\n",
       "                                          2  \\\n",
       "hospTime         2019-02-21 11:00:11.893000   \n",
       "Long                             114.131259   \n",
       "Lat                               22.270695   \n",
       "hospTimeWeek                              8   \n",
       "hospTimeWeekDay                           4   \n",
       "hospNameEn              Queen Mary Hospital   \n",
       "hospNameB5                             瑪麗醫院   \n",
       "topWaitTime                               1   \n",
       "hospTimeMonth                             2   \n",
       "\n",
       "                                                     3  \\\n",
       "hospTime                    2019-02-21 12:00:02.256000   \n",
       "Long                                         114.17472   \n",
       "Lat                                          22.458575   \n",
       "hospTimeWeek                                         8   \n",
       "hospTimeWeekDay                                      4   \n",
       "hospNameEn       Alice Ho Miu Ling Nethersole Hospital   \n",
       "hospNameB5                                 雅麗氏何妙齡那打素醫院   \n",
       "topWaitTime                                          1   \n",
       "hospTimeMonth                                        2   \n",
       "\n",
       "                                                        4  \n",
       "hospTime                       2019-02-21 12:00:01.646000  \n",
       "Long                                           114.235707  \n",
       "Lat                                             22.269419  \n",
       "hospTimeWeek                                            8  \n",
       "hospTimeWeekDay                                         4  \n",
       "hospNameEn       Pamela Youde Nethersole Eastern Hospital  \n",
       "hospNameB5                                    東區尤德夫人那打素醫院  \n",
       "topWaitTime                                             3  \n",
       "hospTimeMonth                                           2  "
      ]
     },
     "execution_count": 11,
     "metadata": {},
     "output_type": "execute_result"
    }
   ],
   "source": [
    "df.head().T"
   ]
  },
  {
   "cell_type": "code",
   "execution_count": 12,
   "metadata": {},
   "outputs": [
    {
     "data": {
      "text/plain": [
       "Index(['hospTime', 'Long', 'Lat', 'hospTimeWeek', 'hospTimeWeekDay',\n",
       "       'hospNameEn', 'hospNameB5', 'topWaitTime', 'hospTimeMonth'],\n",
       "      dtype='object')"
      ]
     },
     "execution_count": 12,
     "metadata": {},
     "output_type": "execute_result"
    }
   ],
   "source": [
    "df.columns"
   ]
  },
  {
   "cell_type": "code",
   "execution_count": 13,
   "metadata": {},
   "outputs": [
    {
     "data": {
      "text/plain": [
       "DataTransformerRegistry.enable('json')"
      ]
     },
     "execution_count": 13,
     "metadata": {},
     "output_type": "execute_result"
    }
   ],
   "source": [
    "alt.data_transformers.enable('json')"
   ]
  },
  {
   "cell_type": "markdown",
   "metadata": {},
   "source": [
    "# Map"
   ]
  },
  {
   "cell_type": "code",
   "execution_count": 14,
   "metadata": {},
   "outputs": [],
   "source": [
    "# HKG Gov https://www.landsd.gov.hk/mapping/en/news/image/7p_itrf96_hk80_v1.pdf\n",
    "import altair as alt\n",
    "from vega_datasets import data\n",
    "\n",
    "hk_map = 'https://raw.githubusercontent.com/ywng/d3-js-map-hong-kong/master/HKG_adm.json'\n",
    "map = alt.topo_feature(hk_map, feature='HKG_adm1_1')\n",
    "background = alt.Chart(map).mark_geoshape(\n",
    "    fill='lightgray',\n",
    "    stroke='white'\n",
    ").properties(\n",
    "    width=500,\n",
    "    height=300\n",
    ").project('mercator')\n",
    "background.title = 'Hong Kong Hospitals'\n",
    "background.save('hk_map_background.html')"
   ]
  },
  {
   "cell_type": "code",
   "execution_count": 15,
   "metadata": {},
   "outputs": [
    {
     "data": {
      "application/vnd.vegalite.v2+json": {
       "$schema": "https://vega.github.io/schema/vega-lite/v2.6.0.json",
       "config": {
        "view": {
         "height": 300,
         "width": 400
        }
       },
       "layer": [
        {
         "data": {
          "format": {
           "feature": "HKG_adm1_1",
           "type": "topojson"
          },
          "url": "https://raw.githubusercontent.com/ywng/d3-js-map-hong-kong/master/HKG_adm.json"
         },
         "height": 300,
         "mark": {
          "fill": "lightgray",
          "stroke": "white",
          "type": "geoshape"
         },
         "projection": {
          "type": "mercator"
         },
         "title": "Hong Kong Hospitals",
         "width": 500
        },
        {
         "data": {
          "format": {
           "type": "json"
          },
          "url": "altair-data-0718b46623c61b7f46ecc2417104bb95.json"
         },
         "encoding": {
          "color": {
           "value": "steelblue"
          },
          "latitude": {
           "field": "Lat",
           "type": "quantitative"
          },
          "longitude": {
           "field": "Long",
           "type": "quantitative"
          },
          "size": {
           "value": 50
          },
          "tooltip": [
           {
            "field": "hospNameB5",
            "type": "nominal"
           },
           {
            "field": "hospNameEn",
            "type": "nominal"
           }
          ]
         },
         "mark": "circle"
        }
       ]
      },
      "image/png": "[encoded data removed]",
      "text/plain": [
       "<VegaLite 2 object>\n",
       "\n",
       "If you see this message, it means the renderer has not been properly enabled\n",
       "for the frontend that you are using. For more information, see\n",
       "https://altair-viz.github.io/user_guide/troubleshooting.html\n"
      ]
     },
     "execution_count": 15,
     "metadata": {},
     "output_type": "execute_result"
    }
   ],
   "source": [
    "# airport positions on background\n",
    "points = alt.Chart(df).mark_circle().encode(\n",
    "    longitude='Long:Q',\n",
    "    latitude='Lat:Q',\n",
    "    size=alt.value(50),\n",
    "    color=alt.value('steelblue'),\n",
    "    tooltip=['hospNameB5', 'hospNameEn']\n",
    ")\n",
    "\n",
    "points.save('hk_map_points.html')\n",
    "demo1 = background|points& background+points\n",
    "demo1.save('demo1.html')\n",
    "\n",
    "hk_map_hospital = background + points\n",
    "hk_map_hospital.save('hk_map_hospital.html')\n",
    "hk_map_hospital\n"
   ]
  },
  {
   "cell_type": "code",
   "execution_count": 17,
   "metadata": {},
   "outputs": [
    {
     "data": {
      "application/vnd.vegalite.v2+json": {
       "$schema": "https://vega.github.io/schema/vega-lite/v2.6.0.json",
       "config": {
        "view": {
         "height": 300,
         "width": 400
        }
       },
       "data": {
        "format": {
         "type": "json"
        },
        "url": "altair-data-0718b46623c61b7f46ecc2417104bb95.json"
       },
       "encoding": {
        "color": {
         "value": "steelblue"
        },
        "latitude": {
         "field": "Lat",
         "type": "quantitative"
        },
        "longitude": {
         "field": "Long",
         "type": "quantitative"
        },
        "size": {
         "value": 30
        }
       },
       "mark": "circle"
      },
      "image/png": "[encoded data removed]",
      "text/plain": [
       "<VegaLite 2 object>\n",
       "\n",
       "If you see this message, it means the renderer has not been properly enabled\n",
       "for the frontend that you are using. For more information, see\n",
       "https://altair-viz.github.io/user_guide/troubleshooting.html\n"
      ]
     },
     "execution_count": 17,
     "metadata": {},
     "output_type": "execute_result"
    }
   ],
   "source": [
    "alt.Chart(df).mark_circle().encode(\n",
    "    longitude='Long:Q',\n",
    "    latitude='Lat:Q',\n",
    "    size=alt.value(30),\n",
    "    color=alt.value('steelblue')\n",
    ")"
   ]
  },
  {
   "cell_type": "code",
   "execution_count": 19,
   "metadata": {},
   "outputs": [
    {
     "data": {
      "application/vnd.vegalite.v2+json": {
       "$schema": "https://vega.github.io/schema/vega-lite/v2.6.0.json",
       "config": {
        "view": {
         "height": 300,
         "width": 400
        }
       },
       "data": {
        "format": {
         "type": "json"
        },
        "url": "altair-data-0718b46623c61b7f46ecc2417104bb95.json"
       },
       "encoding": {
        "color": {
         "value": "steelblue"
        },
        "latitude": {
         "field": "Lat",
         "type": "quantitative"
        },
        "longitude": {
         "field": "Long",
         "type": "quantitative"
        },
        "size": {
         "field": "topWaitTime",
         "type": "quantitative"
        }
       },
       "mark": "circle",
       "projection": {
        "type": "mercator"
       }
      },
      "image/png": "[encoded data removed]",
      "text/plain": [
       "<VegaLite 2 object>\n",
       "\n",
       "If you see this message, it means the renderer has not been properly enabled\n",
       "for the frontend that you are using. For more information, see\n",
       "https://altair-viz.github.io/user_guide/troubleshooting.html\n"
      ]
     },
     "execution_count": 19,
     "metadata": {},
     "output_type": "execute_result"
    }
   ],
   "source": [
    "alt.Chart(df).mark_circle().encode(\n",
    "    longitude='Long:Q',\n",
    "    latitude='Lat:Q',\n",
    "    size='topWaitTime',\n",
    "    color=alt.value('steelblue')\n",
    ").project('mercator')"
   ]
  },
  {
   "cell_type": "code",
   "execution_count": 24,
   "metadata": {},
   "outputs": [
    {
     "data": {
      "application/vnd.vegalite.v2+json": {
       "$schema": "https://vega.github.io/schema/vega-lite/v2.6.0.json",
       "config": {
        "view": {
         "height": 300,
         "width": 400
        }
       },
       "data": {
        "format": {
         "type": "json"
        },
        "url": "altair-data-0718b46623c61b7f46ecc2417104bb95.json"
       },
       "encoding": {
        "color": {
         "value": "steelblue"
        },
        "latitude": {
         "field": "Lat",
         "type": "quantitative"
        },
        "longitude": {
         "field": "Long",
         "type": "quantitative"
        },
        "size": {
         "aggregate": "mean",
         "field": "topWaitTime",
         "type": "quantitative"
        }
       },
       "mark": "circle",
       "projection": {
        "type": "mercator"
       }
      },
      "image/png": "[encoded data removed]",
      "text/plain": [
       "<VegaLite 2 object>\n",
       "\n",
       "If you see this message, it means the renderer has not been properly enabled\n",
       "for the frontend that you are using. For more information, see\n",
       "https://altair-viz.github.io/user_guide/troubleshooting.html\n"
      ]
     },
     "execution_count": 24,
     "metadata": {},
     "output_type": "execute_result"
    }
   ],
   "source": [
    "alt.Chart(df).mark_circle().encode(\n",
    "    longitude='Long:Q',\n",
    "    latitude='Lat:Q',\n",
    "    size='mean(topWaitTime)',\n",
    "    color=alt.value('steelblue')\n",
    ").project('mercator')"
   ]
  },
  {
   "cell_type": "code",
   "execution_count": null,
   "metadata": {},
   "outputs": [],
   "source": []
  }
 ],
 "metadata": {
  "kernelspec": {
   "display_name": "Python 3",
   "language": "python",
   "name": "python3"
  },
  "language_info": {
   "codemirror_mode": {
    "name": "ipython",
    "version": 3
   },
   "file_extension": ".py",
   "mimetype": "text/x-python",
   "name": "python",
   "nbconvert_exporter": "python",
   "pygments_lexer": "ipython3",
   "version": "3.6.5"
  }
 },
 "nbformat": 4,
 "nbformat_minor": 2
}
