{
 "cells": [
  {
   "cell_type": "code",
   "execution_count": 1,
   "metadata": {},
   "outputs": [],
   "source": [
    "# !pip install seaborn"
   ]
  },
  {
   "cell_type": "code",
   "execution_count": 6,
   "metadata": {},
   "outputs": [
    {
     "name": "stdout",
     "output_type": "stream",
     "text": [
      "The autoreload extension is already loaded. To reload it, use:\n",
      "  %reload_ext autoreload\n"
     ]
    }
   ],
   "source": [
    "import ipywidgets\n",
    "%matplotlib inline\n",
    "%load_ext autoreload\n",
    "%autoreload 2\n",
    "import numpy as np\n",
    "import seaborn as sns\n",
    "import sys\n",
    "from pathlib import Path\n",
    "import pandas as pd"
   ]
  },
  {
   "cell_type": "code",
   "execution_count": 7,
   "metadata": {},
   "outputs": [
    {
     "data": {
      "text/html": [
       "<div>\n",
       "<style scoped>\n",
       "    .dataframe tbody tr th:only-of-type {\n",
       "        vertical-align: middle;\n",
       "    }\n",
       "\n",
       "    .dataframe tbody tr th {\n",
       "        vertical-align: top;\n",
       "    }\n",
       "\n",
       "    .dataframe thead th {\n",
       "        text-align: right;\n",
       "    }\n",
       "</style>\n",
       "<table border=\"1\" class=\"dataframe\">\n",
       "  <thead>\n",
       "    <tr style=\"text-align: right;\">\n",
       "      <th></th>\n",
       "      <th>id</th>\n",
       "      <th>seq</th>\n",
       "      <th>topWait</th>\n",
       "      <th>hospTime</th>\n",
       "      <th>hospCoord</th>\n",
       "      <th>hospUrlB5</th>\n",
       "      <th>hospUrlEn</th>\n",
       "      <th>hospUrlGb</th>\n",
       "      <th>pastHours</th>\n",
       "      <th>hospNameB5</th>\n",
       "      <th>hospNameEn</th>\n",
       "      <th>hospNameGb</th>\n",
       "      <th>hospTimeEn</th>\n",
       "    </tr>\n",
       "  </thead>\n",
       "  <tbody>\n",
       "    <tr>\n",
       "      <th>0</th>\n",
       "      <td>QMH 21/2/2019 9:00am</td>\n",
       "      <td>HK-02</td>\n",
       "      <td>&gt; 2</td>\n",
       "      <td>2019-02-21T09:00:09.29</td>\n",
       "      <td>POINT(114.131259 22.270695)</td>\n",
       "      <td>http://www.ha.org.hk/visitor/ha_visitor_index....</td>\n",
       "      <td>http://www.ha.org.hk/visitor/ha_visitor_index....</td>\n",
       "      <td>http://www.ha.org.hk/visitor/ha_visitor_index....</td>\n",
       "      <td>3</td>\n",
       "      <td>瑪麗醫院</td>\n",
       "      <td>Queen Mary Hospital</td>\n",
       "      <td>玛丽医院</td>\n",
       "      <td>21/2/2019 9:00am</td>\n",
       "    </tr>\n",
       "    <tr>\n",
       "      <th>1</th>\n",
       "      <td>AHN 21/2/2019 10:00am</td>\n",
       "      <td>NT-01</td>\n",
       "      <td>&gt; 1</td>\n",
       "      <td>2019-02-21T10:00:01.783</td>\n",
       "      <td>POINT(114.17472 22.458575)</td>\n",
       "      <td>http://www.ha.org.hk/visitor/ha_visitor_index....</td>\n",
       "      <td>http://www.ha.org.hk/visitor/ha_visitor_index....</td>\n",
       "      <td>http://www.ha.org.hk/visitor/ha_visitor_index....</td>\n",
       "      <td>3</td>\n",
       "      <td>雅麗氏何妙齡那打素醫院</td>\n",
       "      <td>Alice Ho Miu Ling Nethersole Hospital</td>\n",
       "      <td>雅丽氏何妙龄那打素医院</td>\n",
       "      <td>21/2/2019 10:00am</td>\n",
       "    </tr>\n",
       "    <tr>\n",
       "      <th>2</th>\n",
       "      <td>QMH 21/2/2019 11:00am</td>\n",
       "      <td>HK-02</td>\n",
       "      <td>&gt; 1</td>\n",
       "      <td>2019-02-21T11:00:11.893</td>\n",
       "      <td>POINT(114.131259 22.270695)</td>\n",
       "      <td>http://www.ha.org.hk/visitor/ha_visitor_index....</td>\n",
       "      <td>http://www.ha.org.hk/visitor/ha_visitor_index....</td>\n",
       "      <td>http://www.ha.org.hk/visitor/ha_visitor_index....</td>\n",
       "      <td>3</td>\n",
       "      <td>瑪麗醫院</td>\n",
       "      <td>Queen Mary Hospital</td>\n",
       "      <td>玛丽医院</td>\n",
       "      <td>21/2/2019 11:00am</td>\n",
       "    </tr>\n",
       "    <tr>\n",
       "      <th>3</th>\n",
       "      <td>AHN 21/2/2019 12:00pm</td>\n",
       "      <td>NT-01</td>\n",
       "      <td>&gt; 1</td>\n",
       "      <td>2019-02-21T12:00:02.256</td>\n",
       "      <td>POINT(114.17472 22.458575)</td>\n",
       "      <td>http://www.ha.org.hk/visitor/ha_visitor_index....</td>\n",
       "      <td>http://www.ha.org.hk/visitor/ha_visitor_index....</td>\n",
       "      <td>http://www.ha.org.hk/visitor/ha_visitor_index....</td>\n",
       "      <td>3</td>\n",
       "      <td>雅麗氏何妙齡那打素醫院</td>\n",
       "      <td>Alice Ho Miu Ling Nethersole Hospital</td>\n",
       "      <td>雅丽氏何妙龄那打素医院</td>\n",
       "      <td>21/2/2019 12:00pm</td>\n",
       "    </tr>\n",
       "    <tr>\n",
       "      <th>4</th>\n",
       "      <td>PYN 21/2/2019 12:00pm</td>\n",
       "      <td>HK-01</td>\n",
       "      <td>&gt; 3</td>\n",
       "      <td>2019-02-21T12:00:01.646</td>\n",
       "      <td>POINT(114.235707 22.269419)</td>\n",
       "      <td>http://www.ha.org.hk/visitor/ha_visitor_index....</td>\n",
       "      <td>http://www.ha.org.hk/visitor/ha_visitor_index....</td>\n",
       "      <td>http://www.ha.org.hk/visitor/ha_visitor_index....</td>\n",
       "      <td>3</td>\n",
       "      <td>東區尤德夫人那打素醫院</td>\n",
       "      <td>Pamela Youde Nethersole Eastern Hospital</td>\n",
       "      <td>东区尤德夫人那打素医院</td>\n",
       "      <td>21/2/2019 12:00pm</td>\n",
       "    </tr>\n",
       "  </tbody>\n",
       "</table>\n",
       "</div>"
      ],
      "text/plain": [
       "                      id    seq topWait                 hospTime  \\\n",
       "0   QMH 21/2/2019 9:00am  HK-02     > 2   2019-02-21T09:00:09.29   \n",
       "1  AHN 21/2/2019 10:00am  NT-01     > 1  2019-02-21T10:00:01.783   \n",
       "2  QMH 21/2/2019 11:00am  HK-02     > 1  2019-02-21T11:00:11.893   \n",
       "3  AHN 21/2/2019 12:00pm  NT-01     > 1  2019-02-21T12:00:02.256   \n",
       "4  PYN 21/2/2019 12:00pm  HK-01     > 3  2019-02-21T12:00:01.646   \n",
       "\n",
       "                     hospCoord  \\\n",
       "0  POINT(114.131259 22.270695)   \n",
       "1   POINT(114.17472 22.458575)   \n",
       "2  POINT(114.131259 22.270695)   \n",
       "3   POINT(114.17472 22.458575)   \n",
       "4  POINT(114.235707 22.269419)   \n",
       "\n",
       "                                           hospUrlB5  \\\n",
       "0  http://www.ha.org.hk/visitor/ha_visitor_index....   \n",
       "1  http://www.ha.org.hk/visitor/ha_visitor_index....   \n",
       "2  http://www.ha.org.hk/visitor/ha_visitor_index....   \n",
       "3  http://www.ha.org.hk/visitor/ha_visitor_index....   \n",
       "4  http://www.ha.org.hk/visitor/ha_visitor_index....   \n",
       "\n",
       "                                           hospUrlEn  \\\n",
       "0  http://www.ha.org.hk/visitor/ha_visitor_index....   \n",
       "1  http://www.ha.org.hk/visitor/ha_visitor_index....   \n",
       "2  http://www.ha.org.hk/visitor/ha_visitor_index....   \n",
       "3  http://www.ha.org.hk/visitor/ha_visitor_index....   \n",
       "4  http://www.ha.org.hk/visitor/ha_visitor_index....   \n",
       "\n",
       "                                           hospUrlGb  pastHours   hospNameB5  \\\n",
       "0  http://www.ha.org.hk/visitor/ha_visitor_index....          3         瑪麗醫院   \n",
       "1  http://www.ha.org.hk/visitor/ha_visitor_index....          3  雅麗氏何妙齡那打素醫院   \n",
       "2  http://www.ha.org.hk/visitor/ha_visitor_index....          3         瑪麗醫院   \n",
       "3  http://www.ha.org.hk/visitor/ha_visitor_index....          3  雅麗氏何妙齡那打素醫院   \n",
       "4  http://www.ha.org.hk/visitor/ha_visitor_index....          3  東區尤德夫人那打素醫院   \n",
       "\n",
       "                                 hospNameEn   hospNameGb         hospTimeEn  \n",
       "0                       Queen Mary Hospital         玛丽医院   21/2/2019 9:00am  \n",
       "1     Alice Ho Miu Ling Nethersole Hospital  雅丽氏何妙龄那打素医院  21/2/2019 10:00am  \n",
       "2                       Queen Mary Hospital         玛丽医院  21/2/2019 11:00am  \n",
       "3     Alice Ho Miu Ling Nethersole Hospital  雅丽氏何妙龄那打素医院  21/2/2019 12:00pm  \n",
       "4  Pamela Youde Nethersole Eastern Hospital  东区尤德夫人那打素医院  21/2/2019 12:00pm  "
      ]
     },
     "execution_count": 7,
     "metadata": {},
     "output_type": "execute_result"
    }
   ],
   "source": [
    "DATA = Path('data')\n",
    "\n",
    "df = pd.read_csv(DATA/'ae_data.csv',encoding='utf8')\n",
    "df.head()"
   ]
  },
  {
   "cell_type": "code",
   "execution_count": 8,
   "metadata": {},
   "outputs": [
    {
     "name": "stderr",
     "output_type": "stream",
     "text": [
      "C:\\Users\\lrcno\\AppData\\Local\\Continuum\\anaconda3\\lib\\site-packages\\ipykernel_launcher.py:3: SettingWithCopyWarning: \n",
      "A value is trying to be set on a copy of a slice from a DataFrame\n",
      "\n",
      "See the caveats in the documentation: http://pandas.pydata.org/pandas-docs/stable/indexing.html#indexing-view-versus-copy\n",
      "  This is separate from the ipykernel package so we can avoid doing imports until\n"
     ]
    }
   ],
   "source": [
    "df['topWaitTime'] = df['topWait'].copy()\n",
    "df['topWaitTime']  = df['topWaitTime'].str.replace('> ', '')\n",
    "df['topWaitTime'][df['topWaitTime']== '< 1'] = 0.5\n",
    "df['topWaitTime'] = df['topWaitTime'].fillna(0)\n",
    "df['topWaitTime'] = df['topWaitTime'].astype(float)"
   ]
  },
  {
   "cell_type": "code",
   "execution_count": 9,
   "metadata": {},
   "outputs": [],
   "source": [
    "df_mean = df[['topWaitTime','hospNameEn']].groupby(['hospNameEn']).mean()"
   ]
  },
  {
   "cell_type": "code",
   "execution_count": 10,
   "metadata": {},
   "outputs": [
    {
     "data": {
      "text/html": [
       "<div>\n",
       "<style scoped>\n",
       "    .dataframe tbody tr th:only-of-type {\n",
       "        vertical-align: middle;\n",
       "    }\n",
       "\n",
       "    .dataframe tbody tr th {\n",
       "        vertical-align: top;\n",
       "    }\n",
       "\n",
       "    .dataframe thead th {\n",
       "        text-align: right;\n",
       "    }\n",
       "</style>\n",
       "<table border=\"1\" class=\"dataframe\">\n",
       "  <thead>\n",
       "    <tr style=\"text-align: right;\">\n",
       "      <th></th>\n",
       "      <th>hospNameEn</th>\n",
       "      <th>topWaitTime</th>\n",
       "    </tr>\n",
       "  </thead>\n",
       "  <tbody>\n",
       "    <tr>\n",
       "      <th>0</th>\n",
       "      <td>Alice Ho Miu Ling Nethersole Hospital</td>\n",
       "      <td>1.639167</td>\n",
       "    </tr>\n",
       "    <tr>\n",
       "      <th>1</th>\n",
       "      <td>Caritas Medical Centre</td>\n",
       "      <td>1.424722</td>\n",
       "    </tr>\n",
       "    <tr>\n",
       "      <th>2</th>\n",
       "      <td>Kwong Wah Hospital</td>\n",
       "      <td>3.183787</td>\n",
       "    </tr>\n",
       "    <tr>\n",
       "      <th>3</th>\n",
       "      <td>North District Hospital</td>\n",
       "      <td>3.089722</td>\n",
       "    </tr>\n",
       "    <tr>\n",
       "      <th>4</th>\n",
       "      <td>North Lantau Hospital</td>\n",
       "      <td>0.795114</td>\n",
       "    </tr>\n",
       "  </tbody>\n",
       "</table>\n",
       "</div>"
      ],
      "text/plain": [
       "                              hospNameEn  topWaitTime\n",
       "0  Alice Ho Miu Ling Nethersole Hospital     1.639167\n",
       "1                 Caritas Medical Centre     1.424722\n",
       "2                     Kwong Wah Hospital     3.183787\n",
       "3                North District Hospital     3.089722\n",
       "4                  North Lantau Hospital     0.795114"
      ]
     },
     "execution_count": 10,
     "metadata": {},
     "output_type": "execute_result"
    }
   ],
   "source": [
    "df_mean = df_mean.reset_index()\n",
    "df_mean.head()"
   ]
  },
  {
   "cell_type": "code",
   "execution_count": null,
   "metadata": {},
   "outputs": [],
   "source": [
    "@ipywidgets.interact\n",
    "def plot(color=['red','steelblue']):\n",
    "         (sns.barplot(y='hospNameEn',\n",
    "             x='topWaitTime',\n",
    "             data=df_mean,\n",
    "             orient='h',\n",
    "             color=color)\n",
    " .set_title('Average waiting Time of Accident & Emergency waiting Time in HK Hospital'))\n",
    "    \n",
    "         "
   ]
  },
  {
   "cell_type": "code",
   "execution_count": null,
   "metadata": {},
   "outputs": [],
   "source": [
    "(sns.barplot(y='hospNameEn',\n",
    "             x='topWaitTime',\n",
    "             data=df_mean,\n",
    "             orient='h',\n",
    "             color='red')\n",
    " .set_title('Average waiting Time of Accident & Emergency waiting Time in HK Hospital'))\n",
    "    "
   ]
  },
  {
   "cell_type": "code",
   "execution_count": null,
   "metadata": {},
   "outputs": [],
   "source": []
  }
 ],
 "metadata": {
  "kernelspec": {
   "display_name": "Python 3",
   "language": "python",
   "name": "python3"
  },
  "language_info": {
   "codemirror_mode": {
    "name": "ipython",
    "version": 3
   },
   "file_extension": ".py",
   "mimetype": "text/x-python",
   "name": "python",
   "nbconvert_exporter": "python",
   "pygments_lexer": "ipython3",
   "version": "3.6.0"
  }
 },
 "nbformat": 4,
 "nbformat_minor": 2
}
