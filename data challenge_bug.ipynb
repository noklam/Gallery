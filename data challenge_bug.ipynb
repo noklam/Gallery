{
 "cells": [
  {
   "cell_type": "markdown",
   "metadata": {},
   "source": [
    "# Introduction\n",
    "\n",
    "#SWDchallenge: visualize THIS data!\n",
    "MARCH 01, 2019 BY COLE NUSSBAUMER KNAFLIC\n",
    "UPDATE: It seems we may have overcomplicated things this time around. Let’s simplify!\n",
    "\n",
    "You can download the file with country-to-country donations here. Create a visual to ANSWER ONE QUESTION: WHO DONATES? (Related subquestions you may also answer: How are donations distributed across countries?\n",
    "* Who donates to whom? Are there any patterns, for example some group of countries tends to donate only to some specific group of other countries?)\n",
    "*  How are donations distributed across countries?\n",
    "\n",
    "* SHARE: Tweet your graph(s) or post publicly and email the link to SWDchallenge@storytellingwithdata.com.\n",
    "\n",
    "NEW EXTENDED DEADLINE: Friday, March 15th (midnight PST). \n",
    "\n",
    "You’re of course welcome to do more (original full instructions follow), but our hopes are that simplifying will boost participation and we’ll get enough content to push some important data viz research forward!"
   ]
  },
  {
   "cell_type": "markdown",
   "metadata": {},
   "source": [
    "# Background\n",
    "Country to Country donation with data from AidData Core Research from 1947-2013"
   ]
  },
  {
   "cell_type": "code",
   "execution_count": 1,
   "metadata": {
    "ExecuteTime": {
     "end_time": "2019-03-14T03:58:59.145488Z",
     "start_time": "2019-03-14T03:58:58.880026Z"
    }
   },
   "outputs": [
    {
     "data": {
      "text/plain": [
       "DataTransformerRegistry.enable('json')"
      ]
     },
     "execution_count": 1,
     "metadata": {},
     "output_type": "execute_result"
    }
   ],
   "source": [
    "import pandas as pd\n",
    "import qgrid\n",
    "import altair as alt\n",
    "\n",
    "from altair import X,Y,Color, Order, EncodingSortField\n",
    "from pathlib import Path\n",
    "alt.data_transformers.enable('json')"
   ]
  },
  {
   "cell_type": "code",
   "execution_count": 2,
   "metadata": {
    "ExecuteTime": {
     "end_time": "2019-03-14T01:56:22.898494Z",
     "start_time": "2019-03-14T01:56:22.895486Z"
    }
   },
   "outputs": [],
   "source": [
    "DATA = Path('data')\n",
    "df = pd.read_csv(DATA/'aiddata-countries-only.csv',index_col=0)"
   ]
  },
  {
   "cell_type": "markdown",
   "metadata": {},
   "source": [
    "# Theme"
   ]
  },
  {
   "cell_type": "code",
   "execution_count": 3,
   "metadata": {},
   "outputs": [
    {
     "data": {
      "text/plain": [
       "ThemeRegistry.enable('my_custom_theme')"
      ]
     },
     "execution_count": 3,
     "metadata": {},
     "output_type": "execute_result"
    }
   ],
   "source": [
    "def urban_theme():\n",
    "    markColor = \"#1696d2\"\n",
    "    axisColor = \"#000000\"\n",
    "    backgroundColor = \"#FFFFFF\"\n",
    "    font = \"Lato\"\n",
    "    labelFont = \"Lato\"\n",
    "    sourceFont = \"Lato\"\n",
    "    gridColor = \"#DEDDDD\"\n",
    "    main_palette = [\"#1696d2\", \n",
    "                    \"#d2d2d2\",\n",
    "                    \"#000000\", \n",
    "                    \"#fdbf11\", \n",
    "                    \"#ec008b\", \n",
    "                    \"#55b748\", \n",
    "                    \"#5c5859\", \n",
    "                    \"#db2b27\", \n",
    "                   ]\n",
    "    sequential_palette = [\"#cfe8f3\", \n",
    "                          \"#a2d4ec\", \n",
    "                          \"#73bfe2\", \n",
    "                          \"#46abdb\", \n",
    "                          \"#1696d2\", \n",
    "                          \"#12719e\", \n",
    "                         ]\n",
    "    return {\n",
    "        \"width\": 685,\n",
    "        \"height\": 380,   \n",
    "#        \"autosize\": \"fit\",\n",
    "        \"config\": {\n",
    "            \"title\": {\n",
    "                \"anchor\": \"start\",\n",
    "                \"fontSize\": 18,\n",
    "                \"font\": font,\n",
    "                \"fontColor\": \"#000000\"\n",
    "            },\n",
    "            \"axisX\": {\n",
    "               \"domain\": True,\n",
    "               \"domainColor\": axisColor,\n",
    "               \"domainWidth\": 1,\n",
    "               \"grid\": False,\n",
    "               \"labelFontSize\": 12,\n",
    "               \"labelFont\": labelFont,\n",
    "               \"labelAngle\": 0,\n",
    "               \"tickColor\": axisColor,\n",
    "               \"tickSize\": 5,\n",
    "               \"titleFontSize\": 12,\n",
    "               \"titlePadding\": 10,\n",
    "               \"titleFont\": font,\n",
    "               \"title\": \"\",\n",
    "           },\n",
    "           \"axisY\": {\n",
    "               \"domain\": False,\n",
    "               \"grid\": True,\n",
    "               \"gridColor\": gridColor,\n",
    "               \"gridWidth\": 1,\n",
    "               \"labelFontSize\": 12,\n",
    "               \"labelFont\": labelFont,\n",
    "               \"labelPadding\": 8,\n",
    "               \"ticks\": False,\n",
    "               \"titleFontSize\": 12,\n",
    "               \"titlePadding\": 10,\n",
    "               \"titleFont\": font,\n",
    "               \"titleAngle\": 0,\n",
    "               \"titleY\": -10,\n",
    "               \"titleX\": 18,\n",
    "           },\n",
    "           \"background\": backgroundColor,\n",
    "           \"legend\": {\n",
    "               \"labelFontSize\": 12,\n",
    "               \"labelFont\": labelFont,\n",
    "               \"symbolSize\": 100,\n",
    "               \"symbolType\": \"square\",\n",
    "               \"titleFontSize\": 12,\n",
    "               \"titlePadding\": 10,\n",
    "               \"titleFont\": font,\n",
    "               \"title\": \"\",\n",
    "               \"orient\": \"top-left\",\n",
    "               \"offset\": 0,\n",
    "           },\n",
    "           \"view\": {\n",
    "               \"stroke\": \"transparent\",\n",
    "           },\n",
    "           \"range\": {\n",
    "               \"category\": main_palette,\n",
    "               \"diverging\": sequential_palette,\n",
    "           },\n",
    "           \"area\": {\n",
    "               \"fill\": markColor,\n",
    "           },\n",
    "           \"line\": {\n",
    "               \"color\": markColor,\n",
    "               \"stroke\": markColor,\n",
    "               \"strokewidth\": 5,\n",
    "           },\n",
    "           \"trail\": {\n",
    "               \"color\": markColor,\n",
    "               \"stroke\": markColor,\n",
    "               \"strokeWidth\": 0,\n",
    "               \"size\": 1,\n",
    "           },\n",
    "           \"path\": {\n",
    "               \"stroke\": markColor,\n",
    "               \"strokeWidth\": 0.5,\n",
    "           },\n",
    "           \"point\": {\n",
    "               \"filled\": True,\n",
    "           },\n",
    "           \"text\": {\n",
    "               \"font\": sourceFont,\n",
    "               \"color\": markColor,\n",
    "               \"fontSize\": 11,\n",
    "               \"align\": \"right\",\n",
    "               \"fontWeight\": 400,\n",
    "               \"size\": 11,\n",
    "           }, \n",
    "           \"bar\": {\n",
    "                \"size\": 40,\n",
    "                \"binSpacing\": 1,\n",
    "                \"continuousBandSize\": 30,\n",
    "                \"discreteBandSize\": 30,\n",
    "                \"fill\": markColor,\n",
    "                \"stroke\": False,\n",
    "            }, \n",
    "       },\n",
    "    }\n",
    "    \n",
    "    \n",
    "import altair as alt\n",
    "alt.themes.register(\"my_custom_theme\", urban_theme)\n",
    "alt.themes.enable(\"my_custom_theme\")"
   ]
  },
  {
   "cell_type": "markdown",
   "metadata": {},
   "source": [
    "# Without Cross Filtering"
   ]
  },
  {
   "cell_type": "code",
   "execution_count": 23,
   "metadata": {},
   "outputs": [],
   "source": [
    "brush = alt.selection(type='interval', encodings=['y'])\n",
    "sort=alt.EncodingSortField(\n",
    "            field=\"commitment_amount_usd_constant\",  # The field to use for the sort\n",
    "            op=\"sum\",  # The operation to run on the field prior to sorting\n",
    "            order=\"descending\"  # The order to sort in\n",
    "        )"
   ]
  },
  {
   "cell_type": "code",
   "execution_count": 24,
   "metadata": {},
   "outputs": [],
   "source": [
    "df_donor = df[['donor','commitment_amount_usd_constant']].groupby(['donor']).sum().reset_index()\n"
   ]
  },
  {
   "cell_type": "code",
   "execution_count": 25,
   "metadata": {},
   "outputs": [],
   "source": [
    "chart_donor_group = (alt.Chart(df_donor)# df_donor\n",
    " .mark_bar()\n",
    " .encode(y=Y('donor:N', sort=sort,title=''),\n",
    "         x=X('sum(commitment_amount_usd_constant):Q', title='Amount'),\n",
    "         tooltip=['sum(commitment_amount_usd_constant):Q'],\n",
    "         color=alt.condition(brush, alt.value('#1696d2'), alt.value('lightgray'))\n",
    ").transform_window(\n",
    "    rank='rank(commitment_amount_usd_constant)',\n",
    "    sort=[alt.SortField('commitment_amount_usd_constant', order='descending')]\n",
    ").transform_filter(\n",
    "    (alt.datum.rank <= 10)\n",
    ").add_selection(brush)\n",
    "              )\n",
    "\n",
    "chart_donor_group.title = 'Top 10 Donors'\n"
   ]
  },
  {
   "cell_type": "code",
   "execution_count": 30,
   "metadata": {},
   "outputs": [],
   "source": [
    "df_recipient = df[['donor','recipient','commitment_amount_usd_constant']].groupby(['donor','recipient']).sum().reset_index()\n",
    "top20_recipient = df_recipient[['recipient','commitment_amount_usd_constant']].groupby('recipient').sum().nlargest(20,'commitment_amount_usd_constant').index.values\n",
    "df_recipient_top20 = df_recipient[df_recipient['recipient'].isin(top20_recipient)]\n"
   ]
  },
  {
   "cell_type": "code",
   "execution_count": 31,
   "metadata": {},
   "outputs": [],
   "source": [
    "chart_recipient = (alt.Chart(df_recipient) #df_recipient_top20\n",
    " .mark_bar()\n",
    " .encode(y=Y('recipient:N', sort=sort,title=''),\n",
    "         x=X('sum(commitment_amount_usd_constant):Q', title='Amount')\n",
    "))\n",
    "\n",
    "chart_recipient.title='Top 20 Receipients in the world'\n"
   ]
  },
  {
   "cell_type": "code",
   "execution_count": 33,
   "metadata": {},
   "outputs": [
    {
     "data": {
      "application/vnd.vegalite.v2+json": {
       "$schema": "https://vega.github.io/schema/vega-lite/v2.6.0.json",
       "config": {
        "area": {
         "fill": "#1696d2"
        },
        "axisX": {
         "domain": true,
         "domainColor": "#000000",
         "domainWidth": 1,
         "grid": false,
         "labelAngle": 0,
         "labelFont": "Lato",
         "labelFontSize": 12,
         "tickColor": "#000000",
         "tickSize": 5,
         "title": "",
         "titleFont": "Lato",
         "titleFontSize": 12,
         "titlePadding": 10
        },
        "axisY": {
         "domain": false,
         "grid": true,
         "gridColor": "#DEDDDD",
         "gridWidth": 1,
         "labelFont": "Lato",
         "labelFontSize": 12,
         "labelPadding": 8,
         "ticks": false,
         "titleAngle": 0,
         "titleFont": "Lato",
         "titleFontSize": 12,
         "titlePadding": 10,
         "titleX": 18,
         "titleY": -10
        },
        "background": "#FFFFFF",
        "bar": {
         "binSpacing": 1,
         "continuousBandSize": 30,
         "discreteBandSize": 30,
         "fill": "#1696d2",
         "size": 40,
         "stroke": false
        },
        "legend": {
         "labelFont": "Lato",
         "labelFontSize": 12,
         "offset": 0,
         "orient": "top-left",
         "symbolSize": 100,
         "symbolType": "square",
         "title": "",
         "titleFont": "Lato",
         "titleFontSize": 12,
         "titlePadding": 10
        },
        "line": {
         "color": "#1696d2",
         "stroke": "#1696d2",
         "strokewidth": 5
        },
        "path": {
         "stroke": "#1696d2",
         "strokeWidth": 0.5
        },
        "point": {
         "filled": true
        },
        "range": {
         "category": [
          "#1696d2",
          "#d2d2d2",
          "#000000",
          "#fdbf11",
          "#ec008b",
          "#55b748",
          "#5c5859",
          "#db2b27"
         ],
         "diverging": [
          "#cfe8f3",
          "#a2d4ec",
          "#73bfe2",
          "#46abdb",
          "#1696d2",
          "#12719e"
         ]
        },
        "text": {
         "align": "right",
         "color": "#1696d2",
         "font": "Lato",
         "fontSize": 11,
         "fontWeight": 400,
         "size": 11
        },
        "title": {
         "anchor": "start",
         "font": "Lato",
         "fontColor": "#000000",
         "fontSize": 18
        },
        "trail": {
         "color": "#1696d2",
         "size": 1,
         "stroke": "#1696d2",
         "strokeWidth": 0
        },
        "view": {
         "stroke": "transparent"
        }
       },
       "hconcat": [
        {
         "data": {
          "format": {
           "type": "json"
          },
          "url": "altair-data-51e7b2fdbf4df9fd023e5a31408ca514.json"
         },
         "encoding": {
          "color": {
           "condition": {
            "selection": "selector003",
            "value": "#1696d2"
           },
           "value": "lightgray"
          },
          "tooltip": [
           {
            "aggregate": "sum",
            "field": "commitment_amount_usd_constant",
            "type": "quantitative"
           }
          ],
          "x": {
           "aggregate": "sum",
           "field": "commitment_amount_usd_constant",
           "title": "Amount",
           "type": "quantitative"
          },
          "y": {
           "field": "donor",
           "sort": {
            "field": "commitment_amount_usd_constant",
            "op": "sum",
            "order": "descending"
           },
           "title": "",
           "type": "nominal"
          }
         },
         "mark": "bar",
         "selection": {
          "selector003": {
           "encodings": [
            "y"
           ],
           "mark": {
            "fill": "#333",
            "fillOpacity": 0.125,
            "stroke": "white"
           },
           "on": "[mousedown, window:mouseup] > window:mousemove!",
           "resolve": "global",
           "translate": "[mousedown, window:mouseup] > window:mousemove!",
           "type": "interval",
           "zoom": "wheel!"
          }
         },
         "title": "Top 10 Donors",
         "transform": [
          {
           "sort": [
            {
             "field": "commitment_amount_usd_constant",
             "order": "descending"
            }
           ],
           "window": [
            {
             "as": "rank",
             "field": "commitment_amount_usd_constant",
             "op": "rank"
            }
           ]
          },
          {
           "filter": "(datum.rank <= 10)"
          }
         ]
        },
        {
         "data": {
          "format": {
           "type": "json"
          },
          "url": "altair-data-59b7d8e72427b16ca58fa4ab6eb8a3af.json"
         },
         "encoding": {
          "x": {
           "aggregate": "sum",
           "field": "commitment_amount_usd_constant",
           "title": "Amount",
           "type": "quantitative"
          },
          "y": {
           "field": "recipient",
           "sort": {
            "field": "commitment_amount_usd_constant",
            "op": "sum",
            "order": "descending"
           },
           "title": "",
           "type": "nominal"
          }
         },
         "mark": "bar",
         "title": "Top 20 Receipients in the world"
        }
       ],
       "height": 380,
       "width": 685
      },
      "image/png": "[encoded data removed]",
      "text/plain": [
       "<VegaLite 2 object>\n",
       "\n",
       "If you see this message, it means the renderer has not been properly enabled\n",
       "for the frontend that you are using. For more information, see\n",
       "https://altair-viz.github.io/user_guide/troubleshooting.html\n"
      ]
     },
     "execution_count": 33,
     "metadata": {},
     "output_type": "execute_result"
    }
   ],
   "source": [
    "final_chart = chart_donor_group | chart_recipient\n",
    "final_chart"
   ]
  },
  {
   "cell_type": "markdown",
   "metadata": {},
   "source": [
    "# When added cross filter, the order cannot be keep"
   ]
  },
  {
   "cell_type": "code",
   "execution_count": 35,
   "metadata": {},
   "outputs": [],
   "source": [
    "highlight = chart_recipient.encode(\n",
    "    color=alt.value('goldenrod')\n",
    ").transform_filter(brush)"
   ]
  },
  {
   "cell_type": "code",
   "execution_count": 36,
   "metadata": {},
   "outputs": [
    {
     "data": {
      "application/vnd.vegalite.v2+json": {
       "$schema": "https://vega.github.io/schema/vega-lite/v2.6.0.json",
       "config": {
        "area": {
         "fill": "#1696d2"
        },
        "axisX": {
         "domain": true,
         "domainColor": "#000000",
         "domainWidth": 1,
         "grid": false,
         "labelAngle": 0,
         "labelFont": "Lato",
         "labelFontSize": 12,
         "tickColor": "#000000",
         "tickSize": 5,
         "title": "",
         "titleFont": "Lato",
         "titleFontSize": 12,
         "titlePadding": 10
        },
        "axisY": {
         "domain": false,
         "grid": true,
         "gridColor": "#DEDDDD",
         "gridWidth": 1,
         "labelFont": "Lato",
         "labelFontSize": 12,
         "labelPadding": 8,
         "ticks": false,
         "titleAngle": 0,
         "titleFont": "Lato",
         "titleFontSize": 12,
         "titlePadding": 10,
         "titleX": 18,
         "titleY": -10
        },
        "background": "#FFFFFF",
        "bar": {
         "binSpacing": 1,
         "continuousBandSize": 30,
         "discreteBandSize": 30,
         "fill": "#1696d2",
         "size": 40,
         "stroke": false
        },
        "legend": {
         "labelFont": "Lato",
         "labelFontSize": 12,
         "offset": 0,
         "orient": "top-left",
         "symbolSize": 100,
         "symbolType": "square",
         "title": "",
         "titleFont": "Lato",
         "titleFontSize": 12,
         "titlePadding": 10
        },
        "line": {
         "color": "#1696d2",
         "stroke": "#1696d2",
         "strokewidth": 5
        },
        "path": {
         "stroke": "#1696d2",
         "strokeWidth": 0.5
        },
        "point": {
         "filled": true
        },
        "range": {
         "category": [
          "#1696d2",
          "#d2d2d2",
          "#000000",
          "#fdbf11",
          "#ec008b",
          "#55b748",
          "#5c5859",
          "#db2b27"
         ],
         "diverging": [
          "#cfe8f3",
          "#a2d4ec",
          "#73bfe2",
          "#46abdb",
          "#1696d2",
          "#12719e"
         ]
        },
        "text": {
         "align": "right",
         "color": "#1696d2",
         "font": "Lato",
         "fontSize": 11,
         "fontWeight": 400,
         "size": 11
        },
        "title": {
         "anchor": "start",
         "font": "Lato",
         "fontColor": "#000000",
         "fontSize": 18
        },
        "trail": {
         "color": "#1696d2",
         "size": 1,
         "stroke": "#1696d2",
         "strokeWidth": 0
        },
        "view": {
         "stroke": "transparent"
        }
       },
       "hconcat": [
        {
         "data": {
          "format": {
           "type": "json"
          },
          "url": "altair-data-51e7b2fdbf4df9fd023e5a31408ca514.json"
         },
         "encoding": {
          "color": {
           "condition": {
            "selection": "selector003",
            "value": "#1696d2"
           },
           "value": "lightgray"
          },
          "tooltip": [
           {
            "aggregate": "sum",
            "field": "commitment_amount_usd_constant",
            "type": "quantitative"
           }
          ],
          "x": {
           "aggregate": "sum",
           "field": "commitment_amount_usd_constant",
           "title": "Amount",
           "type": "quantitative"
          },
          "y": {
           "field": "donor",
           "sort": {
            "field": "commitment_amount_usd_constant",
            "op": "sum",
            "order": "descending"
           },
           "title": "",
           "type": "nominal"
          }
         },
         "mark": "bar",
         "selection": {
          "selector003": {
           "encodings": [
            "y"
           ],
           "mark": {
            "fill": "#333",
            "fillOpacity": 0.125,
            "stroke": "white"
           },
           "on": "[mousedown, window:mouseup] > window:mousemove!",
           "resolve": "global",
           "translate": "[mousedown, window:mouseup] > window:mousemove!",
           "type": "interval",
           "zoom": "wheel!"
          }
         },
         "title": "Top 10 Donors",
         "transform": [
          {
           "sort": [
            {
             "field": "commitment_amount_usd_constant",
             "order": "descending"
            }
           ],
           "window": [
            {
             "as": "rank",
             "field": "commitment_amount_usd_constant",
             "op": "rank"
            }
           ]
          },
          {
           "filter": "(datum.rank <= 10)"
          }
         ]
        },
        {
         "layer": [
          {
           "data": {
            "format": {
             "type": "json"
            },
            "url": "altair-data-59b7d8e72427b16ca58fa4ab6eb8a3af.json"
           },
           "encoding": {
            "x": {
             "aggregate": "sum",
             "field": "commitment_amount_usd_constant",
             "title": "Amount",
             "type": "quantitative"
            },
            "y": {
             "field": "recipient",
             "sort": {
              "field": "commitment_amount_usd_constant",
              "op": "sum",
              "order": "descending"
             },
             "title": "",
             "type": "nominal"
            }
           },
           "mark": "bar",
           "title": "Top 20 Receipients in the world"
          },
          {
           "data": {
            "format": {
             "type": "json"
            },
            "url": "altair-data-59b7d8e72427b16ca58fa4ab6eb8a3af.json"
           },
           "encoding": {
            "color": {
             "value": "goldenrod"
            },
            "x": {
             "aggregate": "sum",
             "field": "commitment_amount_usd_constant",
             "title": "Amount",
             "type": "quantitative"
            },
            "y": {
             "field": "recipient",
             "sort": {
              "field": "commitment_amount_usd_constant",
              "op": "sum",
              "order": "descending"
             },
             "title": "",
             "type": "nominal"
            }
           },
           "mark": "bar",
           "title": "Top 20 Receipients in the world",
           "transform": [
            {
             "filter": {
              "selection": "selector003"
             }
            }
           ]
          }
         ]
        }
       ],
       "height": 380,
       "width": 685
      },
      "image/png": "[encoded data removed]",
      "text/plain": [
       "<VegaLite 2 object>\n",
       "\n",
       "If you see this message, it means the renderer has not been properly enabled\n",
       "for the frontend that you are using. For more information, see\n",
       "https://altair-viz.github.io/user_guide/troubleshooting.html\n"
      ]
     },
     "execution_count": 36,
     "metadata": {},
     "output_type": "execute_result"
    }
   ],
   "source": [
    " chart_donor_group | (chart_recipient + highlight )"
   ]
  },
  {
   "cell_type": "code",
   "execution_count": null,
   "metadata": {},
   "outputs": [],
   "source": []
  }
 ],
 "metadata": {
  "kernelspec": {
   "display_name": "Python 3",
   "language": "python",
   "name": "python3"
  },
  "language_info": {
   "codemirror_mode": {
    "name": "ipython",
    "version": 3
   },
   "file_extension": ".py",
   "mimetype": "text/x-python",
   "name": "python",
   "nbconvert_exporter": "python",
   "pygments_lexer": "ipython3",
   "version": "3.6.0"
  },
  "toc": {
   "base_numbering": 1,
   "nav_menu": {},
   "number_sections": true,
   "sideBar": true,
   "skip_h1_title": false,
   "title_cell": "Table of Contents",
   "title_sidebar": "Contents",
   "toc_cell": false,
   "toc_position": {},
   "toc_section_display": true,
   "toc_window_display": false
  }
 },
 "nbformat": 4,
 "nbformat_minor": 2
}
