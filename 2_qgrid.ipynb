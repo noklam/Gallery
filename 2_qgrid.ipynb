{
 "cells": [
  {
   "cell_type": "code",
   "execution_count": 1,
   "metadata": {},
   "outputs": [],
   "source": [
    "# pip install jupyterlab ipympl\n",
    "import qgrid\n",
    "import pandas as pd\n",
    "from pathlib import Path\n",
    "import seaborn as sns"
   ]
  },
  {
   "cell_type": "code",
   "execution_count": 2,
   "metadata": {},
   "outputs": [
    {
     "name": "stderr",
     "output_type": "stream",
     "text": [
      "C:\\Users\\lrcno\\AppData\\Local\\Continuum\\anaconda3\\lib\\site-packages\\ipykernel_launcher.py:6: SettingWithCopyWarning: \n",
      "A value is trying to be set on a copy of a slice from a DataFrame\n",
      "\n",
      "See the caveats in the documentation: http://pandas.pydata.org/pandas-docs/stable/indexing.html#indexing-view-versus-copy\n",
      "  \n"
     ]
    },
    {
     "data": {
      "text/html": [
       "<div>\n",
       "<style scoped>\n",
       "    .dataframe tbody tr th:only-of-type {\n",
       "        vertical-align: middle;\n",
       "    }\n",
       "\n",
       "    .dataframe tbody tr th {\n",
       "        vertical-align: top;\n",
       "    }\n",
       "\n",
       "    .dataframe thead th {\n",
       "        text-align: right;\n",
       "    }\n",
       "</style>\n",
       "<table border=\"1\" class=\"dataframe\">\n",
       "  <thead>\n",
       "    <tr style=\"text-align: right;\">\n",
       "      <th></th>\n",
       "      <th>id</th>\n",
       "      <th>seq</th>\n",
       "      <th>topWait</th>\n",
       "      <th>hospTime</th>\n",
       "      <th>hospCoord</th>\n",
       "      <th>hospUrlB5</th>\n",
       "      <th>hospUrlEn</th>\n",
       "      <th>hospUrlGb</th>\n",
       "      <th>pastHours</th>\n",
       "      <th>hospNameB5</th>\n",
       "      <th>hospNameEn</th>\n",
       "      <th>hospNameGb</th>\n",
       "      <th>hospTimeEn</th>\n",
       "      <th>topWaitTime</th>\n",
       "    </tr>\n",
       "  </thead>\n",
       "  <tbody>\n",
       "    <tr>\n",
       "      <th>0</th>\n",
       "      <td>QMH 21/2/2019 9:00am</td>\n",
       "      <td>HK-02</td>\n",
       "      <td>&gt; 2</td>\n",
       "      <td>2019-02-21T09:00:09.29</td>\n",
       "      <td>POINT(114.131259 22.270695)</td>\n",
       "      <td>http://www.ha.org.hk/visitor/ha_visitor_index....</td>\n",
       "      <td>http://www.ha.org.hk/visitor/ha_visitor_index....</td>\n",
       "      <td>http://www.ha.org.hk/visitor/ha_visitor_index....</td>\n",
       "      <td>3</td>\n",
       "      <td>瑪麗醫院</td>\n",
       "      <td>Queen Mary Hospital</td>\n",
       "      <td>玛丽医院</td>\n",
       "      <td>21/2/2019 9:00am</td>\n",
       "      <td>2.0</td>\n",
       "    </tr>\n",
       "    <tr>\n",
       "      <th>1</th>\n",
       "      <td>AHN 21/2/2019 10:00am</td>\n",
       "      <td>NT-01</td>\n",
       "      <td>&gt; 1</td>\n",
       "      <td>2019-02-21T10:00:01.783</td>\n",
       "      <td>POINT(114.17472 22.458575)</td>\n",
       "      <td>http://www.ha.org.hk/visitor/ha_visitor_index....</td>\n",
       "      <td>http://www.ha.org.hk/visitor/ha_visitor_index....</td>\n",
       "      <td>http://www.ha.org.hk/visitor/ha_visitor_index....</td>\n",
       "      <td>3</td>\n",
       "      <td>雅麗氏何妙齡那打素醫院</td>\n",
       "      <td>Alice Ho Miu Ling Nethersole Hospital</td>\n",
       "      <td>雅丽氏何妙龄那打素医院</td>\n",
       "      <td>21/2/2019 10:00am</td>\n",
       "      <td>1.0</td>\n",
       "    </tr>\n",
       "    <tr>\n",
       "      <th>2</th>\n",
       "      <td>QMH 21/2/2019 11:00am</td>\n",
       "      <td>HK-02</td>\n",
       "      <td>&gt; 1</td>\n",
       "      <td>2019-02-21T11:00:11.893</td>\n",
       "      <td>POINT(114.131259 22.270695)</td>\n",
       "      <td>http://www.ha.org.hk/visitor/ha_visitor_index....</td>\n",
       "      <td>http://www.ha.org.hk/visitor/ha_visitor_index....</td>\n",
       "      <td>http://www.ha.org.hk/visitor/ha_visitor_index....</td>\n",
       "      <td>3</td>\n",
       "      <td>瑪麗醫院</td>\n",
       "      <td>Queen Mary Hospital</td>\n",
       "      <td>玛丽医院</td>\n",
       "      <td>21/2/2019 11:00am</td>\n",
       "      <td>1.0</td>\n",
       "    </tr>\n",
       "    <tr>\n",
       "      <th>3</th>\n",
       "      <td>AHN 21/2/2019 12:00pm</td>\n",
       "      <td>NT-01</td>\n",
       "      <td>&gt; 1</td>\n",
       "      <td>2019-02-21T12:00:02.256</td>\n",
       "      <td>POINT(114.17472 22.458575)</td>\n",
       "      <td>http://www.ha.org.hk/visitor/ha_visitor_index....</td>\n",
       "      <td>http://www.ha.org.hk/visitor/ha_visitor_index....</td>\n",
       "      <td>http://www.ha.org.hk/visitor/ha_visitor_index....</td>\n",
       "      <td>3</td>\n",
       "      <td>雅麗氏何妙齡那打素醫院</td>\n",
       "      <td>Alice Ho Miu Ling Nethersole Hospital</td>\n",
       "      <td>雅丽氏何妙龄那打素医院</td>\n",
       "      <td>21/2/2019 12:00pm</td>\n",
       "      <td>1.0</td>\n",
       "    </tr>\n",
       "    <tr>\n",
       "      <th>4</th>\n",
       "      <td>PYN 21/2/2019 12:00pm</td>\n",
       "      <td>HK-01</td>\n",
       "      <td>&gt; 3</td>\n",
       "      <td>2019-02-21T12:00:01.646</td>\n",
       "      <td>POINT(114.235707 22.269419)</td>\n",
       "      <td>http://www.ha.org.hk/visitor/ha_visitor_index....</td>\n",
       "      <td>http://www.ha.org.hk/visitor/ha_visitor_index....</td>\n",
       "      <td>http://www.ha.org.hk/visitor/ha_visitor_index....</td>\n",
       "      <td>3</td>\n",
       "      <td>東區尤德夫人那打素醫院</td>\n",
       "      <td>Pamela Youde Nethersole Eastern Hospital</td>\n",
       "      <td>东区尤德夫人那打素医院</td>\n",
       "      <td>21/2/2019 12:00pm</td>\n",
       "      <td>3.0</td>\n",
       "    </tr>\n",
       "  </tbody>\n",
       "</table>\n",
       "</div>"
      ],
      "text/plain": [
       "                      id    seq topWait                 hospTime  \\\n",
       "0   QMH 21/2/2019 9:00am  HK-02     > 2   2019-02-21T09:00:09.29   \n",
       "1  AHN 21/2/2019 10:00am  NT-01     > 1  2019-02-21T10:00:01.783   \n",
       "2  QMH 21/2/2019 11:00am  HK-02     > 1  2019-02-21T11:00:11.893   \n",
       "3  AHN 21/2/2019 12:00pm  NT-01     > 1  2019-02-21T12:00:02.256   \n",
       "4  PYN 21/2/2019 12:00pm  HK-01     > 3  2019-02-21T12:00:01.646   \n",
       "\n",
       "                     hospCoord  \\\n",
       "0  POINT(114.131259 22.270695)   \n",
       "1   POINT(114.17472 22.458575)   \n",
       "2  POINT(114.131259 22.270695)   \n",
       "3   POINT(114.17472 22.458575)   \n",
       "4  POINT(114.235707 22.269419)   \n",
       "\n",
       "                                           hospUrlB5  \\\n",
       "0  http://www.ha.org.hk/visitor/ha_visitor_index....   \n",
       "1  http://www.ha.org.hk/visitor/ha_visitor_index....   \n",
       "2  http://www.ha.org.hk/visitor/ha_visitor_index....   \n",
       "3  http://www.ha.org.hk/visitor/ha_visitor_index....   \n",
       "4  http://www.ha.org.hk/visitor/ha_visitor_index....   \n",
       "\n",
       "                                           hospUrlEn  \\\n",
       "0  http://www.ha.org.hk/visitor/ha_visitor_index....   \n",
       "1  http://www.ha.org.hk/visitor/ha_visitor_index....   \n",
       "2  http://www.ha.org.hk/visitor/ha_visitor_index....   \n",
       "3  http://www.ha.org.hk/visitor/ha_visitor_index....   \n",
       "4  http://www.ha.org.hk/visitor/ha_visitor_index....   \n",
       "\n",
       "                                           hospUrlGb  pastHours   hospNameB5  \\\n",
       "0  http://www.ha.org.hk/visitor/ha_visitor_index....          3         瑪麗醫院   \n",
       "1  http://www.ha.org.hk/visitor/ha_visitor_index....          3  雅麗氏何妙齡那打素醫院   \n",
       "2  http://www.ha.org.hk/visitor/ha_visitor_index....          3         瑪麗醫院   \n",
       "3  http://www.ha.org.hk/visitor/ha_visitor_index....          3  雅麗氏何妙齡那打素醫院   \n",
       "4  http://www.ha.org.hk/visitor/ha_visitor_index....          3  東區尤德夫人那打素醫院   \n",
       "\n",
       "                                 hospNameEn   hospNameGb         hospTimeEn  \\\n",
       "0                       Queen Mary Hospital         玛丽医院   21/2/2019 9:00am   \n",
       "1     Alice Ho Miu Ling Nethersole Hospital  雅丽氏何妙龄那打素医院  21/2/2019 10:00am   \n",
       "2                       Queen Mary Hospital         玛丽医院  21/2/2019 11:00am   \n",
       "3     Alice Ho Miu Ling Nethersole Hospital  雅丽氏何妙龄那打素医院  21/2/2019 12:00pm   \n",
       "4  Pamela Youde Nethersole Eastern Hospital  东区尤德夫人那打素医院  21/2/2019 12:00pm   \n",
       "\n",
       "   topWaitTime  \n",
       "0          2.0  \n",
       "1          1.0  \n",
       "2          1.0  \n",
       "3          1.0  \n",
       "4          3.0  "
      ]
     },
     "execution_count": 2,
     "metadata": {},
     "output_type": "execute_result"
    }
   ],
   "source": [
    "DATA = Path('data')\n",
    "\n",
    "df = pd.read_csv(DATA/'ae_data.csv',encoding='utf8')\n",
    "df['topWaitTime'] = df['topWait'].copy()\n",
    "df['topWaitTime']  = df['topWaitTime'].str.replace('> ', '')\n",
    "df['topWaitTime'][df['topWaitTime']== '< 1'] = 0.5\n",
    "df['topWaitTime'] = df['topWaitTime'].fillna(0)\n",
    "df['topWaitTime'] = df['topWaitTime'].astype(float)\n",
    "df.head()"
   ]
  },
  {
   "cell_type": "code",
   "execution_count": 3,
   "metadata": {},
   "outputs": [],
   "source": [
    "widget = qgrid.show_grid(df)"
   ]
  },
  {
   "cell_type": "code",
   "execution_count": 4,
   "metadata": {},
   "outputs": [],
   "source": [
    "# After upgrading to 1.0.3\n",
    "def handle_json_updated(event, qgrid_widget):\n",
    "    # exclude 'viewport_changed' events since that doesn't change the DataFrame\n",
    "    if (event['triggered_by'] != 'viewport_changed'):\n",
    "        print(qgrid_widget.get_changed_df())\n",
    "    (sns.barplot(y='hospNameEn',\n",
    "             x='topWaitTime',\n",
    "             data=widget.get_changed_df(),\n",
    "             orient='h',\n",
    "             color='red'))\n",
    "    print(123)\n",
    "    \n",
    "    \n",
    "widget.on('filter_changed', handle_json_updated)"
   ]
  },
  {
   "cell_type": "code",
   "execution_count": 5,
   "metadata": {},
   "outputs": [
    {
     "data": {
      "application/vnd.jupyter.widget-view+json": {
       "model_id": "70288b1cb3a84bb99cbedd4d4d73574a",
       "version_major": 2,
       "version_minor": 0
      },
      "text/plain": [
       "QgridWidget(grid_options={'fullWidthRows': True, 'syncColumnCellResize': True, 'forceFitColumns': True, 'defau…"
      ]
     },
     "metadata": {},
     "output_type": "display_data"
    }
   ],
   "source": [
    "widget"
   ]
  },
  {
   "cell_type": "code",
   "execution_count": 6,
   "metadata": {},
   "outputs": [
    {
     "data": {
      "image/png": "[encoded data removed]",
      "text/plain": [
       "<Figure size 432x288 with 1 Axes>"
      ]
     },
     "metadata": {
      "needs_background": "light"
     },
     "output_type": "display_data"
    }
   ],
   "source": [
    "fig = (sns.barplot(y='hospNameEn',\n",
    "             x='topWaitTime',\n",
    "             data=widget.get_changed_df(),\n",
    "             orient='h',\n",
    "             color='red'))\n",
    "# fig = fig.set_title('Average waiting Time of Accident & Emergency waiting Time in HK Hospital')\n",
    "    "
   ]
  },
  {
   "cell_type": "code",
   "execution_count": 7,
   "metadata": {},
   "outputs": [
    {
     "data": {
      "text/plain": [
       "<matplotlib.axes._subplots.AxesSubplot at 0x1d75ee049b0>"
      ]
     },
     "execution_count": 7,
     "metadata": {},
     "output_type": "execute_result"
    }
   ],
   "source": [
    "fig"
   ]
  },
  {
   "cell_type": "code",
   "execution_count": 8,
   "metadata": {},
   "outputs": [
    {
     "data": {
      "application/vnd.jupyter.widget-view+json": {
       "model_id": "97458ce2c6a24504bae5d958263a91f2",
       "version_major": 2,
       "version_minor": 0
      },
      "text/plain": [
       "QgridWidget(grid_options={'fullWidthRows': True, 'syncColumnCellResize': True, 'forceFitColumns': True, 'defau…"
      ]
     },
     "metadata": {},
     "output_type": "display_data"
    }
   ],
   "source": [
    "import numpy as np\n",
    "import pandas as pd\n",
    "import qgrid\n",
    "randn = np.random.randn\n",
    "df_types = pd.DataFrame({\n",
    "    'A' : 1.,\n",
    "    'B' : pd.Series(['2013-01-01', '2013-01-02', '2013-01-03', '2013-01-04',\n",
    "               '2013-01-05', '2013-01-06', '2013-01-07', '2013-01-08', '2013-01-09'],index=list(range(9)),dtype='datetime64[ns]'),\n",
    "    'C' : pd.Series(randn(9),index=list(range(9)),dtype='float32'),\n",
    "    'D' : np.array([3] * 9,dtype='int32'),\n",
    "    'E' : pd.Categorical([\"washington\", \"adams\", \"washington\", \"madison\", \"lincoln\",\"jefferson\", \"hamilton\", \"roosevelt\", \"kennedy\"]),\n",
    "    'F' : [\"foo\", \"bar\", \"buzz\", \"bippity\",\"boppity\", \"foo\", \"foo\", \"bar\", \"zoo\"] })\n",
    "df_types['G'] = df_types['F'] == 'foo'\n",
    "qgrid_widget = qgrid.show_grid(df_types, show_toolbar=True)\n",
    "qgrid_widget"
   ]
  },
  {
   "cell_type": "code",
   "execution_count": 10,
   "metadata": {},
   "outputs": [
    {
     "name": "stdout",
     "output_type": "stream",
     "text": [
      "Warning: Cannot change to a different GUI toolkit: nbagg. Using ipympl instead.\n"
     ]
    },
    {
     "ename": "FileNotFoundError",
     "evalue": "[Errno 2] No such file or directory: 'C:\\\\Users\\\\lrcno\\\\AppData\\\\Roaming\\\\Python\\\\Python36\\\\site-packages\\\\ipympl\\\\static\\\\package.json'",
     "output_type": "error",
     "traceback": [
      "\u001b[1;31m---------------------------------------------------------------------------\u001b[0m",
      "\u001b[1;31mFileNotFoundError\u001b[0m                         Traceback (most recent call last)",
      "\u001b[1;32m<ipython-input-10-cfb48c372658>\u001b[0m in \u001b[0;36m<module>\u001b[1;34m\u001b[0m\n\u001b[1;32m----> 1\u001b[1;33m \u001b[0mget_ipython\u001b[0m\u001b[1;33m(\u001b[0m\u001b[1;33m)\u001b[0m\u001b[1;33m.\u001b[0m\u001b[0mrun_line_magic\u001b[0m\u001b[1;33m(\u001b[0m\u001b[1;34m'matplotlib'\u001b[0m\u001b[1;33m,\u001b[0m \u001b[1;34m'nbagg'\u001b[0m\u001b[1;33m)\u001b[0m\u001b[1;33m\u001b[0m\u001b[0m\n\u001b[0m\u001b[0;32m      2\u001b[0m \u001b[1;32mimport\u001b[0m \u001b[0mmatplotlib\u001b[0m\u001b[1;33m.\u001b[0m\u001b[0mpyplot\u001b[0m \u001b[1;32mas\u001b[0m \u001b[0mplt\u001b[0m\u001b[1;33m\u001b[0m\u001b[0m\n\u001b[0;32m      3\u001b[0m \u001b[1;33m\u001b[0m\u001b[0m\n\u001b[0;32m      4\u001b[0m \u001b[0mn\u001b[0m \u001b[1;33m=\u001b[0m \u001b[1;36m50\u001b[0m\u001b[1;33m\u001b[0m\u001b[0m\n\u001b[0;32m      5\u001b[0m \u001b[1;33m\u001b[0m\u001b[0m\n",
      "\u001b[1;32m~\\AppData\\Local\\Continuum\\anaconda3\\lib\\site-packages\\IPython\\core\\interactiveshell.py\u001b[0m in \u001b[0;36mrun_line_magic\u001b[1;34m(self, magic_name, line, _stack_depth)\u001b[0m\n\u001b[0;32m   2285\u001b[0m                 \u001b[0mkwargs\u001b[0m\u001b[1;33m[\u001b[0m\u001b[1;34m'local_ns'\u001b[0m\u001b[1;33m]\u001b[0m \u001b[1;33m=\u001b[0m \u001b[0msys\u001b[0m\u001b[1;33m.\u001b[0m\u001b[0m_getframe\u001b[0m\u001b[1;33m(\u001b[0m\u001b[0mstack_depth\u001b[0m\u001b[1;33m)\u001b[0m\u001b[1;33m.\u001b[0m\u001b[0mf_locals\u001b[0m\u001b[1;33m\u001b[0m\u001b[0m\n\u001b[0;32m   2286\u001b[0m             \u001b[1;32mwith\u001b[0m \u001b[0mself\u001b[0m\u001b[1;33m.\u001b[0m\u001b[0mbuiltin_trap\u001b[0m\u001b[1;33m:\u001b[0m\u001b[1;33m\u001b[0m\u001b[0m\n\u001b[1;32m-> 2287\u001b[1;33m                 \u001b[0mresult\u001b[0m \u001b[1;33m=\u001b[0m \u001b[0mfn\u001b[0m\u001b[1;33m(\u001b[0m\u001b[1;33m*\u001b[0m\u001b[0margs\u001b[0m\u001b[1;33m,\u001b[0m\u001b[1;33m**\u001b[0m\u001b[0mkwargs\u001b[0m\u001b[1;33m)\u001b[0m\u001b[1;33m\u001b[0m\u001b[0m\n\u001b[0m\u001b[0;32m   2288\u001b[0m             \u001b[1;32mreturn\u001b[0m \u001b[0mresult\u001b[0m\u001b[1;33m\u001b[0m\u001b[0m\n\u001b[0;32m   2289\u001b[0m \u001b[1;33m\u001b[0m\u001b[0m\n",
      "\u001b[1;32m<C:\\Users\\lrcno\\AppData\\Local\\Continuum\\anaconda3\\lib\\site-packages\\decorator.py:decorator-gen-108>\u001b[0m in \u001b[0;36mmatplotlib\u001b[1;34m(self, line)\u001b[0m\n",
      "\u001b[1;32m~\\AppData\\Local\\Continuum\\anaconda3\\lib\\site-packages\\IPython\\core\\magic.py\u001b[0m in \u001b[0;36m<lambda>\u001b[1;34m(f, *a, **k)\u001b[0m\n\u001b[0;32m    185\u001b[0m     \u001b[1;31m# but it's overkill for just that one bit of state.\u001b[0m\u001b[1;33m\u001b[0m\u001b[1;33m\u001b[0m\u001b[0m\n\u001b[0;32m    186\u001b[0m     \u001b[1;32mdef\u001b[0m \u001b[0mmagic_deco\u001b[0m\u001b[1;33m(\u001b[0m\u001b[0marg\u001b[0m\u001b[1;33m)\u001b[0m\u001b[1;33m:\u001b[0m\u001b[1;33m\u001b[0m\u001b[0m\n\u001b[1;32m--> 187\u001b[1;33m         \u001b[0mcall\u001b[0m \u001b[1;33m=\u001b[0m \u001b[1;32mlambda\u001b[0m \u001b[0mf\u001b[0m\u001b[1;33m,\u001b[0m \u001b[1;33m*\u001b[0m\u001b[0ma\u001b[0m\u001b[1;33m,\u001b[0m \u001b[1;33m**\u001b[0m\u001b[0mk\u001b[0m\u001b[1;33m:\u001b[0m \u001b[0mf\u001b[0m\u001b[1;33m(\u001b[0m\u001b[1;33m*\u001b[0m\u001b[0ma\u001b[0m\u001b[1;33m,\u001b[0m \u001b[1;33m**\u001b[0m\u001b[0mk\u001b[0m\u001b[1;33m)\u001b[0m\u001b[1;33m\u001b[0m\u001b[0m\n\u001b[0m\u001b[0;32m    188\u001b[0m \u001b[1;33m\u001b[0m\u001b[0m\n\u001b[0;32m    189\u001b[0m         \u001b[1;32mif\u001b[0m \u001b[0mcallable\u001b[0m\u001b[1;33m(\u001b[0m\u001b[0marg\u001b[0m\u001b[1;33m)\u001b[0m\u001b[1;33m:\u001b[0m\u001b[1;33m\u001b[0m\u001b[0m\n",
      "\u001b[1;32m~\\AppData\\Local\\Continuum\\anaconda3\\lib\\site-packages\\IPython\\core\\magics\\pylab.py\u001b[0m in \u001b[0;36mmatplotlib\u001b[1;34m(self, line)\u001b[0m\n\u001b[0;32m     97\u001b[0m             \u001b[0mprint\u001b[0m\u001b[1;33m(\u001b[0m\u001b[1;34m\"Available matplotlib backends: %s\"\u001b[0m \u001b[1;33m%\u001b[0m \u001b[0mbackends_list\u001b[0m\u001b[1;33m)\u001b[0m\u001b[1;33m\u001b[0m\u001b[0m\n\u001b[0;32m     98\u001b[0m         \u001b[1;32melse\u001b[0m\u001b[1;33m:\u001b[0m\u001b[1;33m\u001b[0m\u001b[0m\n\u001b[1;32m---> 99\u001b[1;33m             \u001b[0mgui\u001b[0m\u001b[1;33m,\u001b[0m \u001b[0mbackend\u001b[0m \u001b[1;33m=\u001b[0m \u001b[0mself\u001b[0m\u001b[1;33m.\u001b[0m\u001b[0mshell\u001b[0m\u001b[1;33m.\u001b[0m\u001b[0menable_matplotlib\u001b[0m\u001b[1;33m(\u001b[0m\u001b[0margs\u001b[0m\u001b[1;33m.\u001b[0m\u001b[0mgui\u001b[0m\u001b[1;33m)\u001b[0m\u001b[1;33m\u001b[0m\u001b[0m\n\u001b[0m\u001b[0;32m    100\u001b[0m             \u001b[0mself\u001b[0m\u001b[1;33m.\u001b[0m\u001b[0m_show_matplotlib_backend\u001b[0m\u001b[1;33m(\u001b[0m\u001b[0margs\u001b[0m\u001b[1;33m.\u001b[0m\u001b[0mgui\u001b[0m\u001b[1;33m,\u001b[0m \u001b[0mbackend\u001b[0m\u001b[1;33m)\u001b[0m\u001b[1;33m\u001b[0m\u001b[0m\n\u001b[0;32m    101\u001b[0m \u001b[1;33m\u001b[0m\u001b[0m\n",
      "\u001b[1;32m~\\AppData\\Local\\Continuum\\anaconda3\\lib\\site-packages\\IPython\\core\\interactiveshell.py\u001b[0m in \u001b[0;36menable_matplotlib\u001b[1;34m(self, gui)\u001b[0m\n\u001b[0;32m   3353\u001b[0m                 \u001b[0mgui\u001b[0m\u001b[1;33m,\u001b[0m \u001b[0mbackend\u001b[0m \u001b[1;33m=\u001b[0m \u001b[0mpt\u001b[0m\u001b[1;33m.\u001b[0m\u001b[0mfind_gui_and_backend\u001b[0m\u001b[1;33m(\u001b[0m\u001b[0mself\u001b[0m\u001b[1;33m.\u001b[0m\u001b[0mpylab_gui_select\u001b[0m\u001b[1;33m)\u001b[0m\u001b[1;33m\u001b[0m\u001b[0m\n\u001b[0;32m   3354\u001b[0m \u001b[1;33m\u001b[0m\u001b[0m\n\u001b[1;32m-> 3355\u001b[1;33m         \u001b[0mpt\u001b[0m\u001b[1;33m.\u001b[0m\u001b[0mactivate_matplotlib\u001b[0m\u001b[1;33m(\u001b[0m\u001b[0mbackend\u001b[0m\u001b[1;33m)\u001b[0m\u001b[1;33m\u001b[0m\u001b[0m\n\u001b[0m\u001b[0;32m   3356\u001b[0m         \u001b[0mpt\u001b[0m\u001b[1;33m.\u001b[0m\u001b[0mconfigure_inline_support\u001b[0m\u001b[1;33m(\u001b[0m\u001b[0mself\u001b[0m\u001b[1;33m,\u001b[0m \u001b[0mbackend\u001b[0m\u001b[1;33m)\u001b[0m\u001b[1;33m\u001b[0m\u001b[0m\n\u001b[0;32m   3357\u001b[0m \u001b[1;33m\u001b[0m\u001b[0m\n",
      "\u001b[1;32m~\\AppData\\Local\\Continuum\\anaconda3\\lib\\site-packages\\IPython\\core\\pylabtools.py\u001b[0m in \u001b[0;36mactivate_matplotlib\u001b[1;34m(backend)\u001b[0m\n\u001b[0;32m    312\u001b[0m \u001b[1;33m\u001b[0m\u001b[0m\n\u001b[0;32m    313\u001b[0m     \u001b[1;32mimport\u001b[0m \u001b[0mmatplotlib\u001b[0m\u001b[1;33m.\u001b[0m\u001b[0mpyplot\u001b[0m\u001b[1;33m\u001b[0m\u001b[0m\n\u001b[1;32m--> 314\u001b[1;33m     \u001b[0mmatplotlib\u001b[0m\u001b[1;33m.\u001b[0m\u001b[0mpyplot\u001b[0m\u001b[1;33m.\u001b[0m\u001b[0mswitch_backend\u001b[0m\u001b[1;33m(\u001b[0m\u001b[0mbackend\u001b[0m\u001b[1;33m)\u001b[0m\u001b[1;33m\u001b[0m\u001b[0m\n\u001b[0m\u001b[0;32m    315\u001b[0m \u001b[1;33m\u001b[0m\u001b[0m\n\u001b[0;32m    316\u001b[0m     \u001b[1;31m# This must be imported last in the matplotlib series, after\u001b[0m\u001b[1;33m\u001b[0m\u001b[1;33m\u001b[0m\u001b[0m\n",
      "\u001b[1;32m~\\AppData\\Local\\Continuum\\anaconda3\\lib\\site-packages\\matplotlib\\pyplot.py\u001b[0m in \u001b[0;36mswitch_backend\u001b[1;34m(newbackend)\u001b[0m\n\u001b[0;32m    205\u001b[0m         else \"matplotlib.backends.backend_{}\".format(newbackend.lower()))\n\u001b[0;32m    206\u001b[0m \u001b[1;33m\u001b[0m\u001b[0m\n\u001b[1;32m--> 207\u001b[1;33m     \u001b[0mbackend_mod\u001b[0m \u001b[1;33m=\u001b[0m \u001b[0mimportlib\u001b[0m\u001b[1;33m.\u001b[0m\u001b[0mimport_module\u001b[0m\u001b[1;33m(\u001b[0m\u001b[0mbackend_name\u001b[0m\u001b[1;33m)\u001b[0m\u001b[1;33m\u001b[0m\u001b[0m\n\u001b[0m\u001b[0;32m    208\u001b[0m     Backend = type(\n\u001b[0;32m    209\u001b[0m         \"Backend\", (matplotlib.backends._Backend,), vars(backend_mod))\n",
      "\u001b[1;32m~\\AppData\\Local\\Continuum\\anaconda3\\lib\\importlib\\__init__.py\u001b[0m in \u001b[0;36mimport_module\u001b[1;34m(name, package)\u001b[0m\n\u001b[0;32m    124\u001b[0m                 \u001b[1;32mbreak\u001b[0m\u001b[1;33m\u001b[0m\u001b[0m\n\u001b[0;32m    125\u001b[0m             \u001b[0mlevel\u001b[0m \u001b[1;33m+=\u001b[0m \u001b[1;36m1\u001b[0m\u001b[1;33m\u001b[0m\u001b[0m\n\u001b[1;32m--> 126\u001b[1;33m     \u001b[1;32mreturn\u001b[0m \u001b[0m_bootstrap\u001b[0m\u001b[1;33m.\u001b[0m\u001b[0m_gcd_import\u001b[0m\u001b[1;33m(\u001b[0m\u001b[0mname\u001b[0m\u001b[1;33m[\u001b[0m\u001b[0mlevel\u001b[0m\u001b[1;33m:\u001b[0m\u001b[1;33m]\u001b[0m\u001b[1;33m,\u001b[0m \u001b[0mpackage\u001b[0m\u001b[1;33m,\u001b[0m \u001b[0mlevel\u001b[0m\u001b[1;33m)\u001b[0m\u001b[1;33m\u001b[0m\u001b[0m\n\u001b[0m\u001b[0;32m    127\u001b[0m \u001b[1;33m\u001b[0m\u001b[0m\n\u001b[0;32m    128\u001b[0m \u001b[1;33m\u001b[0m\u001b[0m\n",
      "\u001b[1;32m~\\AppData\\Local\\Continuum\\anaconda3\\lib\\importlib\\_bootstrap.py\u001b[0m in \u001b[0;36m_gcd_import\u001b[1;34m(name, package, level)\u001b[0m\n",
      "\u001b[1;32m~\\AppData\\Local\\Continuum\\anaconda3\\lib\\importlib\\_bootstrap.py\u001b[0m in \u001b[0;36m_find_and_load\u001b[1;34m(name, import_)\u001b[0m\n",
      "\u001b[1;32m~\\AppData\\Local\\Continuum\\anaconda3\\lib\\importlib\\_bootstrap.py\u001b[0m in \u001b[0;36m_find_and_load_unlocked\u001b[1;34m(name, import_)\u001b[0m\n",
      "\u001b[1;32m~\\AppData\\Local\\Continuum\\anaconda3\\lib\\importlib\\_bootstrap.py\u001b[0m in \u001b[0;36m_load_unlocked\u001b[1;34m(spec)\u001b[0m\n",
      "\u001b[1;32m~\\AppData\\Local\\Continuum\\anaconda3\\lib\\importlib\\_bootstrap_external.py\u001b[0m in \u001b[0;36mexec_module\u001b[1;34m(self, module)\u001b[0m\n",
      "\u001b[1;32m~\\AppData\\Local\\Continuum\\anaconda3\\lib\\importlib\\_bootstrap.py\u001b[0m in \u001b[0;36m_call_with_frames_removed\u001b[1;34m(f, *args, **kwds)\u001b[0m\n",
      "\u001b[1;32m~\\AppData\\Roaming\\Python\\Python36\\site-packages\\ipympl\\backend_nbagg.py\u001b[0m in \u001b[0;36m<module>\u001b[1;34m\u001b[0m\n\u001b[0;32m    117\u001b[0m \u001b[1;33m\u001b[0m\u001b[0m\n\u001b[0;32m    118\u001b[0m \u001b[0mhere\u001b[0m \u001b[1;33m=\u001b[0m \u001b[0mos\u001b[0m\u001b[1;33m.\u001b[0m\u001b[0mpath\u001b[0m\u001b[1;33m.\u001b[0m\u001b[0mdirname\u001b[0m\u001b[1;33m(\u001b[0m\u001b[0m__file__\u001b[0m\u001b[1;33m)\u001b[0m\u001b[1;33m\u001b[0m\u001b[0m\n\u001b[1;32m--> 119\u001b[1;33m \u001b[1;32mwith\u001b[0m \u001b[0mopen\u001b[0m\u001b[1;33m(\u001b[0m\u001b[0mos\u001b[0m\u001b[1;33m.\u001b[0m\u001b[0mpath\u001b[0m\u001b[1;33m.\u001b[0m\u001b[0mjoin\u001b[0m\u001b[1;33m(\u001b[0m\u001b[0mhere\u001b[0m\u001b[1;33m,\u001b[0m \u001b[1;34m'static'\u001b[0m\u001b[1;33m,\u001b[0m \u001b[1;34m'package.json'\u001b[0m\u001b[1;33m)\u001b[0m\u001b[1;33m)\u001b[0m \u001b[1;32mas\u001b[0m \u001b[0mfid\u001b[0m\u001b[1;33m:\u001b[0m\u001b[1;33m\u001b[0m\u001b[0m\n\u001b[0m\u001b[0;32m    120\u001b[0m     \u001b[0mjs_version\u001b[0m \u001b[1;33m=\u001b[0m \u001b[0mjson\u001b[0m\u001b[1;33m.\u001b[0m\u001b[0mload\u001b[0m\u001b[1;33m(\u001b[0m\u001b[0mfid\u001b[0m\u001b[1;33m)\u001b[0m\u001b[1;33m[\u001b[0m\u001b[1;34m'version'\u001b[0m\u001b[1;33m]\u001b[0m\u001b[1;33m\u001b[0m\u001b[0m\n\u001b[0;32m    121\u001b[0m \u001b[1;33m\u001b[0m\u001b[0m\n",
      "\u001b[1;31mFileNotFoundError\u001b[0m: [Errno 2] No such file or directory: 'C:\\\\Users\\\\lrcno\\\\AppData\\\\Roaming\\\\Python\\\\Python36\\\\site-packages\\\\ipympl\\\\static\\\\package.json'"
     ]
    }
   ],
   "source": [
    "%matplotlib nbagg\n",
    "import matplotlib.pyplot as plt\n",
    "\n",
    "n = 50\n",
    "\n",
    "qgrid_df = qgrid_widget.get_changed_df()\n",
    "x = qgrid_df.index\n",
    "y = qgrid_df['C']\n",
    "\n",
    "fig, ax = plt.subplots()\n",
    "fit = np.polyfit(x, y, deg=1)\n",
    "line, = ax.plot(x, fit[0] * x + fit[1], color='red')\n",
    "scatter, = ax.plot(x,y,ms=8,color='b',marker='o',ls='')\n",
    "\n",
    "def handle_filter_changed(event, widget):\n",
    "    qgrid_df = qgrid_widget.get_changed_df()\n",
    "    x = qgrid_df.index\n",
    "    y = qgrid_df['C']\n",
    "    fit = np.polyfit(x, y, deg=1)\n",
    "    line.set_data(x, fit[0] * x + fit[1])\n",
    "    fig.canvas.draw()\n",
    "    scatter.set_data(x, y)\n",
    "    fig.canvas.draw()\n",
    "\n",
    "qgrid_widget.on('filter_changed', handle_filter_changed)"
   ]
  },
  {
   "cell_type": "code",
   "execution_count": 11,
   "metadata": {},
   "outputs": [
    {
     "name": "stdout",
     "output_type": "stream",
     "text": [
      "Requirement already satisfied: ipympl in c:\\users\\lrcno\\appdata\\local\\continuum\\anaconda3\\lib\\site-packages (0.2.1)\n",
      "Requirement already satisfied: ipykernel>=4.7 in c:\\users\\lrcno\\appdata\\local\\continuum\\anaconda3\\lib\\site-packages (from ipympl) (5.1.0)\n",
      "Requirement already satisfied: ipywidgets>=7.0.0 in c:\\users\\lrcno\\appdata\\local\\continuum\\anaconda3\\lib\\site-packages (from ipympl) (7.4.2)\n",
      "Requirement already satisfied: six in c:\\users\\lrcno\\appdata\\local\\continuum\\anaconda3\\lib\\site-packages (from ipympl) (1.12.0)\n",
      "Requirement already satisfied: matplotlib>=2.0.0 in c:\\users\\lrcno\\appdata\\local\\continuum\\anaconda3\\lib\\site-packages (from ipympl) (3.0.3)\n",
      "Requirement already satisfied: ipython>=5.0.0 in c:\\users\\lrcno\\appdata\\local\\continuum\\anaconda3\\lib\\site-packages (from ipykernel>=4.7->ipympl) (7.2.0)\n",
      "Requirement already satisfied: tornado>=4.2 in c:\\users\\lrcno\\appdata\\local\\continuum\\anaconda3\\lib\\site-packages (from ipykernel>=4.7->ipympl) (5.1.1)\n",
      "Requirement already satisfied: jupyter-client in c:\\users\\lrcno\\appdata\\local\\continuum\\anaconda3\\lib\\site-packages (from ipykernel>=4.7->ipympl) (5.2.4)\n",
      "Requirement already satisfied: traitlets>=4.1.0 in c:\\users\\lrcno\\appdata\\local\\continuum\\anaconda3\\lib\\site-packages (from ipykernel>=4.7->ipympl) (4.3.2)\n",
      "Requirement already satisfied: widgetsnbextension~=3.4.0 in c:\\users\\lrcno\\appdata\\local\\continuum\\anaconda3\\lib\\site-packages (from ipywidgets>=7.0.0->ipympl) (3.4.2)\n",
      "Requirement already satisfied: nbformat>=4.2.0 in c:\\users\\lrcno\\appdata\\local\\continuum\\anaconda3\\lib\\site-packages (from ipywidgets>=7.0.0->ipympl) (4.4.0)\n",
      "Requirement already satisfied: python-dateutil>=2.1 in c:\\users\\lrcno\\appdata\\local\\continuum\\anaconda3\\lib\\site-packages (from matplotlib>=2.0.0->ipympl) (2.7.5)\n",
      "Requirement already satisfied: kiwisolver>=1.0.1 in c:\\users\\lrcno\\appdata\\local\\continuum\\anaconda3\\lib\\site-packages (from matplotlib>=2.0.0->ipympl) (1.0.1)\n",
      "Requirement already satisfied: pyparsing!=2.0.4,!=2.1.2,!=2.1.6,>=2.0.1 in c:\\users\\lrcno\\appdata\\local\\continuum\\anaconda3\\lib\\site-packages (from matplotlib>=2.0.0->ipympl) (2.3.1)\n",
      "Requirement already satisfied: cycler>=0.10 in c:\\users\\lrcno\\appdata\\local\\continuum\\anaconda3\\lib\\site-packages (from matplotlib>=2.0.0->ipympl) (0.10.0)\n",
      "Requirement already satisfied: numpy>=1.10.0 in c:\\users\\lrcno\\appdata\\local\\continuum\\anaconda3\\lib\\site-packages (from matplotlib>=2.0.0->ipympl) (1.16.1)\n",
      "Requirement already satisfied: jedi>=0.10 in c:\\users\\lrcno\\appdata\\local\\continuum\\anaconda3\\lib\\site-packages (from ipython>=5.0.0->ipykernel>=4.7->ipympl) (0.13.2)\n",
      "Requirement already satisfied: prompt-toolkit<2.1.0,>=2.0.0 in c:\\users\\lrcno\\appdata\\local\\continuum\\anaconda3\\lib\\site-packages (from ipython>=5.0.0->ipykernel>=4.7->ipympl) (2.0.8)\n",
      "Requirement already satisfied: colorama; sys_platform == \"win32\" in c:\\users\\lrcno\\appdata\\local\\continuum\\anaconda3\\lib\\site-packages (from ipython>=5.0.0->ipykernel>=4.7->ipympl) (0.4.1)\n",
      "Requirement already satisfied: backcall in c:\\users\\lrcno\\appdata\\local\\continuum\\anaconda3\\lib\\site-packages (from ipython>=5.0.0->ipykernel>=4.7->ipympl) (0.1.0)\n",
      "Requirement already satisfied: pickleshare in c:\\users\\lrcno\\appdata\\local\\continuum\\anaconda3\\lib\\site-packages (from ipython>=5.0.0->ipykernel>=4.7->ipympl) (0.7.5)\n",
      "Requirement already satisfied: setuptools>=18.5 in c:\\users\\lrcno\\appdata\\local\\continuum\\anaconda3\\lib\\site-packages (from ipython>=5.0.0->ipykernel>=4.7->ipympl) (40.7.3)\n",
      "Requirement already satisfied: pygments in c:\\users\\lrcno\\appdata\\local\\continuum\\anaconda3\\lib\\site-packages (from ipython>=5.0.0->ipykernel>=4.7->ipympl) (2.3.1)\n",
      "Requirement already satisfied: decorator in c:\\users\\lrcno\\appdata\\local\\continuum\\anaconda3\\lib\\site-packages (from ipython>=5.0.0->ipykernel>=4.7->ipympl) (4.3.2)\n",
      "Requirement already satisfied: jupyter-core in c:\\users\\lrcno\\appdata\\local\\continuum\\anaconda3\\lib\\site-packages (from jupyter-client->ipykernel>=4.7->ipympl) (4.4.0)\n",
      "Requirement already satisfied: pyzmq>=13 in c:\\users\\lrcno\\appdata\\local\\continuum\\anaconda3\\lib\\site-packages (from jupyter-client->ipykernel>=4.7->ipympl) (17.1.2)\n",
      "Requirement already satisfied: ipython_genutils in c:\\users\\lrcno\\appdata\\local\\continuum\\anaconda3\\lib\\site-packages (from traitlets>=4.1.0->ipykernel>=4.7->ipympl) (0.2.0)\n",
      "Requirement already satisfied: notebook>=4.4.1 in c:\\users\\lrcno\\appdata\\local\\continuum\\anaconda3\\lib\\site-packages (from widgetsnbextension~=3.4.0->ipywidgets>=7.0.0->ipympl) (5.7.4)\n",
      "Requirement already satisfied: jsonschema!=2.5.0,>=2.4 in c:\\users\\lrcno\\appdata\\local\\continuum\\anaconda3\\lib\\site-packages (from nbformat>=4.2.0->ipywidgets>=7.0.0->ipympl) (2.6.0)\n",
      "Requirement already satisfied: parso>=0.3.0 in c:\\users\\lrcno\\appdata\\local\\continuum\\anaconda3\\lib\\site-packages (from jedi>=0.10->ipython>=5.0.0->ipykernel>=4.7->ipympl) (0.3.2)\n",
      "Requirement already satisfied: wcwidth in c:\\users\\lrcno\\appdata\\local\\continuum\\anaconda3\\lib\\site-packages (from prompt-toolkit<2.1.0,>=2.0.0->ipython>=5.0.0->ipykernel>=4.7->ipympl) (0.1.7)\n",
      "Requirement already satisfied: jinja2 in c:\\users\\lrcno\\appdata\\local\\continuum\\anaconda3\\lib\\site-packages (from notebook>=4.4.1->widgetsnbextension~=3.4.0->ipywidgets>=7.0.0->ipympl) (2.10)\n",
      "Requirement already satisfied: nbconvert in c:\\users\\lrcno\\appdata\\local\\continuum\\anaconda3\\lib\\site-packages (from notebook>=4.4.1->widgetsnbextension~=3.4.0->ipywidgets>=7.0.0->ipympl) (5.4.0)\n",
      "Requirement already satisfied: terminado>=0.8.1 in c:\\users\\lrcno\\appdata\\local\\continuum\\anaconda3\\lib\\site-packages (from notebook>=4.4.1->widgetsnbextension~=3.4.0->ipywidgets>=7.0.0->ipympl) (0.8.1)\n",
      "Requirement already satisfied: Send2Trash in c:\\users\\lrcno\\appdata\\local\\continuum\\anaconda3\\lib\\site-packages (from notebook>=4.4.1->widgetsnbextension~=3.4.0->ipywidgets>=7.0.0->ipympl) (1.5.0)\n",
      "Requirement already satisfied: prometheus-client in c:\\users\\lrcno\\appdata\\local\\continuum\\anaconda3\\lib\\site-packages (from notebook>=4.4.1->widgetsnbextension~=3.4.0->ipywidgets>=7.0.0->ipympl) (0.5.0)\n",
      "Requirement already satisfied: MarkupSafe>=0.23 in c:\\users\\lrcno\\appdata\\local\\continuum\\anaconda3\\lib\\site-packages (from jinja2->notebook>=4.4.1->widgetsnbextension~=3.4.0->ipywidgets>=7.0.0->ipympl) (1.0)\n",
      "Requirement already satisfied: mistune>=0.8.1 in c:\\users\\lrcno\\appdata\\local\\continuum\\anaconda3\\lib\\site-packages (from nbconvert->notebook>=4.4.1->widgetsnbextension~=3.4.0->ipywidgets>=7.0.0->ipympl) (0.8.3)\n",
      "Requirement already satisfied: entrypoints>=0.2.2 in c:\\users\\lrcno\\appdata\\local\\continuum\\anaconda3\\lib\\site-packages (from nbconvert->notebook>=4.4.1->widgetsnbextension~=3.4.0->ipywidgets>=7.0.0->ipympl) (0.3)\n",
      "Requirement already satisfied: bleach in c:\\users\\lrcno\\appdata\\local\\continuum\\anaconda3\\lib\\site-packages (from nbconvert->notebook>=4.4.1->widgetsnbextension~=3.4.0->ipywidgets>=7.0.0->ipympl) (3.1.0)\n",
      "Requirement already satisfied: pandocfilters>=1.4.1 in c:\\users\\lrcno\\appdata\\local\\continuum\\anaconda3\\lib\\site-packages (from nbconvert->notebook>=4.4.1->widgetsnbextension~=3.4.0->ipywidgets>=7.0.0->ipympl) (1.4.2)\n",
      "Requirement already satisfied: testpath in c:\\users\\lrcno\\appdata\\local\\continuum\\anaconda3\\lib\\site-packages (from nbconvert->notebook>=4.4.1->widgetsnbextension~=3.4.0->ipywidgets>=7.0.0->ipympl) (0.4.2)\n",
      "Requirement already satisfied: defusedxml in c:\\users\\lrcno\\appdata\\local\\continuum\\anaconda3\\lib\\site-packages (from nbconvert->notebook>=4.4.1->widgetsnbextension~=3.4.0->ipywidgets>=7.0.0->ipympl) (0.5.0)\n",
      "Requirement already satisfied: webencodings in c:\\users\\lrcno\\appdata\\local\\continuum\\anaconda3\\lib\\site-packages (from bleach->nbconvert->notebook>=4.4.1->widgetsnbextension~=3.4.0->ipywidgets>=7.0.0->ipympl) (0.5.1)\n"
     ]
    }
   ],
   "source": [
    "!pip install ipympl"
   ]
  },
  {
   "cell_type": "code",
   "execution_count": null,
   "metadata": {},
   "outputs": [],
   "source": []
  }
 ],
 "metadata": {
  "kernelspec": {
   "display_name": "Python 3",
   "language": "python",
   "name": "python3"
  },
  "language_info": {
   "codemirror_mode": {
    "name": "ipython",
    "version": 3
   },
   "file_extension": ".py",
   "mimetype": "text/x-python",
   "name": "python",
   "nbconvert_exporter": "python",
   "pygments_lexer": "ipython3",
   "version": "3.6.0"
  }
 },
 "nbformat": 4,
 "nbformat_minor": 2
}
