{
 "cells": [
  {
   "cell_type": "markdown",
   "metadata": {},
   "source": [
    "# Introduction\n",
    "\n",
    "#SWDchallenge: visualize THIS data!\n",
    "MARCH 01, 2019 BY COLE NUSSBAUMER KNAFLIC\n",
    "UPDATE: It seems we may have overcomplicated things this time around. Let’s simplify!\n",
    "\n",
    "You can download the file with country-to-country donations here. Create a visual to ANSWER ONE QUESTION: WHO DONATES? (Related subquestions you may also answer: How are donations distributed across countries?\n",
    "* Who donates to whom? Are there any patterns, for example some group of countries tends to donate only to some specific group of other countries?)\n",
    "*  How are donations distributed across countries?\n",
    "\n",
    "* SHARE: Tweet your graph(s) or post publicly and email the link to SWDchallenge@storytellingwithdata.com.\n",
    "\n",
    "NEW EXTENDED DEADLINE: Friday, March 15th (midnight PST). \n",
    "\n",
    "You’re of course welcome to do more (original full instructions follow), but our hopes are that simplifying will boost participation and we’ll get enough content to push some important data viz research forward!"
   ]
  },
  {
   "cell_type": "markdown",
   "metadata": {},
   "source": [
    "# Background\n",
    "Country to Country donation with data from AidData Core Research from 1947-2013"
   ]
  },
  {
   "cell_type": "code",
   "execution_count": 1,
   "metadata": {
    "ExecuteTime": {
     "end_time": "2019-03-14T03:58:59.145488Z",
     "start_time": "2019-03-14T03:58:58.880026Z"
    }
   },
   "outputs": [],
   "source": [
    "import pandas as pd\n",
    "from pathlib import Path\n",
    "import qgrid\n",
    "import altair as alt"
   ]
  },
  {
   "cell_type": "code",
   "execution_count": 2,
   "metadata": {
    "ExecuteTime": {
     "end_time": "2019-03-14T01:56:22.898494Z",
     "start_time": "2019-03-14T01:56:22.895486Z"
    }
   },
   "outputs": [],
   "source": [
    "DATA = Path('data')"
   ]
  },
  {
   "cell_type": "code",
   "execution_count": 3,
   "metadata": {
    "ExecuteTime": {
     "end_time": "2019-03-14T01:56:52.731002Z",
     "start_time": "2019-03-14T01:56:52.591364Z"
    }
   },
   "outputs": [],
   "source": [
    "df = pd.read_csv(DATA/'aiddata-countries-only.csv',index_col=0)"
   ]
  },
  {
   "cell_type": "code",
   "execution_count": 4,
   "metadata": {
    "ExecuteTime": {
     "end_time": "2019-03-14T01:56:53.843852Z",
     "start_time": "2019-03-14T01:56:53.614496Z"
    }
   },
   "outputs": [],
   "source": [
    "grid = qgrid.show_grid(df)"
   ]
  },
  {
   "cell_type": "code",
   "execution_count": 5,
   "metadata": {
    "ExecuteTime": {
     "end_time": "2019-03-14T01:56:54.409643Z",
     "start_time": "2019-03-14T01:56:54.403628Z"
    }
   },
   "outputs": [
    {
     "data": {
      "application/vnd.jupyter.widget-view+json": {
       "model_id": "b2046d1fc5a440acbb2c9c1f84a34106",
       "version_major": 2,
       "version_minor": 0
      },
      "text/plain": [
       "QgridWidget(grid_options={'fullWidthRows': True, 'syncColumnCellResize': True, 'forceFitColumns': True, 'defau…"
      ]
     },
     "metadata": {},
     "output_type": "display_data"
    }
   ],
   "source": [
    "grid"
   ]
  },
  {
   "cell_type": "markdown",
   "metadata": {},
   "source": [
    "## Who donates to whom? Are there any patterns, for example some group of countries tends to donate only to some specific group of other countries?)"
   ]
  },
  {
   "cell_type": "markdown",
   "metadata": {},
   "source": [
    "* Sankey Diagram"
   ]
  },
  {
   "cell_type": "markdown",
   "metadata": {},
   "source": [
    "## How are donations distributed across countries?\n",
    "* Bar Chart\n",
    "* Map\n",
    "* Treemap"
   ]
  },
  {
   "cell_type": "code",
   "execution_count": 6,
   "metadata": {
    "ExecuteTime": {
     "end_time": "2019-03-14T03:59:57.563869Z",
     "start_time": "2019-03-14T03:59:57.527772Z"
    }
   },
   "outputs": [],
   "source": [
    "# alt.renderers.enable('notebook')"
   ]
  },
  {
   "cell_type": "code",
   "execution_count": 7,
   "metadata": {
    "ExecuteTime": {
     "end_time": "2019-03-14T06:20:56.213077Z",
     "start_time": "2019-03-14T06:20:56.196066Z"
    }
   },
   "outputs": [
    {
     "data": {
      "text/html": [
       "<div>\n",
       "<style scoped>\n",
       "    .dataframe tbody tr th:only-of-type {\n",
       "        vertical-align: middle;\n",
       "    }\n",
       "\n",
       "    .dataframe tbody tr th {\n",
       "        vertical-align: top;\n",
       "    }\n",
       "\n",
       "    .dataframe thead th {\n",
       "        text-align: right;\n",
       "    }\n",
       "</style>\n",
       "<table border=\"1\" class=\"dataframe\">\n",
       "  <thead>\n",
       "    <tr style=\"text-align: right;\">\n",
       "      <th></th>\n",
       "      <th>aiddata_id</th>\n",
       "      <th>aiddata_2_id</th>\n",
       "      <th>year</th>\n",
       "      <th>donor</th>\n",
       "      <th>recipient</th>\n",
       "      <th>commitment_amount_usd_constant</th>\n",
       "      <th>coalesced_purpose_code</th>\n",
       "      <th>coalesced_purpose_name</th>\n",
       "    </tr>\n",
       "  </thead>\n",
       "  <tbody>\n",
       "    <tr>\n",
       "      <th>1</th>\n",
       "      <td>2414478.0</td>\n",
       "      <td>NaN</td>\n",
       "      <td>1977</td>\n",
       "      <td>Saudi Arabia</td>\n",
       "      <td>India</td>\n",
       "      <td>348718518.0</td>\n",
       "      <td>23030</td>\n",
       "      <td>Power generation/renewable sources</td>\n",
       "    </tr>\n",
       "    <tr>\n",
       "      <th>2</th>\n",
       "      <td>2414509.0</td>\n",
       "      <td>NaN</td>\n",
       "      <td>1977</td>\n",
       "      <td>Saudi Arabia</td>\n",
       "      <td>Brazil</td>\n",
       "      <td>191647004.0</td>\n",
       "      <td>23040</td>\n",
       "      <td>Electrical transmission/ distribution</td>\n",
       "    </tr>\n",
       "    <tr>\n",
       "      <th>3</th>\n",
       "      <td>2414635.0</td>\n",
       "      <td>NaN</td>\n",
       "      <td>1983</td>\n",
       "      <td>Saudi Arabia</td>\n",
       "      <td>India</td>\n",
       "      <td>79371799.0</td>\n",
       "      <td>21030</td>\n",
       "      <td>Rail transport</td>\n",
       "    </tr>\n",
       "    <tr>\n",
       "      <th>4</th>\n",
       "      <td>2414665.0</td>\n",
       "      <td>NaN</td>\n",
       "      <td>1984</td>\n",
       "      <td>Saudi Arabia</td>\n",
       "      <td>Taiwan</td>\n",
       "      <td>212202942.0</td>\n",
       "      <td>21030</td>\n",
       "      <td>Rail transport</td>\n",
       "    </tr>\n",
       "    <tr>\n",
       "      <th>5</th>\n",
       "      <td>2414667.0</td>\n",
       "      <td>NaN</td>\n",
       "      <td>1984</td>\n",
       "      <td>Saudi Arabia</td>\n",
       "      <td>Korea</td>\n",
       "      <td>134511154.0</td>\n",
       "      <td>21040</td>\n",
       "      <td>Water transport</td>\n",
       "    </tr>\n",
       "  </tbody>\n",
       "</table>\n",
       "</div>"
      ],
      "text/plain": [
       "   aiddata_id  aiddata_2_id  year         donor recipient  \\\n",
       "1   2414478.0           NaN  1977  Saudi Arabia     India   \n",
       "2   2414509.0           NaN  1977  Saudi Arabia    Brazil   \n",
       "3   2414635.0           NaN  1983  Saudi Arabia     India   \n",
       "4   2414665.0           NaN  1984  Saudi Arabia    Taiwan   \n",
       "5   2414667.0           NaN  1984  Saudi Arabia     Korea   \n",
       "\n",
       "   commitment_amount_usd_constant  coalesced_purpose_code  \\\n",
       "1                     348718518.0                   23030   \n",
       "2                     191647004.0                   23040   \n",
       "3                      79371799.0                   21030   \n",
       "4                     212202942.0                   21030   \n",
       "5                     134511154.0                   21040   \n",
       "\n",
       "                  coalesced_purpose_name  \n",
       "1     Power generation/renewable sources  \n",
       "2  Electrical transmission/ distribution  \n",
       "3                         Rail transport  \n",
       "4                         Rail transport  \n",
       "5                        Water transport  "
      ]
     },
     "execution_count": 7,
     "metadata": {},
     "output_type": "execute_result"
    }
   ],
   "source": [
    "df.head()"
   ]
  },
  {
   "cell_type": "code",
   "execution_count": 77,
   "metadata": {
    "ExecuteTime": {
     "end_time": "2019-03-14T06:26:07.050951Z",
     "start_time": "2019-03-14T06:26:07.046942Z"
    }
   },
   "outputs": [
    {
     "data": {
      "text/plain": [
       "DataTransformerRegistry.enable('json')"
      ]
     },
     "execution_count": 77,
     "metadata": {},
     "output_type": "execute_result"
    }
   ],
   "source": [
    "from altair import X,Y,Color, Order, EncodingSortField\n",
    "alt.data_transformers.enable('json')"
   ]
  },
  {
   "cell_type": "markdown",
   "metadata": {},
   "source": [
    "# Top Donor"
   ]
  },
  {
   "cell_type": "code",
   "execution_count": 9,
   "metadata": {
    "ExecuteTime": {
     "end_time": "2019-03-14T08:25:47.422793Z",
     "start_time": "2019-03-14T08:25:47.419786Z"
    }
   },
   "outputs": [],
   "source": [
    "brush = alt.selection(type='interval', encodings=['y'])\n",
    "sort=alt.EncodingSortField(\n",
    "            field=\"commitment_amount_usd_constant\",  # The field to use for the sort\n",
    "            op=\"sum\",  # The operation to run on the field prior to sorting\n",
    "            order=\"descending\"  # The order to sort in\n",
    "        )"
   ]
  },
  {
   "cell_type": "code",
   "execution_count": 10,
   "metadata": {},
   "outputs": [],
   "source": [
    "tmp = df[['donor','commitment_amount_usd_constant']].groupby(['donor']).sum().reset_index()\n"
   ]
  },
  {
   "cell_type": "code",
   "execution_count": 34,
   "metadata": {},
   "outputs": [],
   "source": [
    "chart_donor_group = (alt.Chart(tmp)\n",
    " .mark_bar()\n",
    " .encode(y=Y('donor:N', sort=sort,title=''),\n",
    "         x=X('sum(commitment_amount_usd_constant):Q', title='Amount'),\n",
    "         tooltip=['sum(commitment_amount_usd_constant)'],\n",
    "         color=alt.condition(brush, alt.value('#1696d2'), alt.value('lightgray'))\n",
    ").transform_window(\n",
    "    rank='rank(commitment_amount_usd_constant)',\n",
    "    sort=[alt.SortField('commitment_amount_usd_constant', order='descending')]\n",
    ").transform_filter(\n",
    "    (alt.datum.rank <= 10)\n",
    ").add_selection(brush)\n",
    "              )\n",
    "\n",
    "chart_donor_group.title = 'Top 10 Donors'\n"
   ]
  },
  {
   "cell_type": "code",
   "execution_count": 35,
   "metadata": {},
   "outputs": [
    {
     "data": {
      "application/vnd.vegalite.v2+json": {
       "$schema": "https://vega.github.io/schema/vega-lite/v2.6.0.json",
       "config": {
        "area": {
         "fill": "#1696d2"
        },
        "axisX": {
         "domain": true,
         "domainColor": "#000000",
         "domainWidth": 1,
         "grid": false,
         "labelAngle": 0,
         "labelFont": "Lato",
         "labelFontSize": 12,
         "tickColor": "#000000",
         "tickSize": 5,
         "title": "",
         "titleFont": "Lato",
         "titleFontSize": 12,
         "titlePadding": 10
        },
        "axisY": {
         "domain": false,
         "grid": true,
         "gridColor": "#DEDDDD",
         "gridWidth": 1,
         "labelFont": "Lato",
         "labelFontSize": 12,
         "labelPadding": 8,
         "ticks": false,
         "titleAngle": 0,
         "titleFont": "Lato",
         "titleFontSize": 12,
         "titlePadding": 10,
         "titleX": 18,
         "titleY": -10
        },
        "background": "#FFFFFF",
        "bar": {
         "binSpacing": 1,
         "continuousBandSize": 30,
         "discreteBandSize": 30,
         "fill": "#1696d2",
         "size": 40,
         "stroke": false
        },
        "legend": {
         "labelFont": "Lato",
         "labelFontSize": 12,
         "offset": 0,
         "orient": "top-left",
         "symbolSize": 100,
         "symbolType": "square",
         "title": "",
         "titleFont": "Lato",
         "titleFontSize": 12,
         "titlePadding": 10
        },
        "line": {
         "color": "#1696d2",
         "stroke": "#1696d2",
         "strokewidth": 5
        },
        "path": {
         "stroke": "#1696d2",
         "strokeWidth": 0.5
        },
        "point": {
         "filled": true
        },
        "range": {
         "category": [
          "#1696d2",
          "#d2d2d2",
          "#000000",
          "#fdbf11",
          "#ec008b",
          "#55b748",
          "#5c5859",
          "#db2b27"
         ],
         "diverging": [
          "#cfe8f3",
          "#a2d4ec",
          "#73bfe2",
          "#46abdb",
          "#1696d2",
          "#12719e"
         ]
        },
        "text": {
         "align": "right",
         "color": "#1696d2",
         "font": "Lato",
         "fontSize": 11,
         "fontWeight": 400,
         "size": 11
        },
        "title": {
         "anchor": "start",
         "font": "Lato",
         "fontColor": "#000000",
         "fontSize": 18
        },
        "trail": {
         "color": "#1696d2",
         "size": 1,
         "stroke": "#1696d2",
         "strokeWidth": 0
        },
        "view": {
         "stroke": "transparent"
        }
       },
       "data": {
        "format": {
         "type": "json"
        },
        "url": "datachallenge.json"
       },
       "encoding": {
        "color": {
         "condition": {
          "selection": "selector001",
          "value": "#1696d2"
         },
         "value": "lightgray"
        },
        "tooltip": [
         {
          "aggregate": "sum",
          "field": "commitment_amount_usd_constant",
          "type": "quantitative"
         }
        ],
        "x": {
         "aggregate": "sum",
         "field": "commitment_amount_usd_constant",
         "title": "Amount",
         "type": "quantitative"
        },
        "y": {
         "field": "donor",
         "sort": {
          "field": "commitment_amount_usd_constant",
          "op": "sum",
          "order": "descending"
         },
         "title": "",
         "type": "nominal"
        }
       },
       "height": 380,
       "mark": "bar",
       "selection": {
        "selector001": {
         "encodings": [
          "y"
         ],
         "mark": {
          "fill": "#333",
          "fillOpacity": 0.125,
          "stroke": "white"
         },
         "on": "[mousedown, window:mouseup] > window:mousemove!",
         "resolve": "global",
         "translate": "[mousedown, window:mouseup] > window:mousemove!",
         "type": "interval",
         "zoom": "wheel!"
        }
       },
       "title": "Top 10 Donors",
       "transform": [
        {
         "sort": [
          {
           "field": "commitment_amount_usd_constant",
           "order": "descending"
          }
         ],
         "window": [
          {
           "as": "rank",
           "field": "commitment_amount_usd_constant",
           "op": "rank"
          }
         ]
        },
        {
         "filter": "(datum.rank < 10)"
        }
       ],
       "width": 685
      },
      "image/png": "[encoded data removed]",
      "text/plain": [
       "<VegaLite 2 object>\n",
       "\n",
       "If you see this message, it means the renderer has not been properly enabled\n",
       "for the frontend that you are using. For more information, see\n",
       "https://altair-viz.github.io/user_guide/troubleshooting.html\n"
      ]
     },
     "execution_count": 35,
     "metadata": {},
     "output_type": "execute_result"
    }
   ],
   "source": [
    "chart_donor_group"
   ]
  },
  {
   "cell_type": "code",
   "execution_count": 12,
   "metadata": {},
   "outputs": [
    {
     "data": {
      "application/vnd.vegalite.v2+json": {
       "$schema": "https://vega.github.io/schema/vega-lite/v2.6.0.json",
       "config": {
        "view": {
         "height": 300,
         "width": 400
        }
       },
       "data": {
        "format": {
         "type": "json"
        },
        "url": "altair-data-51e7b2fdbf4df9fd023e5a31408ca514.json"
       },
       "encoding": {
        "color": {
         "condition": {
          "selection": "selector001",
          "value": "#1696d2"
         },
         "value": "lightgray"
        },
        "tooltip": [
         {
          "aggregate": "sum",
          "field": "commitment_amount_usd_constant",
          "type": "quantitative"
         }
        ],
        "x": {
         "aggregate": "sum",
         "field": "commitment_amount_usd_constant",
         "title": "Amount",
         "type": "quantitative"
        },
        "y": {
         "field": "donor",
         "sort": {
          "field": "commitment_amount_usd_constant",
          "op": "sum",
          "order": "descending"
         },
         "title": "",
         "type": "nominal"
        }
       },
       "mark": "bar",
       "selection": {
        "selector001": {
         "encodings": [
          "y"
         ],
         "mark": {
          "fill": "#333",
          "fillOpacity": 0.125,
          "stroke": "white"
         },
         "on": "[mousedown, window:mouseup] > window:mousemove!",
         "resolve": "global",
         "translate": "[mousedown, window:mouseup] > window:mousemove!",
         "type": "interval",
         "zoom": "wheel!"
        }
       },
       "title": "Top 10 Donors",
       "transform": [
        {
         "sort": [
          {
           "field": "commitment_amount_usd_constant",
           "order": "descending"
          }
         ],
         "window": [
          {
           "as": "rank",
           "field": "commitment_amount_usd_constant",
           "op": "rank"
          }
         ]
        },
        {
         "filter": "(datum.rank < 10)"
        }
       ]
      },
      "image/png": "[encoded data removed]",
      "text/plain": [
       "<VegaLite 2 object>\n",
       "\n",
       "If you see this message, it means the renderer has not been properly enabled\n",
       "for the frontend that you are using. For more information, see\n",
       "https://altair-viz.github.io/user_guide/troubleshooting.html\n"
      ]
     },
     "execution_count": 12,
     "metadata": {},
     "output_type": "execute_result"
    }
   ],
   "source": [
    "chart_donor_group"
   ]
  },
  {
   "cell_type": "markdown",
   "metadata": {},
   "source": [
    "# Top Recipent"
   ]
  },
  {
   "cell_type": "code",
   "execution_count": 36,
   "metadata": {
    "ExecuteTime": {
     "end_time": "2019-03-14T08:25:28.901511Z",
     "start_time": "2019-03-14T08:25:28.396329Z"
    }
   },
   "outputs": [],
   "source": [
    "chart_recipient = (alt.Chart('datachallenge.json')\n",
    " .mark_bar()\n",
    " .encode(y=Y('recipient:N', sort=sort, title=''),\n",
    "         x=X('sum(commitment_amount_usd_constant):Q', title='Amount')\n",
    ").transform_filter(brush))\n",
    "\n",
    "chart_recipient.title='Receipients'"
   ]
  },
  {
   "cell_type": "code",
   "execution_count": 38,
   "metadata": {},
   "outputs": [
    {
     "data": {
      "application/vnd.vegalite.v2+json": {
       "$schema": "https://vega.github.io/schema/vega-lite/v2.6.0.json",
       "config": {
        "area": {
         "fill": "#1696d2"
        },
        "axisX": {
         "domain": true,
         "domainColor": "#000000",
         "domainWidth": 1,
         "grid": false,
         "labelAngle": 0,
         "labelFont": "Lato",
         "labelFontSize": 12,
         "tickColor": "#000000",
         "tickSize": 5,
         "title": "",
         "titleFont": "Lato",
         "titleFontSize": 12,
         "titlePadding": 10
        },
        "axisY": {
         "domain": false,
         "grid": true,
         "gridColor": "#DEDDDD",
         "gridWidth": 1,
         "labelFont": "Lato",
         "labelFontSize": 12,
         "labelPadding": 8,
         "ticks": false,
         "titleAngle": 0,
         "titleFont": "Lato",
         "titleFontSize": 12,
         "titlePadding": 10,
         "titleX": 18,
         "titleY": -10
        },
        "background": "#FFFFFF",
        "bar": {
         "binSpacing": 1,
         "continuousBandSize": 30,
         "discreteBandSize": 30,
         "fill": "#1696d2",
         "size": 40,
         "stroke": false
        },
        "legend": {
         "labelFont": "Lato",
         "labelFontSize": 12,
         "offset": 0,
         "orient": "top-left",
         "symbolSize": 100,
         "symbolType": "square",
         "title": "",
         "titleFont": "Lato",
         "titleFontSize": 12,
         "titlePadding": 10
        },
        "line": {
         "color": "#1696d2",
         "stroke": "#1696d2",
         "strokewidth": 5
        },
        "path": {
         "stroke": "#1696d2",
         "strokeWidth": 0.5
        },
        "point": {
         "filled": true
        },
        "range": {
         "category": [
          "#1696d2",
          "#d2d2d2",
          "#000000",
          "#fdbf11",
          "#ec008b",
          "#55b748",
          "#5c5859",
          "#db2b27"
         ],
         "diverging": [
          "#cfe8f3",
          "#a2d4ec",
          "#73bfe2",
          "#46abdb",
          "#1696d2",
          "#12719e"
         ]
        },
        "text": {
         "align": "right",
         "color": "#1696d2",
         "font": "Lato",
         "fontSize": 11,
         "fontWeight": 400,
         "size": 11
        },
        "title": {
         "anchor": "start",
         "font": "Lato",
         "fontColor": "#000000",
         "fontSize": 18
        },
        "trail": {
         "color": "#1696d2",
         "size": 1,
         "stroke": "#1696d2",
         "strokeWidth": 0
        },
        "view": {
         "stroke": "transparent"
        }
       },
       "data": {
        "format": {
         "type": "json"
        },
        "url": "datachallenge.json"
       },
       "encoding": {
        "color": {
         "condition": {
          "selection": "selector001",
          "value": "#1696d2"
         },
         "value": "lightgray"
        },
        "tooltip": [
         {
          "aggregate": "sum",
          "field": "commitment_amount_usd_constant",
          "type": "quantitative"
         }
        ],
        "x": {
         "aggregate": "sum",
         "field": "commitment_amount_usd_constant",
         "title": "Amount",
         "type": "quantitative"
        },
        "y": {
         "field": "donor",
         "sort": {
          "field": "commitment_amount_usd_constant",
          "op": "sum",
          "order": "descending"
         },
         "title": "",
         "type": "nominal"
        }
       },
       "height": 380,
       "mark": "bar",
       "selection": {
        "selector001": {
         "encodings": [
          "y"
         ],
         "mark": {
          "fill": "#333",
          "fillOpacity": 0.125,
          "stroke": "white"
         },
         "on": "[mousedown, window:mouseup] > window:mousemove!",
         "resolve": "global",
         "translate": "[mousedown, window:mouseup] > window:mousemove!",
         "type": "interval",
         "zoom": "wheel!"
        }
       },
       "title": "Top 10 Donors",
       "transform": [
        {
         "sort": [
          {
           "field": "commitment_amount_usd_constant",
           "order": "descending"
          }
         ],
         "window": [
          {
           "as": "rank",
           "field": "commitment_amount_usd_constant",
           "op": "rank"
          }
         ]
        },
        {
         "filter": "(datum.rank < 10)"
        }
       ],
       "width": 685
      },
      "image/png": "[encoded data removed]",
      "text/plain": [
       "<VegaLite 2 object>\n",
       "\n",
       "If you see this message, it means the renderer has not been properly enabled\n",
       "for the frontend that you are using. For more information, see\n",
       "https://altair-viz.github.io/user_guide/troubleshooting.html\n"
      ]
     },
     "execution_count": 38,
     "metadata": {},
     "output_type": "execute_result"
    }
   ],
   "source": [
    "chart_donor_group"
   ]
  },
  {
   "cell_type": "code",
   "execution_count": 37,
   "metadata": {
    "ExecuteTime": {
     "end_time": "2019-03-14T08:25:28.901511Z",
     "start_time": "2019-03-14T08:25:28.396329Z"
    }
   },
   "outputs": [
    {
     "data": {
      "application/vnd.vegalite.v2+json": {
       "$schema": "https://vega.github.io/schema/vega-lite/v2.6.0.json",
       "config": {
        "area": {
         "fill": "#1696d2"
        },
        "axisX": {
         "domain": true,
         "domainColor": "#000000",
         "domainWidth": 1,
         "grid": false,
         "labelAngle": 0,
         "labelFont": "Lato",
         "labelFontSize": 12,
         "tickColor": "#000000",
         "tickSize": 5,
         "title": "",
         "titleFont": "Lato",
         "titleFontSize": 12,
         "titlePadding": 10
        },
        "axisY": {
         "domain": false,
         "grid": true,
         "gridColor": "#DEDDDD",
         "gridWidth": 1,
         "labelFont": "Lato",
         "labelFontSize": 12,
         "labelPadding": 8,
         "ticks": false,
         "titleAngle": 0,
         "titleFont": "Lato",
         "titleFontSize": 12,
         "titlePadding": 10,
         "titleX": 18,
         "titleY": -10
        },
        "background": "#FFFFFF",
        "bar": {
         "binSpacing": 1,
         "continuousBandSize": 30,
         "discreteBandSize": 30,
         "fill": "#1696d2",
         "size": 40,
         "stroke": false
        },
        "legend": {
         "labelFont": "Lato",
         "labelFontSize": 12,
         "offset": 0,
         "orient": "top-left",
         "symbolSize": 100,
         "symbolType": "square",
         "title": "",
         "titleFont": "Lato",
         "titleFontSize": 12,
         "titlePadding": 10
        },
        "line": {
         "color": "#1696d2",
         "stroke": "#1696d2",
         "strokewidth": 5
        },
        "path": {
         "stroke": "#1696d2",
         "strokeWidth": 0.5
        },
        "point": {
         "filled": true
        },
        "range": {
         "category": [
          "#1696d2",
          "#d2d2d2",
          "#000000",
          "#fdbf11",
          "#ec008b",
          "#55b748",
          "#5c5859",
          "#db2b27"
         ],
         "diverging": [
          "#cfe8f3",
          "#a2d4ec",
          "#73bfe2",
          "#46abdb",
          "#1696d2",
          "#12719e"
         ]
        },
        "text": {
         "align": "right",
         "color": "#1696d2",
         "font": "Lato",
         "fontSize": 11,
         "fontWeight": 400,
         "size": 11
        },
        "title": {
         "anchor": "start",
         "font": "Lato",
         "fontColor": "#000000",
         "fontSize": 18
        },
        "trail": {
         "color": "#1696d2",
         "size": 1,
         "stroke": "#1696d2",
         "strokeWidth": 0
        },
        "view": {
         "stroke": "transparent"
        }
       },
       "hconcat": [
        {
         "data": {
          "format": {
           "type": "json"
          },
          "url": "datachallenge.json"
         },
         "encoding": {
          "color": {
           "condition": {
            "selection": "selector001",
            "value": "#1696d2"
           },
           "value": "lightgray"
          },
          "tooltip": [
           {
            "aggregate": "sum",
            "field": "commitment_amount_usd_constant",
            "type": "quantitative"
           }
          ],
          "x": {
           "aggregate": "sum",
           "field": "commitment_amount_usd_constant",
           "title": "Amount",
           "type": "quantitative"
          },
          "y": {
           "field": "donor",
           "sort": {
            "field": "commitment_amount_usd_constant",
            "op": "sum",
            "order": "descending"
           },
           "title": "",
           "type": "nominal"
          }
         },
         "mark": "bar",
         "selection": {
          "selector001": {
           "encodings": [
            "y"
           ],
           "mark": {
            "fill": "#333",
            "fillOpacity": 0.125,
            "stroke": "white"
           },
           "on": "[mousedown, window:mouseup] > window:mousemove!",
           "resolve": "global",
           "translate": "[mousedown, window:mouseup] > window:mousemove!",
           "type": "interval",
           "zoom": "wheel!"
          }
         },
         "title": "Top 10 Donors",
         "transform": [
          {
           "sort": [
            {
             "field": "commitment_amount_usd_constant",
             "order": "descending"
            }
           ],
           "window": [
            {
             "as": "rank",
             "field": "commitment_amount_usd_constant",
             "op": "rank"
            }
           ]
          },
          {
           "filter": "(datum.rank < 10)"
          }
         ]
        },
        {
         "data": {
          "format": {
           "type": "json"
          },
          "url": "datachallenge.json"
         },
         "encoding": {
          "x": {
           "aggregate": "sum",
           "field": "commitment_amount_usd_constant",
           "title": "Amount",
           "type": "quantitative"
          },
          "y": {
           "field": "recipient",
           "sort": {
            "field": "commitment_amount_usd_constant",
            "op": "sum",
            "order": "descending"
           },
           "title": "",
           "type": "nominal"
          }
         },
         "mark": "bar",
         "title": "Receipients",
         "transform": [
          {
           "filter": {
            "selection": "selector001"
           }
          }
         ]
        }
       ],
       "height": 380,
       "width": 685
      },
      "image/png": "[encoded data removed]",
      "text/plain": [
       "<VegaLite 2 object>\n",
       "\n",
       "If you see this message, it means the renderer has not been properly enabled\n",
       "for the frontend that you are using. For more information, see\n",
       "https://altair-viz.github.io/user_guide/troubleshooting.html\n"
      ]
     },
     "execution_count": 37,
     "metadata": {},
     "output_type": "execute_result"
    }
   ],
   "source": [
    "final_chart = chart_donor_group | chart_recipient\n",
    "final_chart.save('datachallenge.html')\n",
    "final_chart"
   ]
  },
  {
   "cell_type": "markdown",
   "metadata": {},
   "source": [
    "# TODO\n",
    "* Cross-filter to show overall percentage\n",
    "* trellis of line graph"
   ]
  },
  {
   "cell_type": "markdown",
   "metadata": {},
   "source": [
    "# Ref"
   ]
  },
  {
   "cell_type": "code",
   "execution_count": 20,
   "metadata": {},
   "outputs": [
    {
     "data": {
      "text/plain": [
       "Index(['aiddata_id', 'aiddata_2_id', 'year', 'donor', 'recipient',\n",
       "       'commitment_amount_usd_constant', 'coalesced_purpose_code',\n",
       "       'coalesced_purpose_name'],\n",
       "      dtype='object')"
      ]
     },
     "execution_count": 20,
     "metadata": {},
     "output_type": "execute_result"
    }
   ],
   "source": [
    "df.columns"
   ]
  },
  {
   "cell_type": "code",
   "execution_count": 21,
   "metadata": {},
   "outputs": [],
   "source": [
    "tmp = df[['donor', 'recipient','commitment_amount_usd_constant']].groupby(['donor', 'recipient']).sum().reset_index()\n",
    "tmp.to_csv(DATA/'output.csv',index=False)"
   ]
  },
  {
   "cell_type": "code",
   "execution_count": 210,
   "metadata": {},
   "outputs": [
    {
     "data": {
      "text/html": [
       "<div>\n",
       "<style scoped>\n",
       "    .dataframe tbody tr th:only-of-type {\n",
       "        vertical-align: middle;\n",
       "    }\n",
       "\n",
       "    .dataframe tbody tr th {\n",
       "        vertical-align: top;\n",
       "    }\n",
       "\n",
       "    .dataframe thead th {\n",
       "        text-align: right;\n",
       "    }\n",
       "</style>\n",
       "<table border=\"1\" class=\"dataframe\">\n",
       "  <thead>\n",
       "    <tr style=\"text-align: right;\">\n",
       "      <th></th>\n",
       "      <th>donor</th>\n",
       "      <th>commitment_amount_usd_constant</th>\n",
       "    </tr>\n",
       "  </thead>\n",
       "  <tbody>\n",
       "    <tr>\n",
       "      <th>0</th>\n",
       "      <td>Australia</td>\n",
       "      <td>2.446616e+09</td>\n",
       "    </tr>\n",
       "    <tr>\n",
       "      <th>1</th>\n",
       "      <td>Austria</td>\n",
       "      <td>7.840690e+08</td>\n",
       "    </tr>\n",
       "    <tr>\n",
       "      <th>2</th>\n",
       "      <td>Belgium</td>\n",
       "      <td>2.144445e+09</td>\n",
       "    </tr>\n",
       "    <tr>\n",
       "      <th>3</th>\n",
       "      <td>Brazil</td>\n",
       "      <td>1.134440e+06</td>\n",
       "    </tr>\n",
       "    <tr>\n",
       "      <th>4</th>\n",
       "      <td>Canada</td>\n",
       "      <td>7.466338e+09</td>\n",
       "    </tr>\n",
       "  </tbody>\n",
       "</table>\n",
       "</div>"
      ],
      "text/plain": [
       "       donor  commitment_amount_usd_constant\n",
       "0  Australia                    2.446616e+09\n",
       "1    Austria                    7.840690e+08\n",
       "2    Belgium                    2.144445e+09\n",
       "3     Brazil                    1.134440e+06\n",
       "4     Canada                    7.466338e+09"
      ]
     },
     "execution_count": 210,
     "metadata": {},
     "output_type": "execute_result"
    }
   ],
   "source": [
    "tmp.head()"
   ]
  },
  {
   "cell_type": "code",
   "execution_count": 211,
   "metadata": {},
   "outputs": [
    {
     "data": {
      "text/plain": [
       "ThemeRegistry.enable('my_custom_theme')"
      ]
     },
     "execution_count": 211,
     "metadata": {},
     "output_type": "execute_result"
    }
   ],
   "source": [
    "def urban_theme():\n",
    "    markColor = \"#1696d2\"\n",
    "    axisColor = \"#000000\"\n",
    "    backgroundColor = \"#FFFFFF\"\n",
    "    font = \"Lato\"\n",
    "    labelFont = \"Lato\"\n",
    "    sourceFont = \"Lato\"\n",
    "    gridColor = \"#DEDDDD\"\n",
    "    main_palette = [\"#1696d2\", \n",
    "                    \"#d2d2d2\",\n",
    "                    \"#000000\", \n",
    "                    \"#fdbf11\", \n",
    "                    \"#ec008b\", \n",
    "                    \"#55b748\", \n",
    "                    \"#5c5859\", \n",
    "                    \"#db2b27\", \n",
    "                   ]\n",
    "    sequential_palette = [\"#cfe8f3\", \n",
    "                          \"#a2d4ec\", \n",
    "                          \"#73bfe2\", \n",
    "                          \"#46abdb\", \n",
    "                          \"#1696d2\", \n",
    "                          \"#12719e\", \n",
    "                         ]\n",
    "    return {\n",
    "        \"width\": 685,\n",
    "        \"height\": 380,   \n",
    "#        \"autosize\": \"fit\",\n",
    "        \"config\": {\n",
    "            \"title\": {\n",
    "                \"anchor\": \"start\",\n",
    "                \"fontSize\": 18,\n",
    "                \"font\": font,\n",
    "                \"fontColor\": \"#000000\"\n",
    "            },\n",
    "            \"axisX\": {\n",
    "               \"domain\": True,\n",
    "               \"domainColor\": axisColor,\n",
    "               \"domainWidth\": 1,\n",
    "               \"grid\": False,\n",
    "               \"labelFontSize\": 12,\n",
    "               \"labelFont\": labelFont,\n",
    "               \"labelAngle\": 0,\n",
    "               \"tickColor\": axisColor,\n",
    "               \"tickSize\": 5,\n",
    "               \"titleFontSize\": 12,\n",
    "               \"titlePadding\": 10,\n",
    "               \"titleFont\": font,\n",
    "               \"title\": \"\",\n",
    "           },\n",
    "           \"axisY\": {\n",
    "               \"domain\": False,\n",
    "               \"grid\": True,\n",
    "               \"gridColor\": gridColor,\n",
    "               \"gridWidth\": 1,\n",
    "               \"labelFontSize\": 12,\n",
    "               \"labelFont\": labelFont,\n",
    "               \"labelPadding\": 8,\n",
    "               \"ticks\": False,\n",
    "               \"titleFontSize\": 12,\n",
    "               \"titlePadding\": 10,\n",
    "               \"titleFont\": font,\n",
    "               \"titleAngle\": 0,\n",
    "               \"titleY\": -10,\n",
    "               \"titleX\": 18,\n",
    "           },\n",
    "           \"background\": backgroundColor,\n",
    "           \"legend\": {\n",
    "               \"labelFontSize\": 12,\n",
    "               \"labelFont\": labelFont,\n",
    "               \"symbolSize\": 100,\n",
    "               \"symbolType\": \"square\",\n",
    "               \"titleFontSize\": 12,\n",
    "               \"titlePadding\": 10,\n",
    "               \"titleFont\": font,\n",
    "               \"title\": \"\",\n",
    "               \"orient\": \"top-left\",\n",
    "               \"offset\": 0,\n",
    "           },\n",
    "           \"view\": {\n",
    "               \"stroke\": \"transparent\",\n",
    "           },\n",
    "           \"range\": {\n",
    "               \"category\": main_palette,\n",
    "               \"diverging\": sequential_palette,\n",
    "           },\n",
    "           \"area\": {\n",
    "               \"fill\": markColor,\n",
    "           },\n",
    "           \"line\": {\n",
    "               \"color\": markColor,\n",
    "               \"stroke\": markColor,\n",
    "               \"strokewidth\": 5,\n",
    "           },\n",
    "           \"trail\": {\n",
    "               \"color\": markColor,\n",
    "               \"stroke\": markColor,\n",
    "               \"strokeWidth\": 0,\n",
    "               \"size\": 1,\n",
    "           },\n",
    "           \"path\": {\n",
    "               \"stroke\": markColor,\n",
    "               \"strokeWidth\": 0.5,\n",
    "           },\n",
    "           \"point\": {\n",
    "               \"filled\": True,\n",
    "           },\n",
    "           \"text\": {\n",
    "               \"font\": sourceFont,\n",
    "               \"color\": markColor,\n",
    "               \"fontSize\": 11,\n",
    "               \"align\": \"right\",\n",
    "               \"fontWeight\": 400,\n",
    "               \"size\": 11,\n",
    "           }, \n",
    "           \"bar\": {\n",
    "                \"size\": 40,\n",
    "                \"binSpacing\": 1,\n",
    "                \"continuousBandSize\": 30,\n",
    "                \"discreteBandSize\": 30,\n",
    "                \"fill\": markColor,\n",
    "                \"stroke\": False,\n",
    "            }, \n",
    "       },\n",
    "    }\n",
    "    \n",
    "    \n",
    "import altair as alt\n",
    "alt.themes.register(\"my_custom_theme\", urban_theme)\n",
    "alt.themes.enable(\"my_custom_theme\")"
   ]
  },
  {
   "cell_type": "markdown",
   "metadata": {},
   "source": [
    "# for Export, finetune"
   ]
  },
  {
   "cell_type": "code",
   "execution_count": 159,
   "metadata": {},
   "outputs": [],
   "source": [
    "brush = alt.selection(type='interval', encodings=['y'])"
   ]
  },
  {
   "cell_type": "code",
   "execution_count": 212,
   "metadata": {},
   "outputs": [],
   "source": [
    "df_donor = df[['donor','commitment_amount_usd_constant']].groupby(['donor']).sum().reset_index()\n"
   ]
  },
  {
   "cell_type": "code",
   "execution_count": 217,
   "metadata": {},
   "outputs": [],
   "source": [
    "chart_donor_group = (alt.Chart('donor.json')# df_donor\n",
    " .mark_bar()\n",
    " .encode(y=Y('donor:N', sort=sort,title=''),\n",
    "         x=X('sum(commitment_amount_usd_constant):Q', title='Amount'),\n",
    "         tooltip=['sum(commitment_amount_usd_constant):Q'],\n",
    "         color=alt.condition(brush, alt.value('#1696d2'), alt.value('lightgray'))\n",
    ").transform_window(\n",
    "    rank='rank(commitment_amount_usd_constant)',\n",
    "    sort=[alt.SortField('commitment_amount_usd_constant', order='descending')]\n",
    ").transform_filter(\n",
    "    (alt.datum.rank <= 10)\n",
    ").add_selection(brush)\n",
    "              )\n",
    "\n",
    "chart_donor_group.title = 'Top 10 Donors'\n",
    "\n",
    "# chart_donor_group.save('donor.json')"
   ]
  },
  {
   "cell_type": "code",
   "execution_count": 218,
   "metadata": {},
   "outputs": [
    {
     "data": {
      "application/vnd.vegalite.v2+json": {
       "$schema": "https://vega.github.io/schema/vega-lite/v2.6.0.json",
       "config": {
        "area": {
         "fill": "#1696d2"
        },
        "axisX": {
         "domain": true,
         "domainColor": "#000000",
         "domainWidth": 1,
         "grid": false,
         "labelAngle": 0,
         "labelFont": "Lato",
         "labelFontSize": 12,
         "tickColor": "#000000",
         "tickSize": 5,
         "title": "",
         "titleFont": "Lato",
         "titleFontSize": 12,
         "titlePadding": 10
        },
        "axisY": {
         "domain": false,
         "grid": true,
         "gridColor": "#DEDDDD",
         "gridWidth": 1,
         "labelFont": "Lato",
         "labelFontSize": 12,
         "labelPadding": 8,
         "ticks": false,
         "titleAngle": 0,
         "titleFont": "Lato",
         "titleFontSize": 12,
         "titlePadding": 10,
         "titleX": 18,
         "titleY": -10
        },
        "background": "#FFFFFF",
        "bar": {
         "binSpacing": 1,
         "continuousBandSize": 30,
         "discreteBandSize": 30,
         "fill": "#1696d2",
         "size": 40,
         "stroke": false
        },
        "legend": {
         "labelFont": "Lato",
         "labelFontSize": 12,
         "offset": 0,
         "orient": "top-left",
         "symbolSize": 100,
         "symbolType": "square",
         "title": "",
         "titleFont": "Lato",
         "titleFontSize": 12,
         "titlePadding": 10
        },
        "line": {
         "color": "#1696d2",
         "stroke": "#1696d2",
         "strokewidth": 5
        },
        "path": {
         "stroke": "#1696d2",
         "strokeWidth": 0.5
        },
        "point": {
         "filled": true
        },
        "range": {
         "category": [
          "#1696d2",
          "#d2d2d2",
          "#000000",
          "#fdbf11",
          "#ec008b",
          "#55b748",
          "#5c5859",
          "#db2b27"
         ],
         "diverging": [
          "#cfe8f3",
          "#a2d4ec",
          "#73bfe2",
          "#46abdb",
          "#1696d2",
          "#12719e"
         ]
        },
        "text": {
         "align": "right",
         "color": "#1696d2",
         "font": "Lato",
         "fontSize": 11,
         "fontWeight": 400,
         "size": 11
        },
        "title": {
         "anchor": "start",
         "font": "Lato",
         "fontColor": "#000000",
         "fontSize": 18
        },
        "trail": {
         "color": "#1696d2",
         "size": 1,
         "stroke": "#1696d2",
         "strokeWidth": 0
        },
        "view": {
         "stroke": "transparent"
        }
       },
       "data": {
        "format": {
         "type": "json"
        },
        "url": "donor.json"
       },
       "encoding": {
        "color": {
         "condition": {
          "selection": "selector004",
          "value": "#1696d2"
         },
         "value": "lightgray"
        },
        "tooltip": [
         {
          "aggregate": "sum",
          "field": "commitment_amount_usd_constant",
          "type": "quantitative"
         }
        ],
        "x": {
         "aggregate": "sum",
         "field": "commitment_amount_usd_constant",
         "title": "Amount",
         "type": "quantitative"
        },
        "y": {
         "field": "donor",
         "sort": {
          "field": "commitment_amount_usd_constant",
          "op": "sum",
          "order": "descending"
         },
         "title": "",
         "type": "nominal"
        }
       },
       "height": 380,
       "mark": "bar",
       "selection": {
        "selector004": {
         "encodings": [
          "y"
         ],
         "mark": {
          "fill": "#333",
          "fillOpacity": 0.125,
          "stroke": "white"
         },
         "on": "[mousedown, window:mouseup] > window:mousemove!",
         "resolve": "global",
         "translate": "[mousedown, window:mouseup] > window:mousemove!",
         "type": "interval",
         "zoom": "wheel!"
        }
       },
       "title": "Top 10 Donors",
       "transform": [
        {
         "sort": [
          {
           "field": "commitment_amount_usd_constant",
           "order": "descending"
          }
         ],
         "window": [
          {
           "as": "rank",
           "field": "commitment_amount_usd_constant",
           "op": "rank"
          }
         ]
        },
        {
         "filter": "(datum.rank <= 10)"
        }
       ],
       "width": 685
      },
      "image/png": "[encoded data removed]",
      "text/plain": [
       "<VegaLite 2 object>\n",
       "\n",
       "If you see this message, it means the renderer has not been properly enabled\n",
       "for the frontend that you are using. For more information, see\n",
       "https://altair-viz.github.io/user_guide/troubleshooting.html\n"
      ]
     },
     "execution_count": 218,
     "metadata": {},
     "output_type": "execute_result"
    }
   ],
   "source": [
    "chart_donor_group"
   ]
  },
  {
   "cell_type": "code",
   "execution_count": 219,
   "metadata": {},
   "outputs": [],
   "source": [
    "df_recipient = df[['donor','recipient','commitment_amount_usd_constant']].groupby(['donor','recipient']).sum().reset_index()\n"
   ]
  },
  {
   "cell_type": "code",
   "execution_count": 220,
   "metadata": {},
   "outputs": [],
   "source": [
    "top20_recipient = df_recipient[['recipient','commitment_amount_usd_constant']].groupby('recipient').sum().nlargest(20,'commitment_amount_usd_constant').index.values"
   ]
  },
  {
   "cell_type": "code",
   "execution_count": 221,
   "metadata": {},
   "outputs": [],
   "source": [
    "df_recipient_top20 = df_recipient[df_recipient['recipient'].isin(top20_recipient)]\n"
   ]
  },
  {
   "cell_type": "code",
   "execution_count": 223,
   "metadata": {},
   "outputs": [
    {
     "data": {
      "application/vnd.vegalite.v2+json": {
       "$schema": "https://vega.github.io/schema/vega-lite/v2.6.0.json",
       "config": {
        "area": {
         "fill": "#1696d2"
        },
        "axisX": {
         "domain": true,
         "domainColor": "#000000",
         "domainWidth": 1,
         "grid": false,
         "labelAngle": 0,
         "labelFont": "Lato",
         "labelFontSize": 12,
         "tickColor": "#000000",
         "tickSize": 5,
         "title": "",
         "titleFont": "Lato",
         "titleFontSize": 12,
         "titlePadding": 10
        },
        "axisY": {
         "domain": false,
         "grid": true,
         "gridColor": "#DEDDDD",
         "gridWidth": 1,
         "labelFont": "Lato",
         "labelFontSize": 12,
         "labelPadding": 8,
         "ticks": false,
         "titleAngle": 0,
         "titleFont": "Lato",
         "titleFontSize": 12,
         "titlePadding": 10,
         "titleX": 18,
         "titleY": -10
        },
        "background": "#FFFFFF",
        "bar": {
         "binSpacing": 1,
         "continuousBandSize": 30,
         "discreteBandSize": 30,
         "fill": "#1696d2",
         "size": 40,
         "stroke": false
        },
        "legend": {
         "labelFont": "Lato",
         "labelFontSize": 12,
         "offset": 0,
         "orient": "top-left",
         "symbolSize": 100,
         "symbolType": "square",
         "title": "",
         "titleFont": "Lato",
         "titleFontSize": 12,
         "titlePadding": 10
        },
        "line": {
         "color": "#1696d2",
         "stroke": "#1696d2",
         "strokewidth": 5
        },
        "path": {
         "stroke": "#1696d2",
         "strokeWidth": 0.5
        },
        "point": {
         "filled": true
        },
        "range": {
         "category": [
          "#1696d2",
          "#d2d2d2",
          "#000000",
          "#fdbf11",
          "#ec008b",
          "#55b748",
          "#5c5859",
          "#db2b27"
         ],
         "diverging": [
          "#cfe8f3",
          "#a2d4ec",
          "#73bfe2",
          "#46abdb",
          "#1696d2",
          "#12719e"
         ]
        },
        "text": {
         "align": "right",
         "color": "#1696d2",
         "font": "Lato",
         "fontSize": 11,
         "fontWeight": 400,
         "size": 11
        },
        "title": {
         "anchor": "start",
         "font": "Lato",
         "fontColor": "#000000",
         "fontSize": 18
        },
        "trail": {
         "color": "#1696d2",
         "size": 1,
         "stroke": "#1696d2",
         "strokeWidth": 0
        },
        "view": {
         "stroke": "transparent"
        }
       },
       "data": {
        "format": {
         "type": "json"
        },
        "url": "recipient.json"
       },
       "encoding": {
        "x": {
         "aggregate": "sum",
         "field": "commitment_amount_usd_constant",
         "title": "Amount",
         "type": "quantitative"
        },
        "y": {
         "field": "recipient",
         "sort": {
          "field": "commitment_amount_usd_constant",
          "op": "sum",
          "order": "descending"
         },
         "title": "",
         "type": "nominal"
        }
       },
       "height": 380,
       "mark": "bar",
       "title": "Top 20 Receipients in the world",
       "transform": [
        {
         "filter": {
          "selection": "selector004"
         }
        }
       ],
       "width": 685
      },
      "text/plain": [
       "<VegaLite 2 object>\n",
       "\n",
       "If you see this message, it means the renderer has not been properly enabled\n",
       "for the frontend that you are using. For more information, see\n",
       "https://altair-viz.github.io/user_guide/troubleshooting.html\n"
      ]
     },
     "execution_count": 223,
     "metadata": {},
     "output_type": "execute_result"
    }
   ],
   "source": [
    "chart_recipient = (alt.Chart('recipient.json') #df_recipient_top20\n",
    " .mark_bar()\n",
    " .encode(y=Y('recipient:N', sort=sort,title=''),\n",
    "         x=X('sum(commitment_amount_usd_constant):Q', title='Amount')\n",
    ")).transform_filter(brush)\n",
    "\n",
    "chart_recipient.title='Top 20 Receipients in the world'\n",
    "\n",
    "\n",
    "chart_recipient\n",
    "\n",
    "# chart_recipient.save('receipient.json')"
   ]
  },
  {
   "cell_type": "code",
   "execution_count": 224,
   "metadata": {},
   "outputs": [
    {
     "data": {
      "application/vnd.vegalite.v2+json": {
       "$schema": "https://vega.github.io/schema/vega-lite/v2.6.0.json",
       "config": {
        "area": {
         "fill": "#1696d2"
        },
        "axisX": {
         "domain": true,
         "domainColor": "#000000",
         "domainWidth": 1,
         "grid": false,
         "labelAngle": 0,
         "labelFont": "Lato",
         "labelFontSize": 12,
         "tickColor": "#000000",
         "tickSize": 5,
         "title": "",
         "titleFont": "Lato",
         "titleFontSize": 12,
         "titlePadding": 10
        },
        "axisY": {
         "domain": false,
         "grid": true,
         "gridColor": "#DEDDDD",
         "gridWidth": 1,
         "labelFont": "Lato",
         "labelFontSize": 12,
         "labelPadding": 8,
         "ticks": false,
         "titleAngle": 0,
         "titleFont": "Lato",
         "titleFontSize": 12,
         "titlePadding": 10,
         "titleX": 18,
         "titleY": -10
        },
        "background": "#FFFFFF",
        "bar": {
         "binSpacing": 1,
         "continuousBandSize": 30,
         "discreteBandSize": 30,
         "fill": "#1696d2",
         "size": 40,
         "stroke": false
        },
        "legend": {
         "labelFont": "Lato",
         "labelFontSize": 12,
         "offset": 0,
         "orient": "top-left",
         "symbolSize": 100,
         "symbolType": "square",
         "title": "",
         "titleFont": "Lato",
         "titleFontSize": 12,
         "titlePadding": 10
        },
        "line": {
         "color": "#1696d2",
         "stroke": "#1696d2",
         "strokewidth": 5
        },
        "path": {
         "stroke": "#1696d2",
         "strokeWidth": 0.5
        },
        "point": {
         "filled": true
        },
        "range": {
         "category": [
          "#1696d2",
          "#d2d2d2",
          "#000000",
          "#fdbf11",
          "#ec008b",
          "#55b748",
          "#5c5859",
          "#db2b27"
         ],
         "diverging": [
          "#cfe8f3",
          "#a2d4ec",
          "#73bfe2",
          "#46abdb",
          "#1696d2",
          "#12719e"
         ]
        },
        "text": {
         "align": "right",
         "color": "#1696d2",
         "font": "Lato",
         "fontSize": 11,
         "fontWeight": 400,
         "size": 11
        },
        "title": {
         "anchor": "start",
         "font": "Lato",
         "fontColor": "#000000",
         "fontSize": 18
        },
        "trail": {
         "color": "#1696d2",
         "size": 1,
         "stroke": "#1696d2",
         "strokeWidth": 0
        },
        "view": {
         "stroke": "transparent"
        }
       },
       "hconcat": [
        {
         "data": {
          "format": {
           "type": "json"
          },
          "url": "donor.json"
         },
         "encoding": {
          "color": {
           "condition": {
            "selection": "selector004",
            "value": "#1696d2"
           },
           "value": "lightgray"
          },
          "tooltip": [
           {
            "aggregate": "sum",
            "field": "commitment_amount_usd_constant",
            "type": "quantitative"
           }
          ],
          "x": {
           "aggregate": "sum",
           "field": "commitment_amount_usd_constant",
           "title": "Amount",
           "type": "quantitative"
          },
          "y": {
           "field": "donor",
           "sort": {
            "field": "commitment_amount_usd_constant",
            "op": "sum",
            "order": "descending"
           },
           "title": "",
           "type": "nominal"
          }
         },
         "mark": "bar",
         "selection": {
          "selector004": {
           "encodings": [
            "y"
           ],
           "mark": {
            "fill": "#333",
            "fillOpacity": 0.125,
            "stroke": "white"
           },
           "on": "[mousedown, window:mouseup] > window:mousemove!",
           "resolve": "global",
           "translate": "[mousedown, window:mouseup] > window:mousemove!",
           "type": "interval",
           "zoom": "wheel!"
          }
         },
         "title": "Top 10 Donors",
         "transform": [
          {
           "sort": [
            {
             "field": "commitment_amount_usd_constant",
             "order": "descending"
            }
           ],
           "window": [
            {
             "as": "rank",
             "field": "commitment_amount_usd_constant",
             "op": "rank"
            }
           ]
          },
          {
           "filter": "(datum.rank <= 10)"
          }
         ]
        },
        {
         "data": {
          "format": {
           "type": "json"
          },
          "url": "recipient.json"
         },
         "encoding": {
          "x": {
           "aggregate": "sum",
           "field": "commitment_amount_usd_constant",
           "title": "Amount",
           "type": "quantitative"
          },
          "y": {
           "field": "recipient",
           "sort": {
            "field": "commitment_amount_usd_constant",
            "op": "sum",
            "order": "descending"
           },
           "title": "",
           "type": "nominal"
          }
         },
         "mark": "bar",
         "title": "Top 20 Receipients in the world",
         "transform": [
          {
           "filter": {
            "selection": "selector004"
           }
          }
         ]
        }
       ],
       "height": 380,
       "width": 685
      },
      "image/png": "[encoded data removed]",
      "text/plain": [
       "<VegaLite 2 object>\n",
       "\n",
       "If you see this message, it means the renderer has not been properly enabled\n",
       "for the frontend that you are using. For more information, see\n",
       "https://altair-viz.github.io/user_guide/troubleshooting.html\n"
      ]
     },
     "execution_count": 224,
     "metadata": {},
     "output_type": "execute_result"
    }
   ],
   "source": [
    "final_chart = chart_donor_group | chart_recipient\n",
    "final_chart.save('datachallenge.html')\n",
    "final_chart"
   ]
  },
  {
   "cell_type": "markdown",
   "metadata": {},
   "source": [
    "# Bug cannot crossfilter 2 ordered bar"
   ]
  },
  {
   "cell_type": "markdown",
   "metadata": {},
   "source": [
    "# Archive"
   ]
  },
  {
   "cell_type": "markdown",
   "metadata": {},
   "source": [
    "## Stack Graph"
   ]
  },
  {
   "cell_type": "code",
   "execution_count": 25,
   "metadata": {},
   "outputs": [
    {
     "data": {
      "text/html": [
       "<div>\n",
       "<style scoped>\n",
       "    .dataframe tbody tr th:only-of-type {\n",
       "        vertical-align: middle;\n",
       "    }\n",
       "\n",
       "    .dataframe tbody tr th {\n",
       "        vertical-align: top;\n",
       "    }\n",
       "\n",
       "    .dataframe thead th {\n",
       "        text-align: right;\n",
       "    }\n",
       "</style>\n",
       "<table border=\"1\" class=\"dataframe\">\n",
       "  <thead>\n",
       "    <tr style=\"text-align: right;\">\n",
       "      <th></th>\n",
       "      <th>donor</th>\n",
       "      <th>commitment_amount_usd_constant</th>\n",
       "    </tr>\n",
       "  </thead>\n",
       "  <tbody>\n",
       "    <tr>\n",
       "      <th>0</th>\n",
       "      <td>Germany</td>\n",
       "      <td>4.721844e+10</td>\n",
       "    </tr>\n",
       "    <tr>\n",
       "      <th>1</th>\n",
       "      <td>Japan</td>\n",
       "      <td>1.141823e+11</td>\n",
       "    </tr>\n",
       "    <tr>\n",
       "      <th>2</th>\n",
       "      <td>Others</td>\n",
       "      <td>6.553658e+10</td>\n",
       "    </tr>\n",
       "    <tr>\n",
       "      <th>3</th>\n",
       "      <td>United Kingdom</td>\n",
       "      <td>2.369054e+10</td>\n",
       "    </tr>\n",
       "    <tr>\n",
       "      <th>4</th>\n",
       "      <td>United States</td>\n",
       "      <td>1.161763e+11</td>\n",
       "    </tr>\n",
       "  </tbody>\n",
       "</table>\n",
       "</div>"
      ],
      "text/plain": [
       "            donor  commitment_amount_usd_constant\n",
       "0         Germany                    4.721844e+10\n",
       "1           Japan                    1.141823e+11\n",
       "2          Others                    6.553658e+10\n",
       "3  United Kingdom                    2.369054e+10\n",
       "4   United States                    1.161763e+11"
      ]
     },
     "execution_count": 25,
     "metadata": {},
     "output_type": "execute_result"
    }
   ],
   "source": [
    "df_stack = df[['donor','commitment_amount_usd_constant']].copy()\n",
    "df_stack.loc[~df_stack['donor'].isin(['United States','Japan','Germany','United Kingdom']), 'donor'] = 'Others'\n",
    "df_stack = df_stack.groupby(['donor']).sum().reset_index()\n",
    "df_stack.head()"
   ]
  },
  {
   "cell_type": "code",
   "execution_count": 26,
   "metadata": {
    "ExecuteTime": {
     "end_time": "2019-03-14T08:25:42.402692Z",
     "start_time": "2019-03-14T08:25:41.931750Z"
    }
   },
   "outputs": [
    {
     "data": {
      "application/vnd.vegalite.v2+json": {
       "$schema": "https://vega.github.io/schema/vega-lite/v2.6.0.json",
       "config": {
        "area": {
         "fill": "#1696d2"
        },
        "axisX": {
         "domain": true,
         "domainColor": "#000000",
         "domainWidth": 1,
         "grid": false,
         "labelAngle": 0,
         "labelFont": "Lato",
         "labelFontSize": 12,
         "tickColor": "#000000",
         "tickSize": 5,
         "title": "",
         "titleFont": "Lato",
         "titleFontSize": 12,
         "titlePadding": 10
        },
        "axisY": {
         "domain": false,
         "grid": true,
         "gridColor": "#DEDDDD",
         "gridWidth": 1,
         "labelFont": "Lato",
         "labelFontSize": 12,
         "labelPadding": 8,
         "ticks": false,
         "titleAngle": 0,
         "titleFont": "Lato",
         "titleFontSize": 12,
         "titlePadding": 10,
         "titleX": 18,
         "titleY": -10
        },
        "background": "#FFFFFF",
        "bar": {
         "binSpacing": 1,
         "continuousBandSize": 30,
         "discreteBandSize": 30,
         "fill": "#1696d2",
         "size": 40,
         "stroke": false
        },
        "legend": {
         "labelFont": "Lato",
         "labelFontSize": 12,
         "offset": 0,
         "orient": "top-left",
         "symbolSize": 100,
         "symbolType": "square",
         "title": "",
         "titleFont": "Lato",
         "titleFontSize": 12,
         "titlePadding": 10
        },
        "line": {
         "color": "#1696d2",
         "stroke": "#1696d2",
         "strokewidth": 5
        },
        "path": {
         "stroke": "#1696d2",
         "strokeWidth": 0.5
        },
        "point": {
         "filled": true
        },
        "range": {
         "category": [
          "#1696d2",
          "#d2d2d2",
          "#000000",
          "#fdbf11",
          "#ec008b",
          "#55b748",
          "#5c5859",
          "#db2b27"
         ],
         "diverging": [
          "#cfe8f3",
          "#a2d4ec",
          "#73bfe2",
          "#46abdb",
          "#1696d2",
          "#12719e"
         ]
        },
        "text": {
         "align": "right",
         "color": "#1696d2",
         "font": "Lato",
         "fontSize": 11,
         "fontWeight": 400,
         "size": 11
        },
        "title": {
         "anchor": "start",
         "font": "Lato",
         "fontColor": "#000000",
         "fontSize": 18
        },
        "trail": {
         "color": "#1696d2",
         "size": 1,
         "stroke": "#1696d2",
         "strokeWidth": 0
        },
        "view": {
         "stroke": "transparent"
        }
       },
       "data": {
        "format": {
         "type": "json"
        },
        "url": "altair-data-0d07009a1521e61794ef1fef3da9d99b.json"
       },
       "encoding": {
        "color": {
         "field": "donor",
         "type": "nominal"
        },
        "order": {
         "field": "commitment_amount_usd_constant",
         "sort": "descending",
         "type": "quantitative"
        },
        "tooltip": [
         {
          "field": "commitment_amount_usd_constant",
          "type": "quantitative"
         }
        ],
        "x": {
         "aggregate": "sum",
         "axis": {
          "format": ".0%"
         },
         "field": "commitment_amount_usd_constant",
         "sort": {
          "field": "commitment_amount_usd_constant",
          "op": "sum",
          "order": "descending"
         },
         "stack": "normalize",
         "title": "Amount",
         "type": "quantitative"
        }
       },
       "height": 380,
       "mark": "bar",
       "title": "Receipients",
       "width": 685
      },
      "image/png": "[encoded data removed]",
      "text/plain": [
       "<VegaLite 2 object>\n",
       "\n",
       "If you see this message, it means the renderer has not been properly enabled\n",
       "for the frontend that you are using. For more information, see\n",
       "https://altair-viz.github.io/user_guide/troubleshooting.html\n"
      ]
     },
     "execution_count": 26,
     "metadata": {},
     "output_type": "execute_result"
    }
   ],
   "source": [
    "chart_stack = (alt.Chart(df_stack)\n",
    " .mark_bar()\n",
    " .encode(\n",
    "         x=X('sum(commitment_amount_usd_constant):Q',sort=sort, title='Amount',stack='normalize',axis=alt.Axis(format='.0%')),\n",
    "         tooltip=['commitment_amount_usd_constant'],\n",
    "                 color='donor:N',\n",
    "     order=alt.Order(\n",
    "      # Sort the segments of the bars by this field\n",
    "      'commitment_amount_usd_constant',\n",
    "      sort='descending')\n",
    ")\n",
    "              )\n",
    "\n",
    "chart_stack.title = 'Receipients'\n",
    "\n",
    "\n",
    "chart_stack "
   ]
  }
 ],
 "metadata": {
  "kernelspec": {
   "display_name": "Python 3",
   "language": "python",
   "name": "python3"
  },
  "language_info": {
   "codemirror_mode": {
    "name": "ipython",
    "version": 3
   },
   "file_extension": ".py",
   "mimetype": "text/x-python",
   "name": "python",
   "nbconvert_exporter": "python",
   "pygments_lexer": "ipython3",
   "version": "3.6.0"
  },
  "toc": {
   "base_numbering": 1,
   "nav_menu": {},
   "number_sections": true,
   "sideBar": true,
   "skip_h1_title": false,
   "title_cell": "Table of Contents",
   "title_sidebar": "Contents",
   "toc_cell": false,
   "toc_position": {},
   "toc_section_display": true,
   "toc_window_display": false
  }
 },
 "nbformat": 4,
 "nbformat_minor": 2
}
