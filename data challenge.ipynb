{
 "cells": [
  {
   "cell_type": "markdown",
   "metadata": {},
   "source": [
    "# Introduction\n",
    "\n",
    "#SWDchallenge: visualize THIS data!\n",
    "MARCH 01, 2019 BY COLE NUSSBAUMER KNAFLIC\n",
    "UPDATE: It seems we may have overcomplicated things this time around. Let’s simplify!\n",
    "\n",
    "You can download the file with country-to-country donations here. Create a visual to ANSWER ONE QUESTION: WHO DONATES? (Related subquestions you may also answer: How are donations distributed across countries?\n",
    "* Who donates to whom? Are there any patterns, for example some group of countries tends to donate only to some specific group of other countries?)\n",
    "*  How are donations distributed across countries?\n",
    "\n",
    "* SHARE: Tweet your graph(s) or post publicly and email the link to SWDchallenge@storytellingwithdata.com.\n",
    "\n",
    "NEW EXTENDED DEADLINE: Friday, March 15th (midnight PST). \n",
    "\n",
    "You’re of course welcome to do more (original full instructions follow), but our hopes are that simplifying will boost participation and we’ll get enough content to push some important data viz research forward!"
   ]
  },
  {
   "cell_type": "code",
   "execution_count": 170,
   "metadata": {
    "ExecuteTime": {
     "end_time": "2019-03-14T03:58:59.145488Z",
     "start_time": "2019-03-14T03:58:58.880026Z"
    }
   },
   "outputs": [],
   "source": [
    "import pandas as pd\n",
    "from pathlib import Path\n",
    "import qgrid\n",
    "import altair as alt"
   ]
  },
  {
   "cell_type": "code",
   "execution_count": 171,
   "metadata": {
    "ExecuteTime": {
     "end_time": "2019-03-14T01:56:22.898494Z",
     "start_time": "2019-03-14T01:56:22.895486Z"
    }
   },
   "outputs": [],
   "source": [
    "DATA = Path('data')"
   ]
  },
  {
   "cell_type": "code",
   "execution_count": 172,
   "metadata": {
    "ExecuteTime": {
     "end_time": "2019-03-14T01:56:52.731002Z",
     "start_time": "2019-03-14T01:56:52.591364Z"
    }
   },
   "outputs": [],
   "source": [
    "df = pd.read_csv(DATA/'aiddata-countries-only.csv',index_col=0)"
   ]
  },
  {
   "cell_type": "code",
   "execution_count": 173,
   "metadata": {
    "ExecuteTime": {
     "end_time": "2019-03-14T01:56:53.843852Z",
     "start_time": "2019-03-14T01:56:53.614496Z"
    }
   },
   "outputs": [],
   "source": [
    "grid = qgrid.show_grid(df)"
   ]
  },
  {
   "cell_type": "code",
   "execution_count": 174,
   "metadata": {
    "ExecuteTime": {
     "end_time": "2019-03-14T01:56:54.409643Z",
     "start_time": "2019-03-14T01:56:54.403628Z"
    }
   },
   "outputs": [
    {
     "data": {
      "application/vnd.jupyter.widget-view+json": {
       "model_id": "d42c9fe986c4405999ffc91d83ab153b",
       "version_major": 2,
       "version_minor": 0
      },
      "text/plain": [
       "QgridWidget(grid_options={'fullWidthRows': True, 'syncColumnCellResize': True, 'forceFitColumns': True, 'defau…"
      ]
     },
     "metadata": {},
     "output_type": "display_data"
    }
   ],
   "source": [
    "grid"
   ]
  },
  {
   "cell_type": "markdown",
   "metadata": {},
   "source": [
    "## Who donates to whom? Are there any patterns, for example some group of countries tends to donate only to some specific group of other countries?)"
   ]
  },
  {
   "cell_type": "markdown",
   "metadata": {},
   "source": [
    "* Sankey Diagram"
   ]
  },
  {
   "cell_type": "markdown",
   "metadata": {},
   "source": [
    "## How are donations distributed across countries?\n",
    "* Bar Chart\n",
    "* Map\n",
    "* Treemap"
   ]
  },
  {
   "cell_type": "code",
   "execution_count": 176,
   "metadata": {
    "ExecuteTime": {
     "end_time": "2019-03-14T03:59:57.563869Z",
     "start_time": "2019-03-14T03:59:57.527772Z"
    }
   },
   "outputs": [],
   "source": [
    "# alt.renderers.enable('notebook')"
   ]
  },
  {
   "cell_type": "code",
   "execution_count": 178,
   "metadata": {
    "ExecuteTime": {
     "end_time": "2019-03-14T06:20:56.213077Z",
     "start_time": "2019-03-14T06:20:56.196066Z"
    }
   },
   "outputs": [
    {
     "data": {
      "text/html": [
       "<div>\n",
       "<style scoped>\n",
       "    .dataframe tbody tr th:only-of-type {\n",
       "        vertical-align: middle;\n",
       "    }\n",
       "\n",
       "    .dataframe tbody tr th {\n",
       "        vertical-align: top;\n",
       "    }\n",
       "\n",
       "    .dataframe thead th {\n",
       "        text-align: right;\n",
       "    }\n",
       "</style>\n",
       "<table border=\"1\" class=\"dataframe\">\n",
       "  <thead>\n",
       "    <tr style=\"text-align: right;\">\n",
       "      <th></th>\n",
       "      <th>aiddata_id</th>\n",
       "      <th>aiddata_2_id</th>\n",
       "      <th>year</th>\n",
       "      <th>donor</th>\n",
       "      <th>recipient</th>\n",
       "      <th>commitment_amount_usd_constant</th>\n",
       "      <th>coalesced_purpose_code</th>\n",
       "      <th>coalesced_purpose_name</th>\n",
       "    </tr>\n",
       "  </thead>\n",
       "  <tbody>\n",
       "    <tr>\n",
       "      <th>1</th>\n",
       "      <td>2414478.0</td>\n",
       "      <td>NaN</td>\n",
       "      <td>1977</td>\n",
       "      <td>Saudi Arabia</td>\n",
       "      <td>India</td>\n",
       "      <td>348718518.0</td>\n",
       "      <td>23030</td>\n",
       "      <td>Power generation/renewable sources</td>\n",
       "    </tr>\n",
       "    <tr>\n",
       "      <th>2</th>\n",
       "      <td>2414509.0</td>\n",
       "      <td>NaN</td>\n",
       "      <td>1977</td>\n",
       "      <td>Saudi Arabia</td>\n",
       "      <td>Brazil</td>\n",
       "      <td>191647004.0</td>\n",
       "      <td>23040</td>\n",
       "      <td>Electrical transmission/ distribution</td>\n",
       "    </tr>\n",
       "    <tr>\n",
       "      <th>3</th>\n",
       "      <td>2414635.0</td>\n",
       "      <td>NaN</td>\n",
       "      <td>1983</td>\n",
       "      <td>Saudi Arabia</td>\n",
       "      <td>India</td>\n",
       "      <td>79371799.0</td>\n",
       "      <td>21030</td>\n",
       "      <td>Rail transport</td>\n",
       "    </tr>\n",
       "    <tr>\n",
       "      <th>4</th>\n",
       "      <td>2414665.0</td>\n",
       "      <td>NaN</td>\n",
       "      <td>1984</td>\n",
       "      <td>Saudi Arabia</td>\n",
       "      <td>Taiwan</td>\n",
       "      <td>212202942.0</td>\n",
       "      <td>21030</td>\n",
       "      <td>Rail transport</td>\n",
       "    </tr>\n",
       "    <tr>\n",
       "      <th>5</th>\n",
       "      <td>2414667.0</td>\n",
       "      <td>NaN</td>\n",
       "      <td>1984</td>\n",
       "      <td>Saudi Arabia</td>\n",
       "      <td>Korea</td>\n",
       "      <td>134511154.0</td>\n",
       "      <td>21040</td>\n",
       "      <td>Water transport</td>\n",
       "    </tr>\n",
       "  </tbody>\n",
       "</table>\n",
       "</div>"
      ],
      "text/plain": [
       "   aiddata_id  aiddata_2_id  year         donor recipient  \\\n",
       "1   2414478.0           NaN  1977  Saudi Arabia     India   \n",
       "2   2414509.0           NaN  1977  Saudi Arabia    Brazil   \n",
       "3   2414635.0           NaN  1983  Saudi Arabia     India   \n",
       "4   2414665.0           NaN  1984  Saudi Arabia    Taiwan   \n",
       "5   2414667.0           NaN  1984  Saudi Arabia     Korea   \n",
       "\n",
       "   commitment_amount_usd_constant  coalesced_purpose_code  \\\n",
       "1                     348718518.0                   23030   \n",
       "2                     191647004.0                   23040   \n",
       "3                      79371799.0                   21030   \n",
       "4                     212202942.0                   21030   \n",
       "5                     134511154.0                   21040   \n",
       "\n",
       "                  coalesced_purpose_name  \n",
       "1     Power generation/renewable sources  \n",
       "2  Electrical transmission/ distribution  \n",
       "3                         Rail transport  \n",
       "4                         Rail transport  \n",
       "5                        Water transport  "
      ]
     },
     "execution_count": 178,
     "metadata": {},
     "output_type": "execute_result"
    }
   ],
   "source": [
    "df.head()"
   ]
  },
  {
   "cell_type": "code",
   "execution_count": 179,
   "metadata": {
    "ExecuteTime": {
     "end_time": "2019-03-14T06:26:07.050951Z",
     "start_time": "2019-03-14T06:26:07.046942Z"
    }
   },
   "outputs": [
    {
     "data": {
      "text/plain": [
       "DataTransformerRegistry.enable('json')"
      ]
     },
     "execution_count": 179,
     "metadata": {},
     "output_type": "execute_result"
    }
   ],
   "source": [
    "from altair import X,Y,Color, Order, EncodingSortField\n",
    "alt.data_transformers.enable('json')"
   ]
  },
  {
   "cell_type": "markdown",
   "metadata": {},
   "source": [
    "# Top Donor"
   ]
  },
  {
   "cell_type": "code",
   "execution_count": 206,
   "metadata": {
    "ExecuteTime": {
     "end_time": "2019-03-14T08:25:47.422793Z",
     "start_time": "2019-03-14T08:25:47.419786Z"
    }
   },
   "outputs": [],
   "source": [
    "brush = alt.selection(type='interval', encodings=['y'])\n",
    "sort=alt.EncodingSortField(\n",
    "            field=\"commitment_amount_usd_constant\",  # The field to use for the sort\n",
    "            op=\"sum\",  # The operation to run on the field prior to sorting\n",
    "            order=\"descending\"  # The order to sort in\n",
    "        )"
   ]
  },
  {
   "cell_type": "code",
   "execution_count": 207,
   "metadata": {},
   "outputs": [],
   "source": [
    "tmp = df[['donor','commitment_amount_usd_constant']].groupby(['donor']).sum().reset_index()\n"
   ]
  },
  {
   "cell_type": "code",
   "execution_count": 246,
   "metadata": {},
   "outputs": [],
   "source": [
    "chart_donor_group = (alt.Chart(tmp)\n",
    " .mark_bar()\n",
    " .encode(y=Y('donor:N', sort=sort,title=''),\n",
    "         x=X('sum(commitment_amount_usd_constant):Q', title='Amount'),\n",
    "         tooltip=['sum(commitment_amount_usd_constant)'],\n",
    "         color=alt.condition(brush, alt.value('#1696d2'), alt.value('lightgray'))\n",
    ").transform_window(\n",
    "    rank='rank(commitment_amount_usd_constant)',\n",
    "    sort=[alt.SortField('commitment_amount_usd_constant', order='descending')]\n",
    ").transform_filter(\n",
    "    (alt.datum.rank < 10)\n",
    ").add_selection(brush)\n",
    "              )\n",
    "\n",
    "chart_donor_group.title = 'Top 10 Donors'\n"
   ]
  },
  {
   "cell_type": "code",
   "execution_count": 247,
   "metadata": {},
   "outputs": [
    {
     "data": {
      "application/vnd.vegalite.v2+json": {
       "$schema": "https://vega.github.io/schema/vega-lite/v2.6.0.json",
       "config": {
        "area": {
         "fill": "#1696d2"
        },
        "axisX": {
         "domain": true,
         "domainColor": "#000000",
         "domainWidth": 1,
         "grid": false,
         "labelAngle": 0,
         "labelFont": "Lato",
         "labelFontSize": 12,
         "tickColor": "#000000",
         "tickSize": 5,
         "title": "",
         "titleFont": "Lato",
         "titleFontSize": 12,
         "titlePadding": 10
        },
        "axisY": {
         "domain": false,
         "grid": true,
         "gridColor": "#DEDDDD",
         "gridWidth": 1,
         "labelFont": "Lato",
         "labelFontSize": 12,
         "labelPadding": 8,
         "ticks": false,
         "titleAngle": 0,
         "titleFont": "Lato",
         "titleFontSize": 12,
         "titlePadding": 10,
         "titleX": 18,
         "titleY": -10
        },
        "background": "#FFFFFF",
        "bar": {
         "binSpacing": 1,
         "continuousBandSize": 30,
         "discreteBandSize": 30,
         "fill": "#1696d2",
         "size": 40,
         "stroke": false
        },
        "legend": {
         "labelFont": "Lato",
         "labelFontSize": 12,
         "offset": 0,
         "orient": "top-left",
         "symbolSize": 100,
         "symbolType": "square",
         "title": "",
         "titleFont": "Lato",
         "titleFontSize": 12,
         "titlePadding": 10
        },
        "line": {
         "color": "#1696d2",
         "stroke": "#1696d2",
         "strokewidth": 5
        },
        "path": {
         "stroke": "#1696d2",
         "strokeWidth": 0.5
        },
        "point": {
         "filled": true
        },
        "range": {
         "category": [
          "#1696d2",
          "#d2d2d2",
          "#000000",
          "#fdbf11",
          "#ec008b",
          "#55b748",
          "#5c5859",
          "#db2b27"
         ],
         "diverging": [
          "#cfe8f3",
          "#a2d4ec",
          "#73bfe2",
          "#46abdb",
          "#1696d2",
          "#12719e"
         ]
        },
        "text": {
         "align": "right",
         "color": "#1696d2",
         "font": "Lato",
         "fontSize": 11,
         "fontWeight": 400,
         "size": 11
        },
        "title": {
         "anchor": "start",
         "font": "Lato",
         "fontColor": "#000000",
         "fontSize": 18
        },
        "trail": {
         "color": "#1696d2",
         "size": 1,
         "stroke": "#1696d2",
         "strokeWidth": 0
        },
        "view": {
         "stroke": "transparent"
        }
       },
       "data": {
        "format": {
         "type": "json"
        },
        "url": "altair-data-51e7b2fdbf4df9fd023e5a31408ca514.json"
       },
       "encoding": {
        "color": {
         "condition": {
          "selection": "selector015",
          "value": "#1696d2"
         },
         "value": "lightgray"
        },
        "tooltip": [
         {
          "aggregate": "sum",
          "field": "commitment_amount_usd_constant",
          "type": "quantitative"
         }
        ],
        "x": {
         "aggregate": "sum",
         "field": "commitment_amount_usd_constant",
         "title": "Amount",
         "type": "quantitative"
        },
        "y": {
         "field": "donor",
         "sort": {
          "field": "commitment_amount_usd_constant",
          "op": "sum",
          "order": "descending"
         },
         "title": "",
         "type": "nominal"
        }
       },
       "height": 380,
       "mark": "bar",
       "selection": {
        "selector015": {
         "encodings": [
          "y"
         ],
         "mark": {
          "fill": "#333",
          "fillOpacity": 0.125,
          "stroke": "white"
         },
         "on": "[mousedown, window:mouseup] > window:mousemove!",
         "resolve": "global",
         "translate": "[mousedown, window:mouseup] > window:mousemove!",
         "type": "interval",
         "zoom": "wheel!"
        }
       },
       "title": "Top 10 Donors",
       "transform": [
        {
         "sort": [
          {
           "field": "commitment_amount_usd_constant",
           "order": "descending"
          }
         ],
         "window": [
          {
           "as": "rank",
           "field": "commitment_amount_usd_constant",
           "op": "rank"
          }
         ]
        },
        {
         "filter": "(datum.rank < 10)"
        }
       ],
       "width": 685
      },
      "image/png": "[encoded data removed]",
      "text/plain": [
       "<VegaLite 2 object>\n",
       "\n",
       "If you see this message, it means the renderer has not been properly enabled\n",
       "for the frontend that you are using. For more information, see\n",
       "https://altair-viz.github.io/user_guide/troubleshooting.html\n"
      ]
     },
     "execution_count": 247,
     "metadata": {},
     "output_type": "execute_result"
    }
   ],
   "source": [
    "chart_donor_group"
   ]
  },
  {
   "cell_type": "markdown",
   "metadata": {},
   "source": [
    "# Stack Graph"
   ]
  },
  {
   "cell_type": "code",
   "execution_count": 183,
   "metadata": {},
   "outputs": [
    {
     "data": {
      "text/html": [
       "<div>\n",
       "<style scoped>\n",
       "    .dataframe tbody tr th:only-of-type {\n",
       "        vertical-align: middle;\n",
       "    }\n",
       "\n",
       "    .dataframe tbody tr th {\n",
       "        vertical-align: top;\n",
       "    }\n",
       "\n",
       "    .dataframe thead th {\n",
       "        text-align: right;\n",
       "    }\n",
       "</style>\n",
       "<table border=\"1\" class=\"dataframe\">\n",
       "  <thead>\n",
       "    <tr style=\"text-align: right;\">\n",
       "      <th></th>\n",
       "      <th>donor</th>\n",
       "      <th>commitment_amount_usd_constant</th>\n",
       "    </tr>\n",
       "  </thead>\n",
       "  <tbody>\n",
       "    <tr>\n",
       "      <th>0</th>\n",
       "      <td>Germany</td>\n",
       "      <td>4.721844e+10</td>\n",
       "    </tr>\n",
       "    <tr>\n",
       "      <th>1</th>\n",
       "      <td>Japan</td>\n",
       "      <td>1.141823e+11</td>\n",
       "    </tr>\n",
       "    <tr>\n",
       "      <th>2</th>\n",
       "      <td>Others</td>\n",
       "      <td>6.553658e+10</td>\n",
       "    </tr>\n",
       "    <tr>\n",
       "      <th>3</th>\n",
       "      <td>United Kingdom</td>\n",
       "      <td>2.369054e+10</td>\n",
       "    </tr>\n",
       "    <tr>\n",
       "      <th>4</th>\n",
       "      <td>United States</td>\n",
       "      <td>1.161763e+11</td>\n",
       "    </tr>\n",
       "  </tbody>\n",
       "</table>\n",
       "</div>"
      ],
      "text/plain": [
       "            donor  commitment_amount_usd_constant\n",
       "0         Germany                    4.721844e+10\n",
       "1           Japan                    1.141823e+11\n",
       "2          Others                    6.553658e+10\n",
       "3  United Kingdom                    2.369054e+10\n",
       "4   United States                    1.161763e+11"
      ]
     },
     "execution_count": 183,
     "metadata": {},
     "output_type": "execute_result"
    }
   ],
   "source": [
    "df_stack = df[['donor','commitment_amount_usd_constant']].copy()\n",
    "df_stack.loc[~df_stack['donor'].isin(['United States','Japan','Germany','United Kingdom']), 'donor'] = 'Others'\n",
    "df_stack = df_stack.groupby(['donor']).sum().reset_index()\n",
    "df_stack.head()"
   ]
  },
  {
   "cell_type": "code",
   "execution_count": null,
   "metadata": {},
   "outputs": [],
   "source": []
  },
  {
   "cell_type": "code",
   "execution_count": 249,
   "metadata": {
    "ExecuteTime": {
     "end_time": "2019-03-14T08:25:42.402692Z",
     "start_time": "2019-03-14T08:25:41.931750Z"
    }
   },
   "outputs": [
    {
     "data": {
      "application/vnd.vegalite.v2+json": {
       "$schema": "https://vega.github.io/schema/vega-lite/v2.6.0.json",
       "config": {
        "area": {
         "fill": "#1696d2"
        },
        "axisX": {
         "domain": true,
         "domainColor": "#000000",
         "domainWidth": 1,
         "grid": false,
         "labelAngle": 0,
         "labelFont": "Lato",
         "labelFontSize": 12,
         "tickColor": "#000000",
         "tickSize": 5,
         "title": "",
         "titleFont": "Lato",
         "titleFontSize": 12,
         "titlePadding": 10
        },
        "axisY": {
         "domain": false,
         "grid": true,
         "gridColor": "#DEDDDD",
         "gridWidth": 1,
         "labelFont": "Lato",
         "labelFontSize": 12,
         "labelPadding": 8,
         "ticks": false,
         "titleAngle": 0,
         "titleFont": "Lato",
         "titleFontSize": 12,
         "titlePadding": 10,
         "titleX": 18,
         "titleY": -10
        },
        "background": "#FFFFFF",
        "bar": {
         "binSpacing": 1,
         "continuousBandSize": 30,
         "discreteBandSize": 30,
         "fill": "#1696d2",
         "size": 40,
         "stroke": false
        },
        "legend": {
         "labelFont": "Lato",
         "labelFontSize": 12,
         "offset": 0,
         "orient": "top-left",
         "symbolSize": 100,
         "symbolType": "square",
         "title": "",
         "titleFont": "Lato",
         "titleFontSize": 12,
         "titlePadding": 10
        },
        "line": {
         "color": "#1696d2",
         "stroke": "#1696d2",
         "strokewidth": 5
        },
        "path": {
         "stroke": "#1696d2",
         "strokeWidth": 0.5
        },
        "point": {
         "filled": true
        },
        "range": {
         "category": [
          "#1696d2",
          "#d2d2d2",
          "#000000",
          "#fdbf11",
          "#ec008b",
          "#55b748",
          "#5c5859",
          "#db2b27"
         ],
         "diverging": [
          "#cfe8f3",
          "#a2d4ec",
          "#73bfe2",
          "#46abdb",
          "#1696d2",
          "#12719e"
         ]
        },
        "text": {
         "align": "right",
         "color": "#1696d2",
         "font": "Lato",
         "fontSize": 11,
         "fontWeight": 400,
         "size": 11
        },
        "title": {
         "anchor": "start",
         "font": "Lato",
         "fontColor": "#000000",
         "fontSize": 18
        },
        "trail": {
         "color": "#1696d2",
         "size": 1,
         "stroke": "#1696d2",
         "strokeWidth": 0
        },
        "view": {
         "stroke": "transparent"
        }
       },
       "data": {
        "format": {
         "type": "json"
        },
        "url": "altair-data-0d07009a1521e61794ef1fef3da9d99b.json"
       },
       "encoding": {
        "color": {
         "field": "donor",
         "type": "nominal"
        },
        "order": {
         "field": "commitment_amount_usd_constant",
         "sort": "descending",
         "type": "quantitative"
        },
        "tooltip": [
         {
          "field": "commitment_amount_usd_constant",
          "type": "quantitative"
         }
        ],
        "x": {
         "aggregate": "sum",
         "axis": {
          "format": ".0%"
         },
         "field": "commitment_amount_usd_constant",
         "sort": {
          "field": "commitment_amount_usd_constant",
          "op": "sum",
          "order": "descending"
         },
         "stack": "normalize",
         "title": "Amount",
         "type": "quantitative"
        }
       },
       "height": 380,
       "mark": "bar",
       "title": "Receipients",
       "width": 685
      },
      "image/png": "[encoded data removed]",
      "text/plain": [
       "<VegaLite 2 object>\n",
       "\n",
       "If you see this message, it means the renderer has not been properly enabled\n",
       "for the frontend that you are using. For more information, see\n",
       "https://altair-viz.github.io/user_guide/troubleshooting.html\n"
      ]
     },
     "execution_count": 249,
     "metadata": {},
     "output_type": "execute_result"
    }
   ],
   "source": [
    "chart_stack = (alt.Chart(df_stack)\n",
    " .mark_bar()\n",
    " .encode(\n",
    "         x=X('sum(commitment_amount_usd_constant):Q',sort=sort, title='Amount',stack='normalize',axis=alt.Axis(format='.0%')),\n",
    "         tooltip=['commitment_amount_usd_constant'],\n",
    "                 color='donor:N',\n",
    "     order=alt.Order(\n",
    "      # Sort the segments of the bars by this field\n",
    "      'commitment_amount_usd_constant',\n",
    "      sort='descending')\n",
    ")\n",
    "              )\n",
    "\n",
    "chart_stack.title = 'Receipients'\n",
    "\n",
    "\n",
    "chart_stack "
   ]
  },
  {
   "cell_type": "markdown",
   "metadata": {},
   "source": [
    "# Top Recipent"
   ]
  },
  {
   "cell_type": "code",
   "execution_count": 251,
   "metadata": {
    "ExecuteTime": {
     "end_time": "2019-03-14T08:25:28.901511Z",
     "start_time": "2019-03-14T08:25:28.396329Z"
    }
   },
   "outputs": [],
   "source": [
    "chart_recipient = (alt.Chart(df)\n",
    " .mark_bar()\n",
    " .encode(y=Y('recipient:N', sort=sort, title=''),\n",
    "         x=X('sum(commitment_amount_usd_constant):Q', title='Amount')\n",
    ").transform_filter(brush))\n",
    "\n",
    "chart_recipient.title='Receipients'"
   ]
  },
  {
   "cell_type": "code",
   "execution_count": 252,
   "metadata": {
    "ExecuteTime": {
     "end_time": "2019-03-14T08:25:28.901511Z",
     "start_time": "2019-03-14T08:25:28.396329Z"
    }
   },
   "outputs": [
    {
     "data": {
      "application/vnd.vegalite.v2+json": {
       "$schema": "https://vega.github.io/schema/vega-lite/v2.6.0.json",
       "config": {
        "area": {
         "fill": "#1696d2"
        },
        "axisX": {
         "domain": true,
         "domainColor": "#000000",
         "domainWidth": 1,
         "grid": false,
         "labelAngle": 0,
         "labelFont": "Lato",
         "labelFontSize": 12,
         "tickColor": "#000000",
         "tickSize": 5,
         "title": "",
         "titleFont": "Lato",
         "titleFontSize": 12,
         "titlePadding": 10
        },
        "axisY": {
         "domain": false,
         "grid": true,
         "gridColor": "#DEDDDD",
         "gridWidth": 1,
         "labelFont": "Lato",
         "labelFontSize": 12,
         "labelPadding": 8,
         "ticks": false,
         "titleAngle": 0,
         "titleFont": "Lato",
         "titleFontSize": 12,
         "titlePadding": 10,
         "titleX": 18,
         "titleY": -10
        },
        "background": "#FFFFFF",
        "bar": {
         "binSpacing": 1,
         "continuousBandSize": 30,
         "discreteBandSize": 30,
         "fill": "#1696d2",
         "size": 40,
         "stroke": false
        },
        "legend": {
         "labelFont": "Lato",
         "labelFontSize": 12,
         "offset": 0,
         "orient": "top-left",
         "symbolSize": 100,
         "symbolType": "square",
         "title": "",
         "titleFont": "Lato",
         "titleFontSize": 12,
         "titlePadding": 10
        },
        "line": {
         "color": "#1696d2",
         "stroke": "#1696d2",
         "strokewidth": 5
        },
        "path": {
         "stroke": "#1696d2",
         "strokeWidth": 0.5
        },
        "point": {
         "filled": true
        },
        "range": {
         "category": [
          "#1696d2",
          "#d2d2d2",
          "#000000",
          "#fdbf11",
          "#ec008b",
          "#55b748",
          "#5c5859",
          "#db2b27"
         ],
         "diverging": [
          "#cfe8f3",
          "#a2d4ec",
          "#73bfe2",
          "#46abdb",
          "#1696d2",
          "#12719e"
         ]
        },
        "text": {
         "align": "right",
         "color": "#1696d2",
         "font": "Lato",
         "fontSize": 11,
         "fontWeight": 400,
         "size": 11
        },
        "title": {
         "anchor": "start",
         "font": "Lato",
         "fontColor": "#000000",
         "fontSize": 18
        },
        "trail": {
         "color": "#1696d2",
         "size": 1,
         "stroke": "#1696d2",
         "strokeWidth": 0
        },
        "view": {
         "stroke": "transparent"
        }
       },
       "hconcat": [
        {
         "data": {
          "format": {
           "type": "json"
          },
          "url": "altair-data-51e7b2fdbf4df9fd023e5a31408ca514.json"
         },
         "encoding": {
          "color": {
           "condition": {
            "selection": "selector015",
            "value": "#1696d2"
           },
           "value": "lightgray"
          },
          "tooltip": [
           {
            "aggregate": "sum",
            "field": "commitment_amount_usd_constant",
            "type": "quantitative"
           }
          ],
          "x": {
           "aggregate": "sum",
           "field": "commitment_amount_usd_constant",
           "title": "Amount",
           "type": "quantitative"
          },
          "y": {
           "field": "donor",
           "sort": {
            "field": "commitment_amount_usd_constant",
            "op": "sum",
            "order": "descending"
           },
           "title": "",
           "type": "nominal"
          }
         },
         "mark": "bar",
         "selection": {
          "selector015": {
           "encodings": [
            "y"
           ],
           "mark": {
            "fill": "#333",
            "fillOpacity": 0.125,
            "stroke": "white"
           },
           "on": "[mousedown, window:mouseup] > window:mousemove!",
           "resolve": "global",
           "translate": "[mousedown, window:mouseup] > window:mousemove!",
           "type": "interval",
           "zoom": "wheel!"
          }
         },
         "title": "Top 10 Donors",
         "transform": [
          {
           "sort": [
            {
             "field": "commitment_amount_usd_constant",
             "order": "descending"
            }
           ],
           "window": [
            {
             "as": "rank",
             "field": "commitment_amount_usd_constant",
             "op": "rank"
            }
           ]
          },
          {
           "filter": "(datum.rank < 10)"
          }
         ]
        },
        {
         "data": {
          "format": {
           "type": "json"
          },
          "url": "altair-data-49a9e9873fa8205f107e491e5fb912f5.json"
         },
         "encoding": {
          "x": {
           "aggregate": "sum",
           "field": "commitment_amount_usd_constant",
           "title": "Amount",
           "type": "quantitative"
          },
          "y": {
           "field": "recipient",
           "sort": {
            "field": "commitment_amount_usd_constant",
            "op": "sum",
            "order": "descending"
           },
           "title": "",
           "type": "nominal"
          }
         },
         "mark": "bar",
         "title": "Receipients",
         "transform": [
          {
           "filter": {
            "selection": "selector015"
           }
          }
         ]
        }
       ],
       "height": 380,
       "width": 685
      },
      "image/png": "[encoded data removed]",
      "text/plain": [
       "<VegaLite 2 object>\n",
       "\n",
       "If you see this message, it means the renderer has not been properly enabled\n",
       "for the frontend that you are using. For more information, see\n",
       "https://altair-viz.github.io/user_guide/troubleshooting.html\n"
      ]
     },
     "execution_count": 252,
     "metadata": {},
     "output_type": "execute_result"
    }
   ],
   "source": [
    "final_chart = chart_donor_group | chart_recipient\n",
    "final_chart.save('datachallenge.html')\n",
    "final_chart"
   ]
  },
  {
   "cell_type": "markdown",
   "metadata": {},
   "source": [
    "# TODO\n",
    "* Cross-filter to show overall percentage\n",
    "* trellis of line graph"
   ]
  },
  {
   "cell_type": "markdown",
   "metadata": {},
   "source": [
    "# Cross Filter (Not Finished)"
   ]
  },
  {
   "cell_type": "code",
   "execution_count": 67,
   "metadata": {},
   "outputs": [
    {
     "ename": "NameError",
     "evalue": "name 'source' is not defined",
     "output_type": "error",
     "traceback": [
      "\u001b[1;31m---------------------------------------------------------------------------\u001b[0m",
      "\u001b[1;31mNameError\u001b[0m                                 Traceback (most recent call last)",
      "\u001b[1;32m<ipython-input-67-fefe8863f679>\u001b[0m in \u001b[0;36m<module>\u001b[1;34m\u001b[0m\n\u001b[0;32m     23\u001b[0m     \u001b[0mbackground\u001b[0m\u001b[1;33m,\u001b[0m\u001b[1;33m\u001b[0m\u001b[0m\n\u001b[0;32m     24\u001b[0m     \u001b[0mhighlight\u001b[0m\u001b[1;33m,\u001b[0m\u001b[1;33m\u001b[0m\u001b[0m\n\u001b[1;32m---> 25\u001b[1;33m     \u001b[0mdata\u001b[0m\u001b[1;33m=\u001b[0m\u001b[0msource\u001b[0m\u001b[1;33m\u001b[0m\u001b[0m\n\u001b[0m\u001b[0;32m     26\u001b[0m \u001b[1;33m)\u001b[0m\u001b[1;33m.\u001b[0m\u001b[0mtransform_calculate\u001b[0m\u001b[1;33m(\u001b[0m\u001b[1;33m\u001b[0m\u001b[0m\n\u001b[0;32m     27\u001b[0m     \u001b[1;34m\"time\"\u001b[0m\u001b[1;33m,\u001b[0m\u001b[1;33m\u001b[0m\u001b[0m\n",
      "\u001b[1;31mNameError\u001b[0m: name 'source' is not defined"
     ]
    }
   ],
   "source": [
    "brush = alt.selection(type='interval', encodings=['x'])\n",
    "\n",
    "# Define the base chart, with the common parts of the\n",
    "# background and highlights\n",
    "base = alt.Chart().mark_bar().encode(\n",
    "    x=alt.X(alt.repeat('column'), type='quantitative', bin=alt.Bin(maxbins=20)),\n",
    "    y='count()'\n",
    ").properties(\n",
    "    width=180,\n",
    "    height=130\n",
    ")\n",
    "\n",
    "# blue background with selection\n",
    "background = base.properties(selection=brush)\n",
    "\n",
    "# yellow highlights on the transformed data\n",
    "highlight = base.encode(\n",
    "    color=alt.value('goldenrod')\n",
    ").transform_filter(brush)\n",
    "\n",
    "# layer the two charts & repeat\n",
    "alt.layer(\n",
    "    background,\n",
    "    highlight,\n",
    "    data=source\n",
    ").transform_calculate(\n",
    "    \"time\",\n",
    "    \"hours(datum.date)\"\n",
    ").repeat(column=[\"distance\", \"delay\", \"time\"])"
   ]
  },
  {
   "cell_type": "markdown",
   "metadata": {},
   "source": [
    "# Ref"
   ]
  },
  {
   "cell_type": "code",
   "execution_count": 99,
   "metadata": {},
   "outputs": [
    {
     "data": {
      "text/plain": [
       "Index(['aiddata_id', 'aiddata_2_id', 'year', 'donor', 'recipient',\n",
       "       'commitment_amount_usd_constant', 'coalesced_purpose_code',\n",
       "       'coalesced_purpose_name'],\n",
       "      dtype='object')"
      ]
     },
     "execution_count": 99,
     "metadata": {},
     "output_type": "execute_result"
    }
   ],
   "source": [
    "df.columns"
   ]
  },
  {
   "cell_type": "code",
   "execution_count": 102,
   "metadata": {},
   "outputs": [],
   "source": [
    "tmp = df[['donor', 'recipient','commitment_amount_usd_constant']].groupby(['donor', 'recipient']).sum().reset_index()\n",
    "tmp.to_csv(DATA/'output.csv',index=False)"
   ]
  },
  {
   "cell_type": "code",
   "execution_count": 103,
   "metadata": {},
   "outputs": [
    {
     "data": {
      "text/html": [
       "<div>\n",
       "<style scoped>\n",
       "    .dataframe tbody tr th:only-of-type {\n",
       "        vertical-align: middle;\n",
       "    }\n",
       "\n",
       "    .dataframe tbody tr th {\n",
       "        vertical-align: top;\n",
       "    }\n",
       "\n",
       "    .dataframe thead th {\n",
       "        text-align: right;\n",
       "    }\n",
       "</style>\n",
       "<table border=\"1\" class=\"dataframe\">\n",
       "  <thead>\n",
       "    <tr style=\"text-align: right;\">\n",
       "      <th></th>\n",
       "      <th>donor</th>\n",
       "      <th>recipient</th>\n",
       "      <th>commitment_amount_usd_constant</th>\n",
       "    </tr>\n",
       "  </thead>\n",
       "  <tbody>\n",
       "    <tr>\n",
       "      <th>0</th>\n",
       "      <td>Australia</td>\n",
       "      <td>Brazil</td>\n",
       "      <td>1.084346e+07</td>\n",
       "    </tr>\n",
       "    <tr>\n",
       "      <th>1</th>\n",
       "      <td>Australia</td>\n",
       "      <td>Chile</td>\n",
       "      <td>1.151201e+07</td>\n",
       "    </tr>\n",
       "    <tr>\n",
       "      <th>2</th>\n",
       "      <td>Australia</td>\n",
       "      <td>Colombia</td>\n",
       "      <td>1.056582e+07</td>\n",
       "    </tr>\n",
       "    <tr>\n",
       "      <th>3</th>\n",
       "      <td>Australia</td>\n",
       "      <td>Cyprus</td>\n",
       "      <td>1.872882e+07</td>\n",
       "    </tr>\n",
       "    <tr>\n",
       "      <th>4</th>\n",
       "      <td>Australia</td>\n",
       "      <td>Czech Republic</td>\n",
       "      <td>6.918000e+03</td>\n",
       "    </tr>\n",
       "    <tr>\n",
       "      <th>5</th>\n",
       "      <td>Australia</td>\n",
       "      <td>Hungary</td>\n",
       "      <td>9.846550e+05</td>\n",
       "    </tr>\n",
       "    <tr>\n",
       "      <th>6</th>\n",
       "      <td>Australia</td>\n",
       "      <td>India</td>\n",
       "      <td>9.820759e+08</td>\n",
       "    </tr>\n",
       "    <tr>\n",
       "      <th>7</th>\n",
       "      <td>Australia</td>\n",
       "      <td>Korea</td>\n",
       "      <td>7.599604e+06</td>\n",
       "    </tr>\n",
       "    <tr>\n",
       "      <th>8</th>\n",
       "      <td>Australia</td>\n",
       "      <td>Poland</td>\n",
       "      <td>3.046000e+03</td>\n",
       "    </tr>\n",
       "    <tr>\n",
       "      <th>9</th>\n",
       "      <td>Australia</td>\n",
       "      <td>Saudi Arabia</td>\n",
       "      <td>7.575000e+03</td>\n",
       "    </tr>\n",
       "    <tr>\n",
       "      <th>10</th>\n",
       "      <td>Australia</td>\n",
       "      <td>Slovenia</td>\n",
       "      <td>9.665900e+04</td>\n",
       "    </tr>\n",
       "    <tr>\n",
       "      <th>11</th>\n",
       "      <td>Australia</td>\n",
       "      <td>South Africa</td>\n",
       "      <td>2.408930e+08</td>\n",
       "    </tr>\n",
       "    <tr>\n",
       "      <th>12</th>\n",
       "      <td>Australia</td>\n",
       "      <td>Taiwan</td>\n",
       "      <td>5.527790e+05</td>\n",
       "    </tr>\n",
       "    <tr>\n",
       "      <th>13</th>\n",
       "      <td>Australia</td>\n",
       "      <td>Thailand</td>\n",
       "      <td>1.162746e+09</td>\n",
       "    </tr>\n",
       "    <tr>\n",
       "      <th>14</th>\n",
       "      <td>Austria</td>\n",
       "      <td>Brazil</td>\n",
       "      <td>5.222651e+07</td>\n",
       "    </tr>\n",
       "    <tr>\n",
       "      <th>15</th>\n",
       "      <td>Austria</td>\n",
       "      <td>Chile</td>\n",
       "      <td>6.426788e+06</td>\n",
       "    </tr>\n",
       "    <tr>\n",
       "      <th>16</th>\n",
       "      <td>Austria</td>\n",
       "      <td>Colombia</td>\n",
       "      <td>2.023145e+07</td>\n",
       "    </tr>\n",
       "    <tr>\n",
       "      <th>17</th>\n",
       "      <td>Austria</td>\n",
       "      <td>Cyprus</td>\n",
       "      <td>5.113082e+07</td>\n",
       "    </tr>\n",
       "    <tr>\n",
       "      <th>18</th>\n",
       "      <td>Austria</td>\n",
       "      <td>Czech Republic</td>\n",
       "      <td>3.636434e+07</td>\n",
       "    </tr>\n",
       "    <tr>\n",
       "      <th>19</th>\n",
       "      <td>Austria</td>\n",
       "      <td>Estonia</td>\n",
       "      <td>6.378410e+05</td>\n",
       "    </tr>\n",
       "    <tr>\n",
       "      <th>20</th>\n",
       "      <td>Austria</td>\n",
       "      <td>Hungary</td>\n",
       "      <td>6.387124e+07</td>\n",
       "    </tr>\n",
       "    <tr>\n",
       "      <th>21</th>\n",
       "      <td>Austria</td>\n",
       "      <td>India</td>\n",
       "      <td>1.624215e+08</td>\n",
       "    </tr>\n",
       "    <tr>\n",
       "      <th>22</th>\n",
       "      <td>Austria</td>\n",
       "      <td>Korea</td>\n",
       "      <td>1.115263e+08</td>\n",
       "    </tr>\n",
       "    <tr>\n",
       "      <th>23</th>\n",
       "      <td>Austria</td>\n",
       "      <td>Kuwait</td>\n",
       "      <td>1.241900e+05</td>\n",
       "    </tr>\n",
       "    <tr>\n",
       "      <th>24</th>\n",
       "      <td>Austria</td>\n",
       "      <td>Latvia</td>\n",
       "      <td>8.997480e+05</td>\n",
       "    </tr>\n",
       "    <tr>\n",
       "      <th>25</th>\n",
       "      <td>Austria</td>\n",
       "      <td>Lithuania</td>\n",
       "      <td>1.520246e+06</td>\n",
       "    </tr>\n",
       "    <tr>\n",
       "      <th>26</th>\n",
       "      <td>Austria</td>\n",
       "      <td>Poland</td>\n",
       "      <td>3.318433e+07</td>\n",
       "    </tr>\n",
       "    <tr>\n",
       "      <th>27</th>\n",
       "      <td>Austria</td>\n",
       "      <td>Romania</td>\n",
       "      <td>3.169509e+07</td>\n",
       "    </tr>\n",
       "    <tr>\n",
       "      <th>28</th>\n",
       "      <td>Austria</td>\n",
       "      <td>Saudi Arabia</td>\n",
       "      <td>2.145296e+06</td>\n",
       "    </tr>\n",
       "    <tr>\n",
       "      <th>29</th>\n",
       "      <td>Austria</td>\n",
       "      <td>Slovak Republic</td>\n",
       "      <td>4.470089e+07</td>\n",
       "    </tr>\n",
       "    <tr>\n",
       "      <th>...</th>\n",
       "      <td>...</td>\n",
       "      <td>...</td>\n",
       "      <td>...</td>\n",
       "    </tr>\n",
       "    <tr>\n",
       "      <th>467</th>\n",
       "      <td>United States</td>\n",
       "      <td>France</td>\n",
       "      <td>2.375326e+08</td>\n",
       "    </tr>\n",
       "    <tr>\n",
       "      <th>468</th>\n",
       "      <td>United States</td>\n",
       "      <td>Greece</td>\n",
       "      <td>5.193779e+08</td>\n",
       "    </tr>\n",
       "    <tr>\n",
       "      <th>469</th>\n",
       "      <td>United States</td>\n",
       "      <td>Hungary</td>\n",
       "      <td>1.765305e+09</td>\n",
       "    </tr>\n",
       "    <tr>\n",
       "      <th>470</th>\n",
       "      <td>United States</td>\n",
       "      <td>Iceland</td>\n",
       "      <td>1.806004e+07</td>\n",
       "    </tr>\n",
       "    <tr>\n",
       "      <th>471</th>\n",
       "      <td>United States</td>\n",
       "      <td>India</td>\n",
       "      <td>1.652983e+10</td>\n",
       "    </tr>\n",
       "    <tr>\n",
       "      <th>472</th>\n",
       "      <td>United States</td>\n",
       "      <td>Ireland</td>\n",
       "      <td>9.346387e+08</td>\n",
       "    </tr>\n",
       "    <tr>\n",
       "      <th>473</th>\n",
       "      <td>United States</td>\n",
       "      <td>Italy</td>\n",
       "      <td>2.400034e+09</td>\n",
       "    </tr>\n",
       "    <tr>\n",
       "      <th>474</th>\n",
       "      <td>United States</td>\n",
       "      <td>Japan</td>\n",
       "      <td>2.080978e+09</td>\n",
       "    </tr>\n",
       "    <tr>\n",
       "      <th>475</th>\n",
       "      <td>United States</td>\n",
       "      <td>Korea</td>\n",
       "      <td>1.115436e+10</td>\n",
       "    </tr>\n",
       "    <tr>\n",
       "      <th>476</th>\n",
       "      <td>United States</td>\n",
       "      <td>Kuwait</td>\n",
       "      <td>7.727422e+09</td>\n",
       "    </tr>\n",
       "    <tr>\n",
       "      <th>477</th>\n",
       "      <td>United States</td>\n",
       "      <td>Latvia</td>\n",
       "      <td>1.566049e+08</td>\n",
       "    </tr>\n",
       "    <tr>\n",
       "      <th>478</th>\n",
       "      <td>United States</td>\n",
       "      <td>Liechtenstein</td>\n",
       "      <td>1.826437e+07</td>\n",
       "    </tr>\n",
       "    <tr>\n",
       "      <th>479</th>\n",
       "      <td>United States</td>\n",
       "      <td>Lithuania</td>\n",
       "      <td>1.824535e+08</td>\n",
       "    </tr>\n",
       "    <tr>\n",
       "      <th>480</th>\n",
       "      <td>United States</td>\n",
       "      <td>Luxembourg</td>\n",
       "      <td>5.550398e+08</td>\n",
       "    </tr>\n",
       "    <tr>\n",
       "      <th>481</th>\n",
       "      <td>United States</td>\n",
       "      <td>New Zealand</td>\n",
       "      <td>2.255883e+08</td>\n",
       "    </tr>\n",
       "    <tr>\n",
       "      <th>482</th>\n",
       "      <td>United States</td>\n",
       "      <td>Norway</td>\n",
       "      <td>3.680020e+08</td>\n",
       "    </tr>\n",
       "    <tr>\n",
       "      <th>483</th>\n",
       "      <td>United States</td>\n",
       "      <td>Poland</td>\n",
       "      <td>2.508547e+09</td>\n",
       "    </tr>\n",
       "    <tr>\n",
       "      <th>484</th>\n",
       "      <td>United States</td>\n",
       "      <td>Portugal</td>\n",
       "      <td>1.751295e+08</td>\n",
       "    </tr>\n",
       "    <tr>\n",
       "      <th>485</th>\n",
       "      <td>United States</td>\n",
       "      <td>Qatar</td>\n",
       "      <td>7.231673e+08</td>\n",
       "    </tr>\n",
       "    <tr>\n",
       "      <th>486</th>\n",
       "      <td>United States</td>\n",
       "      <td>Romania</td>\n",
       "      <td>1.686280e+09</td>\n",
       "    </tr>\n",
       "    <tr>\n",
       "      <th>487</th>\n",
       "      <td>United States</td>\n",
       "      <td>Saudi Arabia</td>\n",
       "      <td>4.440014e+09</td>\n",
       "    </tr>\n",
       "    <tr>\n",
       "      <th>488</th>\n",
       "      <td>United States</td>\n",
       "      <td>Slovak Republic</td>\n",
       "      <td>9.411386e+07</td>\n",
       "    </tr>\n",
       "    <tr>\n",
       "      <th>489</th>\n",
       "      <td>United States</td>\n",
       "      <td>Slovenia</td>\n",
       "      <td>6.917157e+06</td>\n",
       "    </tr>\n",
       "    <tr>\n",
       "      <th>490</th>\n",
       "      <td>United States</td>\n",
       "      <td>South Africa</td>\n",
       "      <td>6.678780e+09</td>\n",
       "    </tr>\n",
       "    <tr>\n",
       "      <th>491</th>\n",
       "      <td>United States</td>\n",
       "      <td>Spain</td>\n",
       "      <td>5.617118e+08</td>\n",
       "    </tr>\n",
       "    <tr>\n",
       "      <th>492</th>\n",
       "      <td>United States</td>\n",
       "      <td>Sweden</td>\n",
       "      <td>5.975716e+07</td>\n",
       "    </tr>\n",
       "    <tr>\n",
       "      <th>493</th>\n",
       "      <td>United States</td>\n",
       "      <td>Taiwan</td>\n",
       "      <td>2.831032e+09</td>\n",
       "    </tr>\n",
       "    <tr>\n",
       "      <th>494</th>\n",
       "      <td>United States</td>\n",
       "      <td>Thailand</td>\n",
       "      <td>6.495637e+09</td>\n",
       "    </tr>\n",
       "    <tr>\n",
       "      <th>495</th>\n",
       "      <td>United States</td>\n",
       "      <td>United Arab Emirates</td>\n",
       "      <td>1.544263e+06</td>\n",
       "    </tr>\n",
       "    <tr>\n",
       "      <th>496</th>\n",
       "      <td>United States</td>\n",
       "      <td>United Kingdom</td>\n",
       "      <td>9.573440e+08</td>\n",
       "    </tr>\n",
       "  </tbody>\n",
       "</table>\n",
       "<p>497 rows × 3 columns</p>\n",
       "</div>"
      ],
      "text/plain": [
       "             donor             recipient  commitment_amount_usd_constant\n",
       "0        Australia                Brazil                    1.084346e+07\n",
       "1        Australia                 Chile                    1.151201e+07\n",
       "2        Australia              Colombia                    1.056582e+07\n",
       "3        Australia                Cyprus                    1.872882e+07\n",
       "4        Australia        Czech Republic                    6.918000e+03\n",
       "5        Australia               Hungary                    9.846550e+05\n",
       "6        Australia                 India                    9.820759e+08\n",
       "7        Australia                 Korea                    7.599604e+06\n",
       "8        Australia                Poland                    3.046000e+03\n",
       "9        Australia          Saudi Arabia                    7.575000e+03\n",
       "10       Australia              Slovenia                    9.665900e+04\n",
       "11       Australia          South Africa                    2.408930e+08\n",
       "12       Australia                Taiwan                    5.527790e+05\n",
       "13       Australia              Thailand                    1.162746e+09\n",
       "14         Austria                Brazil                    5.222651e+07\n",
       "15         Austria                 Chile                    6.426788e+06\n",
       "16         Austria              Colombia                    2.023145e+07\n",
       "17         Austria                Cyprus                    5.113082e+07\n",
       "18         Austria        Czech Republic                    3.636434e+07\n",
       "19         Austria               Estonia                    6.378410e+05\n",
       "20         Austria               Hungary                    6.387124e+07\n",
       "21         Austria                 India                    1.624215e+08\n",
       "22         Austria                 Korea                    1.115263e+08\n",
       "23         Austria                Kuwait                    1.241900e+05\n",
       "24         Austria                Latvia                    8.997480e+05\n",
       "25         Austria             Lithuania                    1.520246e+06\n",
       "26         Austria                Poland                    3.318433e+07\n",
       "27         Austria               Romania                    3.169509e+07\n",
       "28         Austria          Saudi Arabia                    2.145296e+06\n",
       "29         Austria       Slovak Republic                    4.470089e+07\n",
       "..             ...                   ...                             ...\n",
       "467  United States                France                    2.375326e+08\n",
       "468  United States                Greece                    5.193779e+08\n",
       "469  United States               Hungary                    1.765305e+09\n",
       "470  United States               Iceland                    1.806004e+07\n",
       "471  United States                 India                    1.652983e+10\n",
       "472  United States               Ireland                    9.346387e+08\n",
       "473  United States                 Italy                    2.400034e+09\n",
       "474  United States                 Japan                    2.080978e+09\n",
       "475  United States                 Korea                    1.115436e+10\n",
       "476  United States                Kuwait                    7.727422e+09\n",
       "477  United States                Latvia                    1.566049e+08\n",
       "478  United States         Liechtenstein                    1.826437e+07\n",
       "479  United States             Lithuania                    1.824535e+08\n",
       "480  United States            Luxembourg                    5.550398e+08\n",
       "481  United States           New Zealand                    2.255883e+08\n",
       "482  United States                Norway                    3.680020e+08\n",
       "483  United States                Poland                    2.508547e+09\n",
       "484  United States              Portugal                    1.751295e+08\n",
       "485  United States                 Qatar                    7.231673e+08\n",
       "486  United States               Romania                    1.686280e+09\n",
       "487  United States          Saudi Arabia                    4.440014e+09\n",
       "488  United States       Slovak Republic                    9.411386e+07\n",
       "489  United States              Slovenia                    6.917157e+06\n",
       "490  United States          South Africa                    6.678780e+09\n",
       "491  United States                 Spain                    5.617118e+08\n",
       "492  United States                Sweden                    5.975716e+07\n",
       "493  United States                Taiwan                    2.831032e+09\n",
       "494  United States              Thailand                    6.495637e+09\n",
       "495  United States  United Arab Emirates                    1.544263e+06\n",
       "496  United States        United Kingdom                    9.573440e+08\n",
       "\n",
       "[497 rows x 3 columns]"
      ]
     },
     "execution_count": 103,
     "metadata": {},
     "output_type": "execute_result"
    }
   ],
   "source": [
    "tmp"
   ]
  },
  {
   "cell_type": "code",
   "execution_count": 212,
   "metadata": {},
   "outputs": [
    {
     "data": {
      "text/plain": [
       "ThemeRegistry.enable('my_custom_theme')"
      ]
     },
     "execution_count": 212,
     "metadata": {},
     "output_type": "execute_result"
    }
   ],
   "source": [
    "def urban_theme():\n",
    "    markColor = \"#1696d2\"\n",
    "    axisColor = \"#000000\"\n",
    "    backgroundColor = \"#FFFFFF\"\n",
    "    font = \"Lato\"\n",
    "    labelFont = \"Lato\"\n",
    "    sourceFont = \"Lato\"\n",
    "    gridColor = \"#DEDDDD\"\n",
    "    main_palette = [\"#1696d2\", \n",
    "                    \"#d2d2d2\",\n",
    "                    \"#000000\", \n",
    "                    \"#fdbf11\", \n",
    "                    \"#ec008b\", \n",
    "                    \"#55b748\", \n",
    "                    \"#5c5859\", \n",
    "                    \"#db2b27\", \n",
    "                   ]\n",
    "    sequential_palette = [\"#cfe8f3\", \n",
    "                          \"#a2d4ec\", \n",
    "                          \"#73bfe2\", \n",
    "                          \"#46abdb\", \n",
    "                          \"#1696d2\", \n",
    "                          \"#12719e\", \n",
    "                         ]\n",
    "    return {\n",
    "        \"width\": 685,\n",
    "        \"height\": 380,   \n",
    "#        \"autosize\": \"fit\",\n",
    "        \"config\": {\n",
    "            \"title\": {\n",
    "                \"anchor\": \"start\",\n",
    "                \"fontSize\": 18,\n",
    "                \"font\": font,\n",
    "                \"fontColor\": \"#000000\"\n",
    "            },\n",
    "            \"axisX\": {\n",
    "               \"domain\": True,\n",
    "               \"domainColor\": axisColor,\n",
    "               \"domainWidth\": 1,\n",
    "               \"grid\": False,\n",
    "               \"labelFontSize\": 12,\n",
    "               \"labelFont\": labelFont,\n",
    "               \"labelAngle\": 0,\n",
    "               \"tickColor\": axisColor,\n",
    "               \"tickSize\": 5,\n",
    "               \"titleFontSize\": 12,\n",
    "               \"titlePadding\": 10,\n",
    "               \"titleFont\": font,\n",
    "               \"title\": \"\",\n",
    "           },\n",
    "           \"axisY\": {\n",
    "               \"domain\": False,\n",
    "               \"grid\": True,\n",
    "               \"gridColor\": gridColor,\n",
    "               \"gridWidth\": 1,\n",
    "               \"labelFontSize\": 12,\n",
    "               \"labelFont\": labelFont,\n",
    "               \"labelPadding\": 8,\n",
    "               \"ticks\": False,\n",
    "               \"titleFontSize\": 12,\n",
    "               \"titlePadding\": 10,\n",
    "               \"titleFont\": font,\n",
    "               \"titleAngle\": 0,\n",
    "               \"titleY\": -10,\n",
    "               \"titleX\": 18,\n",
    "           },\n",
    "           \"background\": backgroundColor,\n",
    "           \"legend\": {\n",
    "               \"labelFontSize\": 12,\n",
    "               \"labelFont\": labelFont,\n",
    "               \"symbolSize\": 100,\n",
    "               \"symbolType\": \"square\",\n",
    "               \"titleFontSize\": 12,\n",
    "               \"titlePadding\": 10,\n",
    "               \"titleFont\": font,\n",
    "               \"title\": \"\",\n",
    "               \"orient\": \"top-left\",\n",
    "               \"offset\": 0,\n",
    "           },\n",
    "           \"view\": {\n",
    "               \"stroke\": \"transparent\",\n",
    "           },\n",
    "           \"range\": {\n",
    "               \"category\": main_palette,\n",
    "               \"diverging\": sequential_palette,\n",
    "           },\n",
    "           \"area\": {\n",
    "               \"fill\": markColor,\n",
    "           },\n",
    "           \"line\": {\n",
    "               \"color\": markColor,\n",
    "               \"stroke\": markColor,\n",
    "               \"strokewidth\": 5,\n",
    "           },\n",
    "           \"trail\": {\n",
    "               \"color\": markColor,\n",
    "               \"stroke\": markColor,\n",
    "               \"strokeWidth\": 0,\n",
    "               \"size\": 1,\n",
    "           },\n",
    "           \"path\": {\n",
    "               \"stroke\": markColor,\n",
    "               \"strokeWidth\": 0.5,\n",
    "           },\n",
    "           \"point\": {\n",
    "               \"filled\": True,\n",
    "           },\n",
    "           \"text\": {\n",
    "               \"font\": sourceFont,\n",
    "               \"color\": markColor,\n",
    "               \"fontSize\": 11,\n",
    "               \"align\": \"right\",\n",
    "               \"fontWeight\": 400,\n",
    "               \"size\": 11,\n",
    "           }, \n",
    "           \"bar\": {\n",
    "                \"size\": 40,\n",
    "                \"binSpacing\": 1,\n",
    "                \"continuousBandSize\": 30,\n",
    "                \"discreteBandSize\": 30,\n",
    "                \"fill\": markColor,\n",
    "                \"stroke\": False,\n",
    "            }, \n",
    "       },\n",
    "    }\n",
    "    \n",
    "    \n",
    "import altair as alt\n",
    "alt.themes.register(\"my_custom_theme\", urban_theme)\n",
    "alt.themes.enable(\"my_custom_theme\")"
   ]
  },
  {
   "cell_type": "code",
   "execution_count": null,
   "metadata": {},
   "outputs": [],
   "source": []
  }
 ],
 "metadata": {
  "kernelspec": {
   "display_name": "Python 3",
   "language": "python",
   "name": "python3"
  },
  "language_info": {
   "codemirror_mode": {
    "name": "ipython",
    "version": 3
   },
   "file_extension": ".py",
   "mimetype": "text/x-python",
   "name": "python",
   "nbconvert_exporter": "python",
   "pygments_lexer": "ipython3",
   "version": "3.6.0"
  },
  "toc": {
   "base_numbering": 1,
   "nav_menu": {},
   "number_sections": true,
   "sideBar": true,
   "skip_h1_title": false,
   "title_cell": "Table of Contents",
   "title_sidebar": "Contents",
   "toc_cell": false,
   "toc_position": {},
   "toc_section_display": true,
   "toc_window_display": false
  }
 },
 "nbformat": 4,
 "nbformat_minor": 2
}
