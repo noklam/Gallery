{
 "cells": [
  {
   "cell_type": "markdown",
   "metadata": {},
   "source": [
    "# Testing"
   ]
  },
  {
   "cell_type": "markdown",
   "metadata": {},
   "source": [
    "# Notebook"
   ]
  },
  {
   "cell_type": "code",
   "execution_count": 113,
   "metadata": {},
   "outputs": [
    {
     "name": "stdout",
     "output_type": "stream",
     "text": [
      "The autoreload extension is already loaded. To reload it, use:\n",
      "  %reload_ext autoreload\n"
     ]
    }
   ],
   "source": [
    "import pandas as pd\n",
    "import altair as alt\n",
    "from matplotlib import pyplot as plt\n",
    "from pathlib import Path\n",
    "%matplotlib inline\n",
    "%load_ext autoreload\n",
    "%autoreload 2\n",
    "import numpy as np"
   ]
  },
  {
   "cell_type": "code",
   "execution_count": 114,
   "metadata": {},
   "outputs": [],
   "source": [
    "alt.renderers.enable('notebook')\n",
    "DATA = Path('data')"
   ]
  },
  {
   "cell_type": "code",
   "execution_count": 115,
   "metadata": {},
   "outputs": [
    {
     "data": {
      "text/html": [
       "<div>\n",
       "<style scoped>\n",
       "    .dataframe tbody tr th:only-of-type {\n",
       "        vertical-align: middle;\n",
       "    }\n",
       "\n",
       "    .dataframe tbody tr th {\n",
       "        vertical-align: top;\n",
       "    }\n",
       "\n",
       "    .dataframe thead th {\n",
       "        text-align: right;\n",
       "    }\n",
       "</style>\n",
       "<table border=\"1\" class=\"dataframe\">\n",
       "  <thead>\n",
       "    <tr style=\"text-align: right;\">\n",
       "      <th></th>\n",
       "      <th>id</th>\n",
       "      <th>seq</th>\n",
       "      <th>topWait</th>\n",
       "      <th>hospTime</th>\n",
       "      <th>hospCoord</th>\n",
       "      <th>hospUrlB5</th>\n",
       "      <th>hospUrlEn</th>\n",
       "      <th>hospUrlGb</th>\n",
       "      <th>pastHours</th>\n",
       "      <th>hospNameB5</th>\n",
       "      <th>hospNameEn</th>\n",
       "      <th>hospNameGb</th>\n",
       "      <th>hospTimeEn</th>\n",
       "    </tr>\n",
       "  </thead>\n",
       "  <tbody>\n",
       "    <tr>\n",
       "      <th>0</th>\n",
       "      <td>QMH 21/2/2019 9:00am</td>\n",
       "      <td>HK-02</td>\n",
       "      <td>&gt; 2</td>\n",
       "      <td>2019-02-21T09:00:09.29</td>\n",
       "      <td>POINT(114.131259 22.270695)</td>\n",
       "      <td>http://www.ha.org.hk/visitor/ha_visitor_index....</td>\n",
       "      <td>http://www.ha.org.hk/visitor/ha_visitor_index....</td>\n",
       "      <td>http://www.ha.org.hk/visitor/ha_visitor_index....</td>\n",
       "      <td>3</td>\n",
       "      <td>瑪麗醫院</td>\n",
       "      <td>Queen Mary Hospital</td>\n",
       "      <td>玛丽医院</td>\n",
       "      <td>21/2/2019 9:00am</td>\n",
       "    </tr>\n",
       "    <tr>\n",
       "      <th>1</th>\n",
       "      <td>AHN 21/2/2019 10:00am</td>\n",
       "      <td>NT-01</td>\n",
       "      <td>&gt; 1</td>\n",
       "      <td>2019-02-21T10:00:01.783</td>\n",
       "      <td>POINT(114.17472 22.458575)</td>\n",
       "      <td>http://www.ha.org.hk/visitor/ha_visitor_index....</td>\n",
       "      <td>http://www.ha.org.hk/visitor/ha_visitor_index....</td>\n",
       "      <td>http://www.ha.org.hk/visitor/ha_visitor_index....</td>\n",
       "      <td>3</td>\n",
       "      <td>雅麗氏何妙齡那打素醫院</td>\n",
       "      <td>Alice Ho Miu Ling Nethersole Hospital</td>\n",
       "      <td>雅丽氏何妙龄那打素医院</td>\n",
       "      <td>21/2/2019 10:00am</td>\n",
       "    </tr>\n",
       "    <tr>\n",
       "      <th>2</th>\n",
       "      <td>QMH 21/2/2019 11:00am</td>\n",
       "      <td>HK-02</td>\n",
       "      <td>&gt; 1</td>\n",
       "      <td>2019-02-21T11:00:11.893</td>\n",
       "      <td>POINT(114.131259 22.270695)</td>\n",
       "      <td>http://www.ha.org.hk/visitor/ha_visitor_index....</td>\n",
       "      <td>http://www.ha.org.hk/visitor/ha_visitor_index....</td>\n",
       "      <td>http://www.ha.org.hk/visitor/ha_visitor_index....</td>\n",
       "      <td>3</td>\n",
       "      <td>瑪麗醫院</td>\n",
       "      <td>Queen Mary Hospital</td>\n",
       "      <td>玛丽医院</td>\n",
       "      <td>21/2/2019 11:00am</td>\n",
       "    </tr>\n",
       "    <tr>\n",
       "      <th>3</th>\n",
       "      <td>AHN 21/2/2019 12:00pm</td>\n",
       "      <td>NT-01</td>\n",
       "      <td>&gt; 1</td>\n",
       "      <td>2019-02-21T12:00:02.256</td>\n",
       "      <td>POINT(114.17472 22.458575)</td>\n",
       "      <td>http://www.ha.org.hk/visitor/ha_visitor_index....</td>\n",
       "      <td>http://www.ha.org.hk/visitor/ha_visitor_index....</td>\n",
       "      <td>http://www.ha.org.hk/visitor/ha_visitor_index....</td>\n",
       "      <td>3</td>\n",
       "      <td>雅麗氏何妙齡那打素醫院</td>\n",
       "      <td>Alice Ho Miu Ling Nethersole Hospital</td>\n",
       "      <td>雅丽氏何妙龄那打素医院</td>\n",
       "      <td>21/2/2019 12:00pm</td>\n",
       "    </tr>\n",
       "    <tr>\n",
       "      <th>4</th>\n",
       "      <td>PYN 21/2/2019 12:00pm</td>\n",
       "      <td>HK-01</td>\n",
       "      <td>&gt; 3</td>\n",
       "      <td>2019-02-21T12:00:01.646</td>\n",
       "      <td>POINT(114.235707 22.269419)</td>\n",
       "      <td>http://www.ha.org.hk/visitor/ha_visitor_index....</td>\n",
       "      <td>http://www.ha.org.hk/visitor/ha_visitor_index....</td>\n",
       "      <td>http://www.ha.org.hk/visitor/ha_visitor_index....</td>\n",
       "      <td>3</td>\n",
       "      <td>東區尤德夫人那打素醫院</td>\n",
       "      <td>Pamela Youde Nethersole Eastern Hospital</td>\n",
       "      <td>东区尤德夫人那打素医院</td>\n",
       "      <td>21/2/2019 12:00pm</td>\n",
       "    </tr>\n",
       "  </tbody>\n",
       "</table>\n",
       "</div>"
      ],
      "text/plain": [
       "                      id    seq topWait                 hospTime  \\\n",
       "0   QMH 21/2/2019 9:00am  HK-02     > 2   2019-02-21T09:00:09.29   \n",
       "1  AHN 21/2/2019 10:00am  NT-01     > 1  2019-02-21T10:00:01.783   \n",
       "2  QMH 21/2/2019 11:00am  HK-02     > 1  2019-02-21T11:00:11.893   \n",
       "3  AHN 21/2/2019 12:00pm  NT-01     > 1  2019-02-21T12:00:02.256   \n",
       "4  PYN 21/2/2019 12:00pm  HK-01     > 3  2019-02-21T12:00:01.646   \n",
       "\n",
       "                     hospCoord  \\\n",
       "0  POINT(114.131259 22.270695)   \n",
       "1   POINT(114.17472 22.458575)   \n",
       "2  POINT(114.131259 22.270695)   \n",
       "3   POINT(114.17472 22.458575)   \n",
       "4  POINT(114.235707 22.269419)   \n",
       "\n",
       "                                           hospUrlB5  \\\n",
       "0  http://www.ha.org.hk/visitor/ha_visitor_index....   \n",
       "1  http://www.ha.org.hk/visitor/ha_visitor_index....   \n",
       "2  http://www.ha.org.hk/visitor/ha_visitor_index....   \n",
       "3  http://www.ha.org.hk/visitor/ha_visitor_index....   \n",
       "4  http://www.ha.org.hk/visitor/ha_visitor_index....   \n",
       "\n",
       "                                           hospUrlEn  \\\n",
       "0  http://www.ha.org.hk/visitor/ha_visitor_index....   \n",
       "1  http://www.ha.org.hk/visitor/ha_visitor_index....   \n",
       "2  http://www.ha.org.hk/visitor/ha_visitor_index....   \n",
       "3  http://www.ha.org.hk/visitor/ha_visitor_index....   \n",
       "4  http://www.ha.org.hk/visitor/ha_visitor_index....   \n",
       "\n",
       "                                           hospUrlGb  pastHours   hospNameB5  \\\n",
       "0  http://www.ha.org.hk/visitor/ha_visitor_index....          3         瑪麗醫院   \n",
       "1  http://www.ha.org.hk/visitor/ha_visitor_index....          3  雅麗氏何妙齡那打素醫院   \n",
       "2  http://www.ha.org.hk/visitor/ha_visitor_index....          3         瑪麗醫院   \n",
       "3  http://www.ha.org.hk/visitor/ha_visitor_index....          3  雅麗氏何妙齡那打素醫院   \n",
       "4  http://www.ha.org.hk/visitor/ha_visitor_index....          3  東區尤德夫人那打素醫院   \n",
       "\n",
       "                                 hospNameEn   hospNameGb         hospTimeEn  \n",
       "0                       Queen Mary Hospital         玛丽医院   21/2/2019 9:00am  \n",
       "1     Alice Ho Miu Ling Nethersole Hospital  雅丽氏何妙龄那打素医院  21/2/2019 10:00am  \n",
       "2                       Queen Mary Hospital         玛丽医院  21/2/2019 11:00am  \n",
       "3     Alice Ho Miu Ling Nethersole Hospital  雅丽氏何妙龄那打素医院  21/2/2019 12:00pm  \n",
       "4  Pamela Youde Nethersole Eastern Hospital  东区尤德夫人那打素医院  21/2/2019 12:00pm  "
      ]
     },
     "execution_count": 115,
     "metadata": {},
     "output_type": "execute_result"
    }
   ],
   "source": [
    "df = pd.read_csv(DATA/'ae_data.csv')\n",
    "df.head()"
   ]
  },
  {
   "cell_type": "code",
   "execution_count": 116,
   "metadata": {},
   "outputs": [
    {
     "data": {
      "text/html": [
       "<div>\n",
       "<style scoped>\n",
       "    .dataframe tbody tr th:only-of-type {\n",
       "        vertical-align: middle;\n",
       "    }\n",
       "\n",
       "    .dataframe tbody tr th {\n",
       "        vertical-align: top;\n",
       "    }\n",
       "\n",
       "    .dataframe thead th {\n",
       "        text-align: right;\n",
       "    }\n",
       "</style>\n",
       "<table border=\"1\" class=\"dataframe\">\n",
       "  <thead>\n",
       "    <tr style=\"text-align: right;\">\n",
       "      <th></th>\n",
       "      <th>Long</th>\n",
       "      <th>Lat</th>\n",
       "    </tr>\n",
       "  </thead>\n",
       "  <tbody>\n",
       "    <tr>\n",
       "      <th>0</th>\n",
       "      <td>114.131259</td>\n",
       "      <td>22.270695</td>\n",
       "    </tr>\n",
       "    <tr>\n",
       "      <th>1</th>\n",
       "      <td>114.17472</td>\n",
       "      <td>22.458575</td>\n",
       "    </tr>\n",
       "    <tr>\n",
       "      <th>2</th>\n",
       "      <td>114.131259</td>\n",
       "      <td>22.270695</td>\n",
       "    </tr>\n",
       "    <tr>\n",
       "      <th>3</th>\n",
       "      <td>114.17472</td>\n",
       "      <td>22.458575</td>\n",
       "    </tr>\n",
       "    <tr>\n",
       "      <th>4</th>\n",
       "      <td>114.235707</td>\n",
       "      <td>22.269419</td>\n",
       "    </tr>\n",
       "  </tbody>\n",
       "</table>\n",
       "</div>"
      ],
      "text/plain": [
       "         Long        Lat\n",
       "0  114.131259  22.270695\n",
       "1   114.17472  22.458575\n",
       "2  114.131259  22.270695\n",
       "3   114.17472  22.458575\n",
       "4  114.235707  22.269419"
      ]
     },
     "execution_count": 116,
     "metadata": {},
     "output_type": "execute_result"
    }
   ],
   "source": [
    "x=df['hospCoord'].str.extract(r'\\((.+)\\)')[0].str.split().tolist()\n",
    "x=pd.DataFrame(x, columns=['Long', 'Lat'])\n",
    "x.head()"
   ]
  },
  {
   "cell_type": "code",
   "execution_count": 117,
   "metadata": {},
   "outputs": [],
   "source": [
    "df = pd.concat([df, x],axis=1)"
   ]
  },
  {
   "cell_type": "code",
   "execution_count": 118,
   "metadata": {},
   "outputs": [
    {
     "name": "stderr",
     "output_type": "stream",
     "text": [
      "C:\\Users\\lrcno\\AppData\\Local\\Continuum\\anaconda3\\lib\\site-packages\\ipykernel_launcher.py:3: SettingWithCopyWarning: \n",
      "A value is trying to be set on a copy of a slice from a DataFrame\n",
      "\n",
      "See the caveats in the documentation: http://pandas.pydata.org/pandas-docs/stable/indexing.html#indexing-view-versus-copy\n",
      "  This is separate from the ipykernel package so we can avoid doing imports until\n"
     ]
    }
   ],
   "source": [
    "df['topWaitTime'] = df['topWait'].copy()\n",
    "df['topWaitTime']  = df['topWaitTime'].str.replace('> ', '')\n",
    "df['topWaitTime'][df['topWaitTime']== '< 1'] = 0.5\n",
    "df['topWaitTime'] = df['topWaitTime'].fillna(0)\n",
    "df['topWaitTime'] = df['topWaitTime'].astype(float)"
   ]
  },
  {
   "cell_type": "code",
   "execution_count": 119,
   "metadata": {},
   "outputs": [],
   "source": [
    "df['hospTime'] = pd.to_datetime(df['hospTime'])\n",
    "df['hospTimeHour'] = df['hospTime'].dt.hour\n",
    "df['hospTimeWeek'] = df['hospTime'].dt.week\n",
    "df['hospTimeDay'] = df['hospTime'].dt.day\n",
    "df['hospTimeYear'] = df['hospTime'].dt.year\n",
    "df['hospTimeMonth'] = df['hospTime'].dt.month \n",
    "df['hospTimeWeekDay'] = df['hospTime'].dt.weekday + 1\n",
    "df['hospTimeWeekDayName'] = df['hospTime'].dt.weekday_name\n",
    "# df['hospTimeDate'] = df['hospTime'].dt.date"
   ]
  },
  {
   "cell_type": "code",
   "execution_count": 120,
   "metadata": {},
   "outputs": [],
   "source": [
    "df= df[['hospTime','Long', 'Lat','hospTimeWeek','hospTimeWeekDay', 'hospNameEn','hospNameB5','topWaitTime','hospTimeMonth']]"
   ]
  },
  {
   "cell_type": "markdown",
   "metadata": {},
   "source": [
    "# Map"
   ]
  },
  {
   "cell_type": "code",
   "execution_count": 121,
   "metadata": {},
   "outputs": [],
   "source": [
    "# HKG Gov https://www.landsd.gov.hk/mapping/en/news/image/7p_itrf96_hk80_v1.pdf\n",
    "import altair as alt\n",
    "from vega_datasets import data\n",
    "\n",
    "hk_map = 'https://raw.githubusercontent.com/ywng/d3-js-map-hong-kong/master/HKG_adm.json'\n",
    "map = alt.topo_feature(hk_map, feature='HKG_adm1_1')\n",
    "background = alt.Chart(map).mark_geoshape(\n",
    "    fill='lightgray',\n",
    "    stroke='white'\n",
    ").properties(\n",
    "    width=500,\n",
    "    height=300\n",
    ").project('mercator')\n",
    "background.title = 'Hong Kong Hospitals'\n",
    "background.save('hk_map_background.html')"
   ]
  },
  {
   "cell_type": "code",
   "execution_count": 122,
   "metadata": {},
   "outputs": [
    {
     "data": {
      "application/javascript": [
       "var spec = {\"config\": {\"view\": {\"width\": 400, \"height\": 300}}, \"layer\": [{\"data\": {\"url\": \"https://raw.githubusercontent.com/ywng/d3-js-map-hong-kong/master/HKG_adm.json\", \"format\": {\"feature\": \"HKG_adm1_1\", \"type\": \"topojson\"}}, \"mark\": {\"type\": \"geoshape\", \"fill\": \"lightgray\", \"stroke\": \"white\"}, \"height\": 300, \"projection\": {\"type\": \"mercator\"}, \"title\": \"Hong Kong Hospitals\", \"width\": 500}, {\"data\": {\"url\": \"altair-data-0718b46623c61b7f46ecc2417104bb95.json\", \"format\": {\"type\": \"json\"}}, \"mark\": \"circle\", \"encoding\": {\"color\": {\"value\": \"steelblue\"}, \"latitude\": {\"field\": \"Lat\", \"type\": \"quantitative\"}, \"longitude\": {\"field\": \"Long\", \"type\": \"quantitative\"}, \"size\": {\"value\": 50}, \"tooltip\": [{\"type\": \"nominal\", \"field\": \"hospNameB5\"}, {\"type\": \"nominal\", \"field\": \"hospNameEn\"}]}}], \"$schema\": \"https://vega.github.io/schema/vega-lite/v3.0.2.json\"};\n",
       "var opt = {};\n",
       "var type = \"vega-lite\";\n",
       "var id = \"d5c56626-d804-434a-8d18-40b3493b0e47\";\n",
       "\n",
       "var output_area = this;\n",
       "\n",
       "require([\"nbextensions/jupyter-vega/index\"], function(vega) {\n",
       "  var target = document.createElement(\"div\");\n",
       "  target.id = id;\n",
       "  target.className = \"vega-embed\";\n",
       "\n",
       "  var style = document.createElement(\"style\");\n",
       "  style.textContent = [\n",
       "    \".vega-embed .error p {\",\n",
       "    \"  color: firebrick;\",\n",
       "    \"  font-size: 14px;\",\n",
       "    \"}\",\n",
       "  ].join(\"\\\\n\");\n",
       "\n",
       "  // element is a jQuery wrapped DOM element inside the output area\n",
       "  // see http://ipython.readthedocs.io/en/stable/api/generated/\\\n",
       "  // IPython.display.html#IPython.display.Javascript.__init__\n",
       "  element[0].appendChild(target);\n",
       "  element[0].appendChild(style);\n",
       "\n",
       "  vega.render(\"#\" + id, spec, type, opt, output_area);\n",
       "}, function (err) {\n",
       "  if (err.requireType !== \"scripterror\") {\n",
       "    throw(err);\n",
       "  }\n",
       "});\n"
      ],
      "text/plain": [
       "<vega.vegalite.VegaLite at 0x2414ad835c0>"
      ]
     },
     "metadata": {
      "jupyter-vega": "#d5c56626-d804-434a-8d18-40b3493b0e47"
     },
     "output_type": "display_data"
    },
    {
     "data": {
      "text/plain": []
     },
     "execution_count": 122,
     "metadata": {},
     "output_type": "execute_result"
    },
    {
     "data": {
      "image/png": "[encoded data removed]"
     },
     "metadata": {
      "jupyter-vega": "#d5c56626-d804-434a-8d18-40b3493b0e47"
     },
     "output_type": "display_data"
    }
   ],
   "source": [
    "# airport positions on background\n",
    "points = alt.Chart(df).mark_circle().encode(\n",
    "    longitude='Long:Q',\n",
    "    latitude='Lat:Q',\n",
    "    size=alt.value(50),\n",
    "    color=alt.value('steelblue'),\n",
    "    tooltip=['hospNameB5', 'hospNameEn']\n",
    ")\n",
    "\n",
    "points.save('hk_map_points.html')\n",
    "demo1 = background|points& background+points\n",
    "demo1.save('demo1.html')\n",
    "\n",
    "hk_map_hospital = background + points\n",
    "hk_map_hospital\n"
   ]
  },
  {
   "cell_type": "code",
   "execution_count": 17,
   "metadata": {},
   "outputs": [
    {
     "data": {
      "application/javascript": [
       "var spec = {\"config\": {\"view\": {\"width\": 400, \"height\": 300}}, \"data\": {\"url\": \"altair-data-0718b46623c61b7f46ecc2417104bb95.json\", \"format\": {\"type\": \"json\"}}, \"mark\": \"circle\", \"encoding\": {\"color\": {\"value\": \"steelblue\"}, \"latitude\": {\"field\": \"Lat\", \"type\": \"quantitative\"}, \"longitude\": {\"field\": \"Long\", \"type\": \"quantitative\"}, \"size\": {\"type\": \"quantitative\", \"aggregate\": \"mean\", \"field\": \"topWaitTime\"}}, \"projection\": {\"type\": \"mercator\"}, \"$schema\": \"https://vega.github.io/schema/vega-lite/v3.0.2.json\"};\n",
       "var opt = {};\n",
       "var type = \"vega-lite\";\n",
       "var id = \"c2e7b0a3-0dff-46cd-9deb-42ac87a749e2\";\n",
       "\n",
       "var output_area = this;\n",
       "\n",
       "require([\"nbextensions/jupyter-vega/index\"], function(vega) {\n",
       "  var target = document.createElement(\"div\");\n",
       "  target.id = id;\n",
       "  target.className = \"vega-embed\";\n",
       "\n",
       "  var style = document.createElement(\"style\");\n",
       "  style.textContent = [\n",
       "    \".vega-embed .error p {\",\n",
       "    \"  color: firebrick;\",\n",
       "    \"  font-size: 14px;\",\n",
       "    \"}\",\n",
       "  ].join(\"\\\\n\");\n",
       "\n",
       "  // element is a jQuery wrapped DOM element inside the output area\n",
       "  // see http://ipython.readthedocs.io/en/stable/api/generated/\\\n",
       "  // IPython.display.html#IPython.display.Javascript.__init__\n",
       "  element[0].appendChild(target);\n",
       "  element[0].appendChild(style);\n",
       "\n",
       "  vega.render(\"#\" + id, spec, type, opt, output_area);\n",
       "}, function (err) {\n",
       "  if (err.requireType !== \"scripterror\") {\n",
       "    throw(err);\n",
       "  }\n",
       "});\n"
      ],
      "text/plain": [
       "<vega.vegalite.VegaLite at 0x24147039198>"
      ]
     },
     "metadata": {
      "jupyter-vega": "#c2e7b0a3-0dff-46cd-9deb-42ac87a749e2"
     },
     "output_type": "display_data"
    },
    {
     "data": {
      "text/plain": []
     },
     "execution_count": 17,
     "metadata": {},
     "output_type": "execute_result"
    },
    {
     "data": {
      "image/png": "[encoded data removed]"
     },
     "metadata": {
      "jupyter-vega": "#c2e7b0a3-0dff-46cd-9deb-42ac87a749e2"
     },
     "output_type": "display_data"
    }
   ],
   "source": [
    "alt.Chart(df).mark_circle().encode(\n",
    "    longitude='Long:Q',\n",
    "    latitude='Lat:Q',\n",
    "    size='mean(topWaitTime)',\n",
    "    color=alt.value('steelblue')\n",
    ").project('mercator')"
   ]
  },
  {
   "cell_type": "code",
   "execution_count": null,
   "metadata": {},
   "outputs": [],
   "source": []
  },
  {
   "cell_type": "markdown",
   "metadata": {},
   "source": [
    "# US "
   ]
  },
  {
   "cell_type": "code",
   "execution_count": 28,
   "metadata": {},
   "outputs": [],
   "source": [
    "import altair as alt\n",
    "from vega_datasets import data\n",
    "\n",
    "states = alt.topo_feature(data.us_10m.url, 'states')\n",
    "capitals = data.us_state_capitals.url"
   ]
  },
  {
   "cell_type": "code",
   "execution_count": 29,
   "metadata": {},
   "outputs": [
    {
     "data": {
      "text/plain": [
       "'https://vega.github.io/vega-datasets/data/us-state-capitals.json'"
      ]
     },
     "execution_count": 29,
     "metadata": {},
     "output_type": "execute_result"
    }
   ],
   "source": [
    "capitals"
   ]
  },
  {
   "cell_type": "code",
   "execution_count": null,
   "metadata": {},
   "outputs": [],
   "source": [
    "import altair as alt\n",
    "from vega_datasets import data\n",
    "\n",
    "counties = alt.topo_feature(data.us_10m.url, 'counties')\n",
    "source = data.unemployment.url\n",
    "\n",
    "alt.Chart(counties).mark_geoshape().project(\n",
    "    type='albersUsa'\n",
    ").properties(\n",
    "    width=500,\n",
    "    height=300\n",
    ")"
   ]
  },
  {
   "cell_type": "code",
   "execution_count": 43,
   "metadata": {},
   "outputs": [
    {
     "data": {
      "text/plain": [
       "'https://vega.github.io/vega-datasets/data/unemployment.tsv'"
      ]
     },
     "execution_count": 43,
     "metadata": {},
     "output_type": "execute_result"
    }
   ],
   "source": [
    "source"
   ]
  },
  {
   "cell_type": "code",
   "execution_count": 42,
   "metadata": {},
   "outputs": [
    {
     "data": {
      "text/plain": [
       "UrlData({\n",
       "  format: TopoDataFormat({\n",
       "    feature: 'counties',\n",
       "    type: 'topojson'\n",
       "  }),\n",
       "  url: 'https://vega.github.io/vega-datasets/data/us-10m.json'\n",
       "})"
      ]
     },
     "execution_count": 42,
     "metadata": {},
     "output_type": "execute_result"
    }
   ],
   "source": [
    "counties"
   ]
  },
  {
   "cell_type": "code",
   "execution_count": null,
   "metadata": {},
   "outputs": [],
   "source": [
    ".transform_lookup(\n",
    "    lookup='id',\n",
    "    from_=alt.LookupData(source, 'id', ['rate'])"
   ]
  },
  {
   "cell_type": "code",
   "execution_count": null,
   "metadata": {},
   "outputs": [],
   "source": []
  },
  {
   "cell_type": "code",
   "execution_count": null,
   "metadata": {},
   "outputs": [],
   "source": []
  }
 ],
 "metadata": {
  "kernelspec": {
   "display_name": "Python 3",
   "language": "python",
   "name": "python3"
  },
  "language_info": {
   "codemirror_mode": {
    "name": "ipython",
    "version": 3
   },
   "file_extension": ".py",
   "mimetype": "text/x-python",
   "name": "python",
   "nbconvert_exporter": "python",
   "pygments_lexer": "ipython3",
   "version": "3.6.0"
  }
 },
 "nbformat": 4,
 "nbformat_minor": 2
}
